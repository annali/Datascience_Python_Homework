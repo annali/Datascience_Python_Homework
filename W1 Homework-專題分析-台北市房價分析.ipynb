{
 "cells": [
  {
   "cell_type": "markdown",
   "metadata": {},
   "source": [
    "# 專題分析-台北市房價分析"
   ]
  },
  {
   "cell_type": "markdown",
   "metadata": {},
   "source": [
    "### ◉資料來源：政府開放資料平台 - 不動產買賣實價登錄批次資料 (http://data.gov.tw/node/6213) - 台北市資料"
   ]
  },
  {
   "cell_type": "markdown",
   "metadata": {},
   "source": [
    "# 1.資料匯入"
   ]
  },
  {
   "cell_type": "code",
   "execution_count": 1,
   "metadata": {},
   "outputs": [
    {
     "data": {
      "text/html": [
       "<div>\n",
       "<style scoped>\n",
       "    .dataframe tbody tr th:only-of-type {\n",
       "        vertical-align: middle;\n",
       "    }\n",
       "\n",
       "    .dataframe tbody tr th {\n",
       "        vertical-align: top;\n",
       "    }\n",
       "\n",
       "    .dataframe thead th {\n",
       "        text-align: right;\n",
       "    }\n",
       "</style>\n",
       "<table border=\"1\" class=\"dataframe\">\n",
       "  <thead>\n",
       "    <tr style=\"text-align: right;\">\n",
       "      <th></th>\n",
       "      <th>鄉鎮市區</th>\n",
       "      <th>交易標的</th>\n",
       "      <th>土地區段位置或建物區門牌</th>\n",
       "      <th>土地移轉總面積平方公尺</th>\n",
       "      <th>都市土地使用分區</th>\n",
       "      <th>非都市土地使用分區</th>\n",
       "      <th>非都市土地使用編定</th>\n",
       "      <th>交易年月日</th>\n",
       "      <th>交易筆棟數</th>\n",
       "      <th>移轉層次</th>\n",
       "      <th>總樓層數</th>\n",
       "      <th>建物型態</th>\n",
       "      <th>主要用途</th>\n",
       "      <th>主要建材</th>\n",
       "      <th>建築完成年月</th>\n",
       "      <th>建物移轉總面積平方公尺</th>\n",
       "      <th>建物現況格局-房</th>\n",
       "      <th>建物現況格局-廳</th>\n",
       "      <th>建物現況格局-衛</th>\n",
       "      <th>建物現況格局-隔間</th>\n",
       "      <th>有無管理組織</th>\n",
       "      <th>總價元</th>\n",
       "      <th>單價每平方公尺</th>\n",
       "      <th>車位類別</th>\n",
       "      <th>車位移轉總面積平方公尺</th>\n",
       "      <th>車位總價元</th>\n",
       "      <th>備註</th>\n",
       "      <th>編號</th>\n",
       "    </tr>\n",
       "  </thead>\n",
       "  <tbody>\n",
       "    <tr>\n",
       "      <th>553</th>\n",
       "      <td>南港區</td>\n",
       "      <td>房地(土地+建物)+車位</td>\n",
       "      <td>臺北市南港區忠孝東路六段121~150號</td>\n",
       "      <td>5.90</td>\n",
       "      <td>住</td>\n",
       "      <td>NaN</td>\n",
       "      <td>NaN</td>\n",
       "      <td>1060323</td>\n",
       "      <td>土地1建物2車位1</td>\n",
       "      <td>五層</td>\n",
       "      <td>十四層</td>\n",
       "      <td>套房(1房1廳1衛)</td>\n",
       "      <td>住家用</td>\n",
       "      <td>鋼筋混凝土造</td>\n",
       "      <td>1000110.0</td>\n",
       "      <td>47.37</td>\n",
       "      <td>1</td>\n",
       "      <td>1</td>\n",
       "      <td>1</td>\n",
       "      <td>有</td>\n",
       "      <td>有</td>\n",
       "      <td>13000000</td>\n",
       "      <td>274377.0</td>\n",
       "      <td>升降機械</td>\n",
       "      <td>2.07</td>\n",
       "      <td>0</td>\n",
       "      <td>NaN</td>\n",
       "      <td>RPUOMLRJPHMFFDA68CA</td>\n",
       "    </tr>\n",
       "    <tr>\n",
       "      <th>763</th>\n",
       "      <td>大安區</td>\n",
       "      <td>房地(土地+建物)+車位</td>\n",
       "      <td>臺北市大安區大安路一段224巷1~30號</td>\n",
       "      <td>24.70</td>\n",
       "      <td>住</td>\n",
       "      <td>NaN</td>\n",
       "      <td>NaN</td>\n",
       "      <td>1060509</td>\n",
       "      <td>土地1建物1車位1</td>\n",
       "      <td>四層</td>\n",
       "      <td>七層</td>\n",
       "      <td>華廈(10層含以下有電梯)</td>\n",
       "      <td>住家用</td>\n",
       "      <td>鋼筋混凝土造</td>\n",
       "      <td>750627.0</td>\n",
       "      <td>167.30</td>\n",
       "      <td>4</td>\n",
       "      <td>1</td>\n",
       "      <td>2</td>\n",
       "      <td>有</td>\n",
       "      <td>有</td>\n",
       "      <td>42600000</td>\n",
       "      <td>254617.0</td>\n",
       "      <td>坡道平面</td>\n",
       "      <td>2.71</td>\n",
       "      <td>0</td>\n",
       "      <td>NaN</td>\n",
       "      <td>RPPNMLPKOHMFFFA08CA</td>\n",
       "    </tr>\n",
       "    <tr>\n",
       "      <th>95</th>\n",
       "      <td>中山區</td>\n",
       "      <td>房地(土地+建物)</td>\n",
       "      <td>臺北市中山區天祥路1~30號</td>\n",
       "      <td>12.82</td>\n",
       "      <td>住</td>\n",
       "      <td>NaN</td>\n",
       "      <td>NaN</td>\n",
       "      <td>1030924</td>\n",
       "      <td>土地2建物1車位0</td>\n",
       "      <td>六層</td>\n",
       "      <td>十二層</td>\n",
       "      <td>住宅大樓(11層含以上有電梯)</td>\n",
       "      <td>住家用</td>\n",
       "      <td>鋼筋混凝土造</td>\n",
       "      <td>1050914.0</td>\n",
       "      <td>69.48</td>\n",
       "      <td>1</td>\n",
       "      <td>1</td>\n",
       "      <td>1</td>\n",
       "      <td>有</td>\n",
       "      <td>有</td>\n",
       "      <td>20210000</td>\n",
       "      <td>290875.0</td>\n",
       "      <td>NaN</td>\n",
       "      <td>0.00</td>\n",
       "      <td>0</td>\n",
       "      <td>NaN</td>\n",
       "      <td>RPVOMLLJOHMFFCA97CA</td>\n",
       "    </tr>\n",
       "    <tr>\n",
       "      <th>130</th>\n",
       "      <td>松山區</td>\n",
       "      <td>房地(土地+建物)</td>\n",
       "      <td>臺北市松山區南京東路五段291巷5弄1~30號</td>\n",
       "      <td>23.74</td>\n",
       "      <td>住</td>\n",
       "      <td>NaN</td>\n",
       "      <td>NaN</td>\n",
       "      <td>1060426</td>\n",
       "      <td>土地1建物1車位0</td>\n",
       "      <td>四層</td>\n",
       "      <td>五層</td>\n",
       "      <td>公寓(5樓含以下無電梯)</td>\n",
       "      <td>住家用</td>\n",
       "      <td>鋼筋混凝土造</td>\n",
       "      <td>741228.0</td>\n",
       "      <td>93.06</td>\n",
       "      <td>2</td>\n",
       "      <td>2</td>\n",
       "      <td>2</td>\n",
       "      <td>有</td>\n",
       "      <td>無</td>\n",
       "      <td>16650000</td>\n",
       "      <td>178917.0</td>\n",
       "      <td>NaN</td>\n",
       "      <td>0.00</td>\n",
       "      <td>0</td>\n",
       "      <td>NaN</td>\n",
       "      <td>RPPPMLLKPHMFFDA77CA</td>\n",
       "    </tr>\n",
       "    <tr>\n",
       "      <th>490</th>\n",
       "      <td>中山區</td>\n",
       "      <td>房地(土地+建物)</td>\n",
       "      <td>臺北市中山區林森北路107巷61~90號</td>\n",
       "      <td>6.49</td>\n",
       "      <td>商</td>\n",
       "      <td>NaN</td>\n",
       "      <td>NaN</td>\n",
       "      <td>1060524</td>\n",
       "      <td>土地1建物1車位0</td>\n",
       "      <td>四層</td>\n",
       "      <td>七層</td>\n",
       "      <td>套房(1房1廳1衛)</td>\n",
       "      <td>住家用</td>\n",
       "      <td>鋼筋混凝土造</td>\n",
       "      <td>650605.0</td>\n",
       "      <td>37.73</td>\n",
       "      <td>0</td>\n",
       "      <td>0</td>\n",
       "      <td>1</td>\n",
       "      <td>無</td>\n",
       "      <td>有</td>\n",
       "      <td>4850000</td>\n",
       "      <td>128545.0</td>\n",
       "      <td>NaN</td>\n",
       "      <td>0.00</td>\n",
       "      <td>0</td>\n",
       "      <td>NaN</td>\n",
       "      <td>RPRPMLSJOHMFFCA38CA</td>\n",
       "    </tr>\n",
       "  </tbody>\n",
       "</table>\n",
       "</div>"
      ],
      "text/plain": [
       "    鄉鎮市區          交易標的             土地區段位置或建物區門牌  土地移轉總面積平方公尺 都市土地使用分區  \\\n",
       "553  南港區  房地(土地+建物)+車位     臺北市南港區忠孝東路六段121~150號         5.90        住   \n",
       "763  大安區  房地(土地+建物)+車位     臺北市大安區大安路一段224巷1~30號        24.70        住   \n",
       "95   中山區     房地(土地+建物)           臺北市中山區天祥路1~30號        12.82        住   \n",
       "130  松山區     房地(土地+建物)  臺北市松山區南京東路五段291巷5弄1~30號        23.74        住   \n",
       "490  中山區     房地(土地+建物)     臺北市中山區林森北路107巷61~90號         6.49        商   \n",
       "\n",
       "     非都市土地使用分區  非都市土地使用編定    交易年月日      交易筆棟數 移轉層次 總樓層數             建物型態 主要用途  \\\n",
       "553        NaN        NaN  1060323  土地1建物2車位1   五層  十四層       套房(1房1廳1衛)  住家用   \n",
       "763        NaN        NaN  1060509  土地1建物1車位1   四層   七層    華廈(10層含以下有電梯)  住家用   \n",
       "95         NaN        NaN  1030924  土地2建物1車位0   六層  十二層  住宅大樓(11層含以上有電梯)  住家用   \n",
       "130        NaN        NaN  1060426  土地1建物1車位0   四層   五層     公寓(5樓含以下無電梯)  住家用   \n",
       "490        NaN        NaN  1060524  土地1建物1車位0   四層   七層       套房(1房1廳1衛)  住家用   \n",
       "\n",
       "       主要建材     建築完成年月  建物移轉總面積平方公尺  建物現況格局-房  建物現況格局-廳  建物現況格局-衛 建物現況格局-隔間  \\\n",
       "553  鋼筋混凝土造  1000110.0        47.37         1         1         1         有   \n",
       "763  鋼筋混凝土造   750627.0       167.30         4         1         2         有   \n",
       "95   鋼筋混凝土造  1050914.0        69.48         1         1         1         有   \n",
       "130  鋼筋混凝土造   741228.0        93.06         2         2         2         有   \n",
       "490  鋼筋混凝土造   650605.0        37.73         0         0         1         無   \n",
       "\n",
       "    有無管理組織       總價元   單價每平方公尺  車位類別  車位移轉總面積平方公尺  車位總價元   備註  \\\n",
       "553      有  13000000  274377.0  升降機械         2.07      0  NaN   \n",
       "763      有  42600000  254617.0  坡道平面         2.71      0  NaN   \n",
       "95       有  20210000  290875.0   NaN         0.00      0  NaN   \n",
       "130      無  16650000  178917.0   NaN         0.00      0  NaN   \n",
       "490      有   4850000  128545.0   NaN         0.00      0  NaN   \n",
       "\n",
       "                      編號  \n",
       "553  RPUOMLRJPHMFFDA68CA  \n",
       "763  RPPNMLPKOHMFFFA08CA  \n",
       "95   RPVOMLLJOHMFFCA97CA  \n",
       "130  RPPPMLLKPHMFFDA77CA  \n",
       "490  RPRPMLSJOHMFFCA38CA  "
      ]
     },
     "execution_count": 1,
     "metadata": {},
     "output_type": "execute_result"
    }
   ],
   "source": [
    "import pandas as pd\n",
    "import numpy as np\n",
    "import matplotlib.pyplot as plt\n",
    "\n",
    "\n",
    "%matplotlib inline\n",
    "plt.style.use('ggplot')\n",
    "plt.rcParams['font.family']='SimHei' #顯示中文\n",
    "plt.rcParams['axes.unicode_minus']=False #正常顯示負號\n",
    "\n",
    "pd.set_option(\"display.max_columns\",50) #設定pandas最多顯示出50個欄位資訊\n",
    "\n",
    "df = pd.read_csv('A_LVR_LAND_A.csv', encoding='big5') #台北市\n",
    "df.sample(5) #隨機取其中5筆資料"
   ]
  },
  {
   "cell_type": "markdown",
   "metadata": {},
   "source": [
    "### ▲欄位摘要"
   ]
  },
  {
   "cell_type": "code",
   "execution_count": 2,
   "metadata": {},
   "outputs": [
    {
     "name": "stdout",
     "output_type": "stream",
     "text": [
      "<class 'pandas.core.frame.DataFrame'>\n",
      "RangeIndex: 841 entries, 0 to 840\n",
      "Data columns (total 28 columns):\n",
      "鄉鎮市區            841 non-null object\n",
      "交易標的            841 non-null object\n",
      "土地區段位置或建物區門牌    841 non-null object\n",
      "土地移轉總面積平方公尺     841 non-null float64\n",
      "都市土地使用分區        829 non-null object\n",
      "非都市土地使用分區       0 non-null float64\n",
      "非都市土地使用編定       0 non-null float64\n",
      "交易年月日           841 non-null int64\n",
      "交易筆棟數           841 non-null object\n",
      "移轉層次            776 non-null object\n",
      "總樓層數            774 non-null object\n",
      "建物型態            841 non-null object\n",
      "主要用途            747 non-null object\n",
      "主要建材            775 non-null object\n",
      "建築完成年月          679 non-null float64\n",
      "建物移轉總面積平方公尺     841 non-null float64\n",
      "建物現況格局-房        841 non-null int64\n",
      "建物現況格局-廳        841 non-null int64\n",
      "建物現況格局-衛        841 non-null int64\n",
      "建物現況格局-隔間       841 non-null object\n",
      "有無管理組織          841 non-null object\n",
      "總價元             841 non-null int64\n",
      "單價每平方公尺         796 non-null float64\n",
      "車位類別            260 non-null object\n",
      "車位移轉總面積平方公尺     841 non-null float64\n",
      "車位總價元           841 non-null int64\n",
      "備註              406 non-null object\n",
      "編號              841 non-null object\n",
      "dtypes: float64(7), int64(6), object(15)\n",
      "memory usage: 184.0+ KB\n"
     ]
    }
   ],
   "source": [
    "df.info()"
   ]
  },
  {
   "cell_type": "markdown",
   "metadata": {},
   "source": [
    "### ▲各欄位遺失值統計"
   ]
  },
  {
   "cell_type": "code",
   "execution_count": 3,
   "metadata": {},
   "outputs": [
    {
     "data": {
      "text/html": [
       "<div>\n",
       "<style scoped>\n",
       "    .dataframe tbody tr th:only-of-type {\n",
       "        vertical-align: middle;\n",
       "    }\n",
       "\n",
       "    .dataframe tbody tr th {\n",
       "        vertical-align: top;\n",
       "    }\n",
       "\n",
       "    .dataframe thead th {\n",
       "        text-align: right;\n",
       "    }\n",
       "</style>\n",
       "<table border=\"1\" class=\"dataframe\">\n",
       "  <thead>\n",
       "    <tr style=\"text-align: right;\">\n",
       "      <th></th>\n",
       "      <th>筆數</th>\n",
       "      <th>%</th>\n",
       "    </tr>\n",
       "  </thead>\n",
       "  <tbody>\n",
       "    <tr>\n",
       "      <th>非都市土地使用分區</th>\n",
       "      <td>841</td>\n",
       "      <td>100.0</td>\n",
       "    </tr>\n",
       "    <tr>\n",
       "      <th>非都市土地使用編定</th>\n",
       "      <td>841</td>\n",
       "      <td>100.0</td>\n",
       "    </tr>\n",
       "    <tr>\n",
       "      <th>車位類別</th>\n",
       "      <td>581</td>\n",
       "      <td>69.1</td>\n",
       "    </tr>\n",
       "    <tr>\n",
       "      <th>備註</th>\n",
       "      <td>435</td>\n",
       "      <td>51.7</td>\n",
       "    </tr>\n",
       "    <tr>\n",
       "      <th>建築完成年月</th>\n",
       "      <td>162</td>\n",
       "      <td>19.3</td>\n",
       "    </tr>\n",
       "    <tr>\n",
       "      <th>主要用途</th>\n",
       "      <td>94</td>\n",
       "      <td>11.2</td>\n",
       "    </tr>\n",
       "    <tr>\n",
       "      <th>總樓層數</th>\n",
       "      <td>67</td>\n",
       "      <td>8.0</td>\n",
       "    </tr>\n",
       "    <tr>\n",
       "      <th>主要建材</th>\n",
       "      <td>66</td>\n",
       "      <td>7.8</td>\n",
       "    </tr>\n",
       "    <tr>\n",
       "      <th>移轉層次</th>\n",
       "      <td>65</td>\n",
       "      <td>7.7</td>\n",
       "    </tr>\n",
       "    <tr>\n",
       "      <th>單價每平方公尺</th>\n",
       "      <td>45</td>\n",
       "      <td>5.4</td>\n",
       "    </tr>\n",
       "    <tr>\n",
       "      <th>都市土地使用分區</th>\n",
       "      <td>12</td>\n",
       "      <td>1.4</td>\n",
       "    </tr>\n",
       "    <tr>\n",
       "      <th>交易標的</th>\n",
       "      <td>0</td>\n",
       "      <td>0.0</td>\n",
       "    </tr>\n",
       "    <tr>\n",
       "      <th>土地區段位置或建物區門牌</th>\n",
       "      <td>0</td>\n",
       "      <td>0.0</td>\n",
       "    </tr>\n",
       "    <tr>\n",
       "      <th>土地移轉總面積平方公尺</th>\n",
       "      <td>0</td>\n",
       "      <td>0.0</td>\n",
       "    </tr>\n",
       "    <tr>\n",
       "      <th>交易年月日</th>\n",
       "      <td>0</td>\n",
       "      <td>0.0</td>\n",
       "    </tr>\n",
       "  </tbody>\n",
       "</table>\n",
       "</div>"
      ],
      "text/plain": [
       "               筆數      %\n",
       "非都市土地使用分區     841  100.0\n",
       "非都市土地使用編定     841  100.0\n",
       "車位類別          581   69.1\n",
       "備註            435   51.7\n",
       "建築完成年月        162   19.3\n",
       "主要用途           94   11.2\n",
       "總樓層數           67    8.0\n",
       "主要建材           66    7.8\n",
       "移轉層次           65    7.7\n",
       "單價每平方公尺        45    5.4\n",
       "都市土地使用分區       12    1.4\n",
       "交易標的            0    0.0\n",
       "土地區段位置或建物區門牌    0    0.0\n",
       "土地移轉總面積平方公尺     0    0.0\n",
       "交易年月日           0    0.0"
      ]
     },
     "execution_count": 3,
     "metadata": {},
     "output_type": "execute_result"
    }
   ],
   "source": [
    "total = df.isnull().sum().sort_values(ascending=False)\n",
    "percent_1 = df.isnull().sum()/df.isnull().count()*100\n",
    "percent_2 = (round(percent_1, 1)).sort_values(ascending=False)\n",
    "missing_data = pd.concat([total, percent_2], axis=1, keys=['筆數', '%'])\n",
    "missing_data.head(15)"
   ]
  },
  {
   "cell_type": "markdown",
   "metadata": {},
   "source": [
    "### 》結論： 非都市土地使用分區/非都市土地使用編定/車位類別/備註  可於資料預處理時將這些欄位砍掉 \n",
    "初步判斷這些遺失值過多的欄位與此次分析結果的相觀性不高"
   ]
  },
  {
   "cell_type": "markdown",
   "metadata": {},
   "source": [
    "# 2.資料預處理"
   ]
  },
  {
   "cell_type": "markdown",
   "metadata": {},
   "source": [
    "### ▲交易標的：非土地、車位交易"
   ]
  },
  {
   "cell_type": "code",
   "execution_count": 4,
   "metadata": {},
   "outputs": [
    {
     "data": {
      "text/html": [
       "<div>\n",
       "<style scoped>\n",
       "    .dataframe tbody tr th:only-of-type {\n",
       "        vertical-align: middle;\n",
       "    }\n",
       "\n",
       "    .dataframe tbody tr th {\n",
       "        vertical-align: top;\n",
       "    }\n",
       "\n",
       "    .dataframe thead th {\n",
       "        text-align: right;\n",
       "    }\n",
       "</style>\n",
       "<table border=\"1\" class=\"dataframe\">\n",
       "  <thead>\n",
       "    <tr style=\"text-align: right;\">\n",
       "      <th></th>\n",
       "      <th>土地移轉總面積平方公尺</th>\n",
       "      <th>非都市土地使用分區</th>\n",
       "      <th>非都市土地使用編定</th>\n",
       "      <th>交易年月日</th>\n",
       "      <th>建築完成年月</th>\n",
       "      <th>建物移轉總面積平方公尺</th>\n",
       "      <th>建物現況格局-房</th>\n",
       "      <th>建物現況格局-廳</th>\n",
       "      <th>建物現況格局-衛</th>\n",
       "      <th>總價元</th>\n",
       "      <th>單價每平方公尺</th>\n",
       "      <th>車位移轉總面積平方公尺</th>\n",
       "      <th>車位總價元</th>\n",
       "    </tr>\n",
       "    <tr>\n",
       "      <th>交易標的</th>\n",
       "      <th></th>\n",
       "      <th></th>\n",
       "      <th></th>\n",
       "      <th></th>\n",
       "      <th></th>\n",
       "      <th></th>\n",
       "      <th></th>\n",
       "      <th></th>\n",
       "      <th></th>\n",
       "      <th></th>\n",
       "      <th></th>\n",
       "      <th></th>\n",
       "      <th></th>\n",
       "    </tr>\n",
       "  </thead>\n",
       "  <tbody>\n",
       "    <tr>\n",
       "      <th>土地</th>\n",
       "      <td>215.995593</td>\n",
       "      <td>NaN</td>\n",
       "      <td>NaN</td>\n",
       "      <td>1.059181e+06</td>\n",
       "      <td>NaN</td>\n",
       "      <td>0.000000</td>\n",
       "      <td>0.000000</td>\n",
       "      <td>0.000000</td>\n",
       "      <td>0.000000</td>\n",
       "      <td>7.343879e+06</td>\n",
       "      <td>123041.372881</td>\n",
       "      <td>0.000000</td>\n",
       "      <td>0.000000e+00</td>\n",
       "    </tr>\n",
       "    <tr>\n",
       "      <th>建物</th>\n",
       "      <td>0.000000</td>\n",
       "      <td>NaN</td>\n",
       "      <td>NaN</td>\n",
       "      <td>1.054469e+06</td>\n",
       "      <td>941057.222222</td>\n",
       "      <td>80.709000</td>\n",
       "      <td>1.000000</td>\n",
       "      <td>0.600000</td>\n",
       "      <td>1.100000</td>\n",
       "      <td>5.636200e+06</td>\n",
       "      <td>82164.800000</td>\n",
       "      <td>0.000000</td>\n",
       "      <td>0.000000e+00</td>\n",
       "    </tr>\n",
       "    <tr>\n",
       "      <th>房地(土地+建物)</th>\n",
       "      <td>22.567617</td>\n",
       "      <td>NaN</td>\n",
       "      <td>NaN</td>\n",
       "      <td>1.059772e+06</td>\n",
       "      <td>765348.258373</td>\n",
       "      <td>86.596289</td>\n",
       "      <td>2.189453</td>\n",
       "      <td>1.447266</td>\n",
       "      <td>1.380859</td>\n",
       "      <td>1.472509e+07</td>\n",
       "      <td>166718.550781</td>\n",
       "      <td>0.000000</td>\n",
       "      <td>0.000000e+00</td>\n",
       "    </tr>\n",
       "    <tr>\n",
       "      <th>房地(土地+建物)+車位</th>\n",
       "      <td>36.521667</td>\n",
       "      <td>NaN</td>\n",
       "      <td>NaN</td>\n",
       "      <td>1.058768e+06</td>\n",
       "      <td>967275.413953</td>\n",
       "      <td>228.741806</td>\n",
       "      <td>2.430556</td>\n",
       "      <td>1.504630</td>\n",
       "      <td>1.597222</td>\n",
       "      <td>4.283112e+07</td>\n",
       "      <td>191406.018605</td>\n",
       "      <td>34.382361</td>\n",
       "      <td>1.393102e+06</td>\n",
       "    </tr>\n",
       "    <tr>\n",
       "      <th>車位</th>\n",
       "      <td>2.486136</td>\n",
       "      <td>NaN</td>\n",
       "      <td>NaN</td>\n",
       "      <td>1.060058e+06</td>\n",
       "      <td>908492.702703</td>\n",
       "      <td>41.700682</td>\n",
       "      <td>0.000000</td>\n",
       "      <td>0.000000</td>\n",
       "      <td>0.000000</td>\n",
       "      <td>2.502386e+06</td>\n",
       "      <td>NaN</td>\n",
       "      <td>30.595227</td>\n",
       "      <td>2.368295e+06</td>\n",
       "    </tr>\n",
       "  </tbody>\n",
       "</table>\n",
       "</div>"
      ],
      "text/plain": [
       "              土地移轉總面積平方公尺  非都市土地使用分區  非都市土地使用編定         交易年月日         建築完成年月  \\\n",
       "交易標的                                                                           \n",
       "土地             215.995593        NaN        NaN  1.059181e+06            NaN   \n",
       "建物               0.000000        NaN        NaN  1.054469e+06  941057.222222   \n",
       "房地(土地+建物)       22.567617        NaN        NaN  1.059772e+06  765348.258373   \n",
       "房地(土地+建物)+車位    36.521667        NaN        NaN  1.058768e+06  967275.413953   \n",
       "車位               2.486136        NaN        NaN  1.060058e+06  908492.702703   \n",
       "\n",
       "              建物移轉總面積平方公尺  建物現況格局-房  建物現況格局-廳  建物現況格局-衛           總價元  \\\n",
       "交易標的                                                                    \n",
       "土地               0.000000  0.000000  0.000000  0.000000  7.343879e+06   \n",
       "建物              80.709000  1.000000  0.600000  1.100000  5.636200e+06   \n",
       "房地(土地+建物)       86.596289  2.189453  1.447266  1.380859  1.472509e+07   \n",
       "房地(土地+建物)+車位   228.741806  2.430556  1.504630  1.597222  4.283112e+07   \n",
       "車位              41.700682  0.000000  0.000000  0.000000  2.502386e+06   \n",
       "\n",
       "                    單價每平方公尺  車位移轉總面積平方公尺         車位總價元  \n",
       "交易標的                                                    \n",
       "土地            123041.372881     0.000000  0.000000e+00  \n",
       "建物             82164.800000     0.000000  0.000000e+00  \n",
       "房地(土地+建物)     166718.550781     0.000000  0.000000e+00  \n",
       "房地(土地+建物)+車位  191406.018605    34.382361  1.393102e+06  \n",
       "車位                      NaN    30.595227  2.368295e+06  "
      ]
     },
     "execution_count": 4,
     "metadata": {},
     "output_type": "execute_result"
    }
   ],
   "source": [
    "df.groupby('交易標的').mean()"
   ]
  },
  {
   "cell_type": "markdown",
   "metadata": {},
   "source": [
    "### ▲都市土地使用分區：住、其他、商、工、農"
   ]
  },
  {
   "cell_type": "code",
   "execution_count": 5,
   "metadata": {},
   "outputs": [
    {
     "data": {
      "text/html": [
       "<div>\n",
       "<style scoped>\n",
       "    .dataframe tbody tr th:only-of-type {\n",
       "        vertical-align: middle;\n",
       "    }\n",
       "\n",
       "    .dataframe tbody tr th {\n",
       "        vertical-align: top;\n",
       "    }\n",
       "\n",
       "    .dataframe thead th {\n",
       "        text-align: right;\n",
       "    }\n",
       "</style>\n",
       "<table border=\"1\" class=\"dataframe\">\n",
       "  <thead>\n",
       "    <tr style=\"text-align: right;\">\n",
       "      <th></th>\n",
       "      <th>土地移轉總面積平方公尺</th>\n",
       "      <th>非都市土地使用分區</th>\n",
       "      <th>非都市土地使用編定</th>\n",
       "      <th>交易年月日</th>\n",
       "      <th>建築完成年月</th>\n",
       "      <th>建物移轉總面積平方公尺</th>\n",
       "      <th>建物現況格局-房</th>\n",
       "      <th>建物現況格局-廳</th>\n",
       "      <th>建物現況格局-衛</th>\n",
       "      <th>總價元</th>\n",
       "      <th>單價每平方公尺</th>\n",
       "      <th>車位移轉總面積平方公尺</th>\n",
       "      <th>車位總價元</th>\n",
       "    </tr>\n",
       "    <tr>\n",
       "      <th>都市土地使用分區</th>\n",
       "      <th></th>\n",
       "      <th></th>\n",
       "      <th></th>\n",
       "      <th></th>\n",
       "      <th></th>\n",
       "      <th></th>\n",
       "      <th></th>\n",
       "      <th></th>\n",
       "      <th></th>\n",
       "      <th></th>\n",
       "      <th></th>\n",
       "      <th></th>\n",
       "      <th></th>\n",
       "    </tr>\n",
       "  </thead>\n",
       "  <tbody>\n",
       "    <tr>\n",
       "      <th>住</th>\n",
       "      <td>33.650335</td>\n",
       "      <td>NaN</td>\n",
       "      <td>NaN</td>\n",
       "      <td>1.059414e+06</td>\n",
       "      <td>819776.175127</td>\n",
       "      <td>119.547987</td>\n",
       "      <td>2.358491</td>\n",
       "      <td>1.490566</td>\n",
       "      <td>1.433962</td>\n",
       "      <td>2.076854e+07</td>\n",
       "      <td>167962.145695</td>\n",
       "      <td>10.427883</td>\n",
       "      <td>4.271384e+05</td>\n",
       "    </tr>\n",
       "    <tr>\n",
       "      <th>其他</th>\n",
       "      <td>121.896582</td>\n",
       "      <td>NaN</td>\n",
       "      <td>NaN</td>\n",
       "      <td>1.059361e+06</td>\n",
       "      <td>863087.157895</td>\n",
       "      <td>70.172405</td>\n",
       "      <td>0.797468</td>\n",
       "      <td>0.582278</td>\n",
       "      <td>0.569620</td>\n",
       "      <td>1.266451e+07</td>\n",
       "      <td>120907.200000</td>\n",
       "      <td>7.432025</td>\n",
       "      <td>2.351899e+05</td>\n",
       "    </tr>\n",
       "    <tr>\n",
       "      <th>商</th>\n",
       "      <td>15.158623</td>\n",
       "      <td>NaN</td>\n",
       "      <td>NaN</td>\n",
       "      <td>1.059629e+06</td>\n",
       "      <td>857005.548387</td>\n",
       "      <td>104.563117</td>\n",
       "      <td>1.753036</td>\n",
       "      <td>1.194332</td>\n",
       "      <td>1.246964</td>\n",
       "      <td>2.158200e+07</td>\n",
       "      <td>194409.745763</td>\n",
       "      <td>8.087004</td>\n",
       "      <td>5.162348e+05</td>\n",
       "    </tr>\n",
       "    <tr>\n",
       "      <th>工</th>\n",
       "      <td>52.205909</td>\n",
       "      <td>NaN</td>\n",
       "      <td>NaN</td>\n",
       "      <td>1.059568e+06</td>\n",
       "      <td>934172.850000</td>\n",
       "      <td>309.543636</td>\n",
       "      <td>1.136364</td>\n",
       "      <td>0.636364</td>\n",
       "      <td>0.681818</td>\n",
       "      <td>4.634864e+07</td>\n",
       "      <td>142978.388889</td>\n",
       "      <td>41.173636</td>\n",
       "      <td>1.777273e+06</td>\n",
       "    </tr>\n",
       "    <tr>\n",
       "      <th>農</th>\n",
       "      <td>430.670000</td>\n",
       "      <td>NaN</td>\n",
       "      <td>NaN</td>\n",
       "      <td>1.060426e+06</td>\n",
       "      <td>NaN</td>\n",
       "      <td>0.000000</td>\n",
       "      <td>0.000000</td>\n",
       "      <td>0.000000</td>\n",
       "      <td>0.000000</td>\n",
       "      <td>1.511723e+07</td>\n",
       "      <td>40607.500000</td>\n",
       "      <td>0.000000</td>\n",
       "      <td>0.000000e+00</td>\n",
       "    </tr>\n",
       "  </tbody>\n",
       "</table>\n",
       "</div>"
      ],
      "text/plain": [
       "          土地移轉總面積平方公尺  非都市土地使用分區  非都市土地使用編定         交易年月日         建築完成年月  \\\n",
       "都市土地使用分區                                                                   \n",
       "住           33.650335        NaN        NaN  1.059414e+06  819776.175127   \n",
       "其他         121.896582        NaN        NaN  1.059361e+06  863087.157895   \n",
       "商           15.158623        NaN        NaN  1.059629e+06  857005.548387   \n",
       "工           52.205909        NaN        NaN  1.059568e+06  934172.850000   \n",
       "農          430.670000        NaN        NaN  1.060426e+06            NaN   \n",
       "\n",
       "          建物移轉總面積平方公尺  建物現況格局-房  建物現況格局-廳  建物現況格局-衛           總價元  \\\n",
       "都市土地使用分區                                                            \n",
       "住          119.547987  2.358491  1.490566  1.433962  2.076854e+07   \n",
       "其他          70.172405  0.797468  0.582278  0.569620  1.266451e+07   \n",
       "商          104.563117  1.753036  1.194332  1.246964  2.158200e+07   \n",
       "工          309.543636  1.136364  0.636364  0.681818  4.634864e+07   \n",
       "農            0.000000  0.000000  0.000000  0.000000  1.511723e+07   \n",
       "\n",
       "                單價每平方公尺  車位移轉總面積平方公尺         車位總價元  \n",
       "都市土地使用分區                                            \n",
       "住         167962.145695    10.427883  4.271384e+05  \n",
       "其他        120907.200000     7.432025  2.351899e+05  \n",
       "商         194409.745763     8.087004  5.162348e+05  \n",
       "工         142978.388889    41.173636  1.777273e+06  \n",
       "農          40607.500000     0.000000  0.000000e+00  "
      ]
     },
     "execution_count": 5,
     "metadata": {},
     "output_type": "execute_result"
    }
   ],
   "source": [
    "df.groupby('都市土地使用分區').mean()"
   ]
  },
  {
   "cell_type": "code",
   "execution_count": 6,
   "metadata": {},
   "outputs": [],
   "source": [
    "df['都市土地使用分區'] = df['都市土地使用分區'].replace({'住':1,'其他':2,'商':3,\n",
    "                                '工':4,'農':5})"
   ]
  },
  {
   "cell_type": "markdown",
   "metadata": {},
   "source": [
    "### ▲建物型態"
   ]
  },
  {
   "cell_type": "code",
   "execution_count": 7,
   "metadata": {},
   "outputs": [],
   "source": [
    "#df.groupby('建物型態').mean()"
   ]
  },
  {
   "cell_type": "markdown",
   "metadata": {},
   "source": [
    "### ▲建物型態轉換"
   ]
  },
  {
   "cell_type": "code",
   "execution_count": 8,
   "metadata": {},
   "outputs": [],
   "source": [
    "#df['建物型態'] = df['建物型態'].replace({'住宅大樓(11層含以上有電梯)':1,'倉庫':2,'公寓(5樓含以下無電梯)':3,\n",
    "#                                '其他':4,'套房(1房1廳1衛)':5,'店面(店鋪)':6,'廠辦':7,'華廈(10層含以下有電梯)':8,\n",
    "#                                 '辦公商業大樓':9,'透天厝':10})"
   ]
  },
  {
   "cell_type": "code",
   "execution_count": 9,
   "metadata": {},
   "outputs": [],
   "source": [
    "# 去除土地和車位兩種交易資料\n",
    "# df = df[(df['交易標的']!='土地') & (df['交易標的']!='車位')].reset_index(drop=True)"
   ]
  },
  {
   "cell_type": "code",
   "execution_count": 10,
   "metadata": {},
   "outputs": [],
   "source": [
    "df.loc[:,'總價元'] = df.loc[:,'總價元']/10000 #改成以萬為單位，方便圖表顯示"
   ]
  },
  {
   "cell_type": "code",
   "execution_count": 11,
   "metadata": {},
   "outputs": [],
   "source": [
    "#df.sample(1)"
   ]
  },
  {
   "cell_type": "code",
   "execution_count": 12,
   "metadata": {},
   "outputs": [
    {
     "name": "stdout",
     "output_type": "stream",
     "text": [
      "1040303\n",
      "<class 'numpy.int64'>\n"
     ]
    }
   ],
   "source": [
    "print(df.loc[0,'交易年月日'])\n",
    "print(type(df.loc[0,'交易年月日']))"
   ]
  },
  {
   "cell_type": "code",
   "execution_count": 13,
   "metadata": {},
   "outputs": [],
   "source": [
    "for i in range(len(df)):\n",
    "    df.loc[i,'交易年'] = round(df.loc[i,'交易年月日']/10000)"
   ]
  },
  {
   "cell_type": "code",
   "execution_count": 14,
   "metadata": {},
   "outputs": [
    {
     "name": "stdout",
     "output_type": "stream",
     "text": [
      "831111.0\n",
      "<class 'numpy.float64'>\n"
     ]
    }
   ],
   "source": [
    "print(df.loc[0,'建築完成年月'])\n",
    "print(type(df.loc[0,'建築完成年月']))"
   ]
  },
  {
   "cell_type": "code",
   "execution_count": 15,
   "metadata": {},
   "outputs": [
    {
     "data": {
      "text/plain": [
       "2018"
      ]
     },
     "execution_count": 15,
     "metadata": {},
     "output_type": "execute_result"
    }
   ],
   "source": [
    "from datetime import datetime\n",
    "now = datetime.now()\n",
    "now.year #(年,月,日,時,分,秒,微秒) ps: 微秒(microseconds)=1/1000000秒"
   ]
  },
  {
   "cell_type": "code",
   "execution_count": 16,
   "metadata": {},
   "outputs": [],
   "source": [
    "for i in range(len(df)):\n",
    "    df.loc[i,'建築完成年'] = round(df.loc[i,'建築完成年月']/10000)\n",
    "    df.loc[i,'屋齡'] = now.year - 1911 - round(df.loc[i,'建築完成年月']/10000)"
   ]
  },
  {
   "cell_type": "code",
   "execution_count": 17,
   "metadata": {},
   "outputs": [],
   "source": [
    "#df.sample(1)"
   ]
  },
  {
   "cell_type": "markdown",
   "metadata": {},
   "source": [
    "## 2-2.資料探索"
   ]
  },
  {
   "cell_type": "markdown",
   "metadata": {},
   "source": [
    "### ▲各鄉鎮資料筆數"
   ]
  },
  {
   "cell_type": "code",
   "execution_count": 18,
   "metadata": {},
   "outputs": [
    {
     "data": {
      "text/plain": [
       "Text(0,0.5,'資料筆數')"
      ]
     },
     "execution_count": 18,
     "metadata": {},
     "output_type": "execute_result"
    },
    {
     "data": {
      "image/png": "[encoded data removed]",
      "text/plain": [
       "<matplotlib.figure.Figure at 0x109f0a4e0>"
      ]
     },
     "metadata": {},
     "output_type": "display_data"
    }
   ],
   "source": [
    "ax = df.groupby('鄉鎮市區').count().plot(kind='bar',y='編號',figsize=(10,6),fontsize=14,title='各鄉鎮資料筆數')\n",
    "ax.set_ylabel('資料筆數')"
   ]
  },
  {
   "cell_type": "code",
   "execution_count": 19,
   "metadata": {},
   "outputs": [],
   "source": [
    "#df['鄉鎮市區'] = df['鄉鎮市區'].replace({'中山區':1,'中正區':2,'信義區':3,\n",
    "#                                '內湖區':4,'北投區':5,'南港區':6,'士林區':7,'大同區':8,\n",
    "#                                 '大安區':9,'文山區':10,'松山區':11,'萬華區':12})"
   ]
  },
  {
   "cell_type": "code",
   "execution_count": 20,
   "metadata": {},
   "outputs": [],
   "source": [
    "#df"
   ]
  },
  {
   "cell_type": "markdown",
   "metadata": {},
   "source": [
    "## 2-3.相關性分析"
   ]
  },
  {
   "cell_type": "code",
   "execution_count": 21,
   "metadata": {},
   "outputs": [
    {
     "data": {
      "text/html": [
       "<div>\n",
       "<style scoped>\n",
       "    .dataframe tbody tr th:only-of-type {\n",
       "        vertical-align: middle;\n",
       "    }\n",
       "\n",
       "    .dataframe tbody tr th {\n",
       "        vertical-align: top;\n",
       "    }\n",
       "\n",
       "    .dataframe thead th {\n",
       "        text-align: right;\n",
       "    }\n",
       "</style>\n",
       "<table border=\"1\" class=\"dataframe\">\n",
       "  <thead>\n",
       "    <tr style=\"text-align: right;\">\n",
       "      <th></th>\n",
       "      <th>總價元</th>\n",
       "      <th>都市土地使用分區</th>\n",
       "      <th>土地移轉總面積平方公尺</th>\n",
       "      <th>建物移轉總面積平方公尺</th>\n",
       "      <th>建物現況格局-房</th>\n",
       "      <th>建物現況格局-廳</th>\n",
       "      <th>建物現況格局-衛</th>\n",
       "      <th>車位移轉總面積平方公尺</th>\n",
       "      <th>車位總價元</th>\n",
       "      <th>屋齡</th>\n",
       "      <th>建築完成年</th>\n",
       "      <th>交易年</th>\n",
       "    </tr>\n",
       "  </thead>\n",
       "  <tbody>\n",
       "    <tr>\n",
       "      <th>總價元</th>\n",
       "      <td>1.000000</td>\n",
       "      <td>0.050559</td>\n",
       "      <td>0.126101</td>\n",
       "      <td>0.891250</td>\n",
       "      <td>0.122413</td>\n",
       "      <td>0.061610</td>\n",
       "      <td>0.144744</td>\n",
       "      <td>0.405508</td>\n",
       "      <td>0.427849</td>\n",
       "      <td>-0.323922</td>\n",
       "      <td>0.323922</td>\n",
       "      <td>-0.043546</td>\n",
       "    </tr>\n",
       "    <tr>\n",
       "      <th>都市土地使用分區</th>\n",
       "      <td>0.050559</td>\n",
       "      <td>1.000000</td>\n",
       "      <td>0.014329</td>\n",
       "      <td>0.019415</td>\n",
       "      <td>-0.238561</td>\n",
       "      <td>-0.233225</td>\n",
       "      <td>-0.157461</td>\n",
       "      <td>0.029506</td>\n",
       "      <td>0.068544</td>\n",
       "      <td>-0.152892</td>\n",
       "      <td>0.152892</td>\n",
       "      <td>0.027413</td>\n",
       "    </tr>\n",
       "    <tr>\n",
       "      <th>土地移轉總面積平方公尺</th>\n",
       "      <td>0.126101</td>\n",
       "      <td>0.014329</td>\n",
       "      <td>1.000000</td>\n",
       "      <td>0.080073</td>\n",
       "      <td>-0.062838</td>\n",
       "      <td>-0.093540</td>\n",
       "      <td>-0.070646</td>\n",
       "      <td>-0.001123</td>\n",
       "      <td>-0.001243</td>\n",
       "      <td>-0.064461</td>\n",
       "      <td>0.064461</td>\n",
       "      <td>-0.049830</td>\n",
       "    </tr>\n",
       "    <tr>\n",
       "      <th>建物移轉總面積平方公尺</th>\n",
       "      <td>0.891250</td>\n",
       "      <td>0.019415</td>\n",
       "      <td>0.080073</td>\n",
       "      <td>1.000000</td>\n",
       "      <td>0.178242</td>\n",
       "      <td>0.110541</td>\n",
       "      <td>0.164372</td>\n",
       "      <td>0.415497</td>\n",
       "      <td>0.336646</td>\n",
       "      <td>-0.280110</td>\n",
       "      <td>0.280110</td>\n",
       "      <td>-0.045614</td>\n",
       "    </tr>\n",
       "    <tr>\n",
       "      <th>建物現況格局-房</th>\n",
       "      <td>0.122413</td>\n",
       "      <td>-0.238561</td>\n",
       "      <td>-0.062838</td>\n",
       "      <td>0.178242</td>\n",
       "      <td>1.000000</td>\n",
       "      <td>0.752424</td>\n",
       "      <td>0.817762</td>\n",
       "      <td>-0.004503</td>\n",
       "      <td>-0.071236</td>\n",
       "      <td>0.132107</td>\n",
       "      <td>-0.132107</td>\n",
       "      <td>-0.031167</td>\n",
       "    </tr>\n",
       "    <tr>\n",
       "      <th>建物現況格局-廳</th>\n",
       "      <td>0.061610</td>\n",
       "      <td>-0.233225</td>\n",
       "      <td>-0.093540</td>\n",
       "      <td>0.110541</td>\n",
       "      <td>0.752424</td>\n",
       "      <td>1.000000</td>\n",
       "      <td>0.667178</td>\n",
       "      <td>-0.056795</td>\n",
       "      <td>-0.127471</td>\n",
       "      <td>0.091690</td>\n",
       "      <td>-0.091690</td>\n",
       "      <td>-0.005417</td>\n",
       "    </tr>\n",
       "    <tr>\n",
       "      <th>建物現況格局-衛</th>\n",
       "      <td>0.144744</td>\n",
       "      <td>-0.157461</td>\n",
       "      <td>-0.070646</td>\n",
       "      <td>0.164372</td>\n",
       "      <td>0.817762</td>\n",
       "      <td>0.667178</td>\n",
       "      <td>1.000000</td>\n",
       "      <td>-0.010240</td>\n",
       "      <td>-0.069450</td>\n",
       "      <td>0.018843</td>\n",
       "      <td>-0.018843</td>\n",
       "      <td>-0.063467</td>\n",
       "    </tr>\n",
       "    <tr>\n",
       "      <th>車位移轉總面積平方公尺</th>\n",
       "      <td>0.405508</td>\n",
       "      <td>0.029506</td>\n",
       "      <td>-0.001123</td>\n",
       "      <td>0.415497</td>\n",
       "      <td>-0.004503</td>\n",
       "      <td>-0.056795</td>\n",
       "      <td>-0.010240</td>\n",
       "      <td>1.000000</td>\n",
       "      <td>0.772742</td>\n",
       "      <td>-0.458582</td>\n",
       "      <td>0.458582</td>\n",
       "      <td>-0.075538</td>\n",
       "    </tr>\n",
       "    <tr>\n",
       "      <th>車位總價元</th>\n",
       "      <td>0.427849</td>\n",
       "      <td>0.068544</td>\n",
       "      <td>-0.001243</td>\n",
       "      <td>0.336646</td>\n",
       "      <td>-0.071236</td>\n",
       "      <td>-0.127471</td>\n",
       "      <td>-0.069450</td>\n",
       "      <td>0.772742</td>\n",
       "      <td>1.000000</td>\n",
       "      <td>-0.361603</td>\n",
       "      <td>0.361603</td>\n",
       "      <td>-0.041483</td>\n",
       "    </tr>\n",
       "    <tr>\n",
       "      <th>屋齡</th>\n",
       "      <td>-0.323922</td>\n",
       "      <td>-0.152892</td>\n",
       "      <td>-0.064461</td>\n",
       "      <td>-0.280110</td>\n",
       "      <td>0.132107</td>\n",
       "      <td>0.091690</td>\n",
       "      <td>0.018843</td>\n",
       "      <td>-0.458582</td>\n",
       "      <td>-0.361603</td>\n",
       "      <td>1.000000</td>\n",
       "      <td>-1.000000</td>\n",
       "      <td>0.132450</td>\n",
       "    </tr>\n",
       "    <tr>\n",
       "      <th>建築完成年</th>\n",
       "      <td>0.323922</td>\n",
       "      <td>0.152892</td>\n",
       "      <td>0.064461</td>\n",
       "      <td>0.280110</td>\n",
       "      <td>-0.132107</td>\n",
       "      <td>-0.091690</td>\n",
       "      <td>-0.018843</td>\n",
       "      <td>0.458582</td>\n",
       "      <td>0.361603</td>\n",
       "      <td>-1.000000</td>\n",
       "      <td>1.000000</td>\n",
       "      <td>-0.132450</td>\n",
       "    </tr>\n",
       "    <tr>\n",
       "      <th>交易年</th>\n",
       "      <td>-0.043546</td>\n",
       "      <td>0.027413</td>\n",
       "      <td>-0.049830</td>\n",
       "      <td>-0.045614</td>\n",
       "      <td>-0.031167</td>\n",
       "      <td>-0.005417</td>\n",
       "      <td>-0.063467</td>\n",
       "      <td>-0.075538</td>\n",
       "      <td>-0.041483</td>\n",
       "      <td>0.132450</td>\n",
       "      <td>-0.132450</td>\n",
       "      <td>1.000000</td>\n",
       "    </tr>\n",
       "  </tbody>\n",
       "</table>\n",
       "</div>"
      ],
      "text/plain": [
       "                  總價元  都市土地使用分區  土地移轉總面積平方公尺  建物移轉總面積平方公尺  建物現況格局-房  建物現況格局-廳  \\\n",
       "總價元          1.000000  0.050559     0.126101     0.891250  0.122413  0.061610   \n",
       "都市土地使用分區     0.050559  1.000000     0.014329     0.019415 -0.238561 -0.233225   \n",
       "土地移轉總面積平方公尺  0.126101  0.014329     1.000000     0.080073 -0.062838 -0.093540   \n",
       "建物移轉總面積平方公尺  0.891250  0.019415     0.080073     1.000000  0.178242  0.110541   \n",
       "建物現況格局-房     0.122413 -0.238561    -0.062838     0.178242  1.000000  0.752424   \n",
       "建物現況格局-廳     0.061610 -0.233225    -0.093540     0.110541  0.752424  1.000000   \n",
       "建物現況格局-衛     0.144744 -0.157461    -0.070646     0.164372  0.817762  0.667178   \n",
       "車位移轉總面積平方公尺  0.405508  0.029506    -0.001123     0.415497 -0.004503 -0.056795   \n",
       "車位總價元        0.427849  0.068544    -0.001243     0.336646 -0.071236 -0.127471   \n",
       "屋齡          -0.323922 -0.152892    -0.064461    -0.280110  0.132107  0.091690   \n",
       "建築完成年        0.323922  0.152892     0.064461     0.280110 -0.132107 -0.091690   \n",
       "交易年         -0.043546  0.027413    -0.049830    -0.045614 -0.031167 -0.005417   \n",
       "\n",
       "             建物現況格局-衛  車位移轉總面積平方公尺     車位總價元        屋齡     建築完成年       交易年  \n",
       "總價元          0.144744     0.405508  0.427849 -0.323922  0.323922 -0.043546  \n",
       "都市土地使用分區    -0.157461     0.029506  0.068544 -0.152892  0.152892  0.027413  \n",
       "土地移轉總面積平方公尺 -0.070646    -0.001123 -0.001243 -0.064461  0.064461 -0.049830  \n",
       "建物移轉總面積平方公尺  0.164372     0.415497  0.336646 -0.280110  0.280110 -0.045614  \n",
       "建物現況格局-房     0.817762    -0.004503 -0.071236  0.132107 -0.132107 -0.031167  \n",
       "建物現況格局-廳     0.667178    -0.056795 -0.127471  0.091690 -0.091690 -0.005417  \n",
       "建物現況格局-衛     1.000000    -0.010240 -0.069450  0.018843 -0.018843 -0.063467  \n",
       "車位移轉總面積平方公尺 -0.010240     1.000000  0.772742 -0.458582  0.458582 -0.075538  \n",
       "車位總價元       -0.069450     0.772742  1.000000 -0.361603  0.361603 -0.041483  \n",
       "屋齡           0.018843    -0.458582 -0.361603  1.000000 -1.000000  0.132450  \n",
       "建築完成年       -0.018843     0.458582  0.361603 -1.000000  1.000000 -0.132450  \n",
       "交易年         -0.063467    -0.075538 -0.041483  0.132450 -0.132450  1.000000  "
      ]
     },
     "execution_count": 21,
     "metadata": {},
     "output_type": "execute_result"
    }
   ],
   "source": [
    "corr = df[['總價元','鄉鎮市區','建物型態','都市土地使用分區','土地移轉總面積平方公尺','建物移轉總面積平方公尺',\n",
    "           '建物現況格局-房','建物現況格局-廳','建物現況格局-衛','車位移轉總面積平方公尺','車位總價元','屋齡','建築完成年','交易年']].corr()\n",
    "corr"
   ]
  },
  {
   "cell_type": "code",
   "execution_count": 22,
   "metadata": {},
   "outputs": [],
   "source": [
    "def highlight_highcorr(s):\n",
    "    is_high = ((s >= 0.6) & (s < 1)) #Series condition setting\n",
    "    return ['background-color: yellow' if v else '' for v in is_high]"
   ]
  },
  {
   "cell_type": "code",
   "execution_count": 23,
   "metadata": {},
   "outputs": [
    {
     "data": {
      "text/html": [
       "<style  type=\"text/css\" >\n",
       "    #T_0791b7f4_38bd_11e8_9562_68a86d124f34row6_col10 {\n",
       "            background-color:  yellow;\n",
       "        }    #T_0791b7f4_38bd_11e8_9562_68a86d124f34row7_col8 {\n",
       "            background-color:  yellow;\n",
       "        }    #T_0791b7f4_38bd_11e8_9562_68a86d124f34row7_col9 {\n",
       "            background-color:  yellow;\n",
       "        }    #T_0791b7f4_38bd_11e8_9562_68a86d124f34row8_col7 {\n",
       "            background-color:  yellow;\n",
       "        }    #T_0791b7f4_38bd_11e8_9562_68a86d124f34row8_col9 {\n",
       "            background-color:  yellow;\n",
       "        }    #T_0791b7f4_38bd_11e8_9562_68a86d124f34row9_col7 {\n",
       "            background-color:  yellow;\n",
       "        }    #T_0791b7f4_38bd_11e8_9562_68a86d124f34row9_col8 {\n",
       "            background-color:  yellow;\n",
       "        }    #T_0791b7f4_38bd_11e8_9562_68a86d124f34row10_col6 {\n",
       "            background-color:  yellow;\n",
       "        }    #T_0791b7f4_38bd_11e8_9562_68a86d124f34row12_col13 {\n",
       "            background-color:  yellow;\n",
       "        }    #T_0791b7f4_38bd_11e8_9562_68a86d124f34row13_col12 {\n",
       "            background-color:  yellow;\n",
       "        }</style>  \n",
       "<table id=\"T_0791b7f4_38bd_11e8_9562_68a86d124f34\" > \n",
       "<thead>    <tr> \n",
       "        <th class=\"blank level0\" ></th> \n",
       "        <th class=\"col_heading level0 col0\" >土地移轉總面積平方公尺</th> \n",
       "        <th class=\"col_heading level0 col1\" >都市土地使用分區</th> \n",
       "        <th class=\"col_heading level0 col2\" >非都市土地使用分區</th> \n",
       "        <th class=\"col_heading level0 col3\" >非都市土地使用編定</th> \n",
       "        <th class=\"col_heading level0 col4\" >交易年月日</th> \n",
       "        <th class=\"col_heading level0 col5\" >建築完成年月</th> \n",
       "        <th class=\"col_heading level0 col6\" >建物移轉總面積平方公尺</th> \n",
       "        <th class=\"col_heading level0 col7\" >建物現況格局-房</th> \n",
       "        <th class=\"col_heading level0 col8\" >建物現況格局-廳</th> \n",
       "        <th class=\"col_heading level0 col9\" >建物現況格局-衛</th> \n",
       "        <th class=\"col_heading level0 col10\" >總價元</th> \n",
       "        <th class=\"col_heading level0 col11\" >單價每平方公尺</th> \n",
       "        <th class=\"col_heading level0 col12\" >車位移轉總面積平方公尺</th> \n",
       "        <th class=\"col_heading level0 col13\" >車位總價元</th> \n",
       "        <th class=\"col_heading level0 col14\" >交易年</th> \n",
       "        <th class=\"col_heading level0 col15\" >建築完成年</th> \n",
       "        <th class=\"col_heading level0 col16\" >屋齡</th> \n",
       "    </tr></thead> \n",
       "<tbody>    <tr> \n",
       "        <th id=\"T_0791b7f4_38bd_11e8_9562_68a86d124f34level0_row0\" class=\"row_heading level0 row0\" >土地移轉總面積平方公尺</th> \n",
       "        <td id=\"T_0791b7f4_38bd_11e8_9562_68a86d124f34row0_col0\" class=\"data row0 col0\" >1</td> \n",
       "        <td id=\"T_0791b7f4_38bd_11e8_9562_68a86d124f34row0_col1\" class=\"data row0 col1\" >0.014</td> \n",
       "        <td id=\"T_0791b7f4_38bd_11e8_9562_68a86d124f34row0_col2\" class=\"data row0 col2\" >nan</td> \n",
       "        <td id=\"T_0791b7f4_38bd_11e8_9562_68a86d124f34row0_col3\" class=\"data row0 col3\" >nan</td> \n",
       "        <td id=\"T_0791b7f4_38bd_11e8_9562_68a86d124f34row0_col4\" class=\"data row0 col4\" >-0.048</td> \n",
       "        <td id=\"T_0791b7f4_38bd_11e8_9562_68a86d124f34row0_col5\" class=\"data row0 col5\" >0.064</td> \n",
       "        <td id=\"T_0791b7f4_38bd_11e8_9562_68a86d124f34row0_col6\" class=\"data row0 col6\" >0.08</td> \n",
       "        <td id=\"T_0791b7f4_38bd_11e8_9562_68a86d124f34row0_col7\" class=\"data row0 col7\" >-0.063</td> \n",
       "        <td id=\"T_0791b7f4_38bd_11e8_9562_68a86d124f34row0_col8\" class=\"data row0 col8\" >-0.094</td> \n",
       "        <td id=\"T_0791b7f4_38bd_11e8_9562_68a86d124f34row0_col9\" class=\"data row0 col9\" >-0.071</td> \n",
       "        <td id=\"T_0791b7f4_38bd_11e8_9562_68a86d124f34row0_col10\" class=\"data row0 col10\" >0.126</td> \n",
       "        <td id=\"T_0791b7f4_38bd_11e8_9562_68a86d124f34row0_col11\" class=\"data row0 col11\" >-0.126</td> \n",
       "        <td id=\"T_0791b7f4_38bd_11e8_9562_68a86d124f34row0_col12\" class=\"data row0 col12\" >-0.001</td> \n",
       "        <td id=\"T_0791b7f4_38bd_11e8_9562_68a86d124f34row0_col13\" class=\"data row0 col13\" >-0.001</td> \n",
       "        <td id=\"T_0791b7f4_38bd_11e8_9562_68a86d124f34row0_col14\" class=\"data row0 col14\" >-0.05</td> \n",
       "        <td id=\"T_0791b7f4_38bd_11e8_9562_68a86d124f34row0_col15\" class=\"data row0 col15\" >0.064</td> \n",
       "        <td id=\"T_0791b7f4_38bd_11e8_9562_68a86d124f34row0_col16\" class=\"data row0 col16\" >-0.064</td> \n",
       "    </tr>    <tr> \n",
       "        <th id=\"T_0791b7f4_38bd_11e8_9562_68a86d124f34level0_row1\" class=\"row_heading level0 row1\" >都市土地使用分區</th> \n",
       "        <td id=\"T_0791b7f4_38bd_11e8_9562_68a86d124f34row1_col0\" class=\"data row1 col0\" >0.014</td> \n",
       "        <td id=\"T_0791b7f4_38bd_11e8_9562_68a86d124f34row1_col1\" class=\"data row1 col1\" >1</td> \n",
       "        <td id=\"T_0791b7f4_38bd_11e8_9562_68a86d124f34row1_col2\" class=\"data row1 col2\" >nan</td> \n",
       "        <td id=\"T_0791b7f4_38bd_11e8_9562_68a86d124f34row1_col3\" class=\"data row1 col3\" >nan</td> \n",
       "        <td id=\"T_0791b7f4_38bd_11e8_9562_68a86d124f34row1_col4\" class=\"data row1 col4\" >0.027</td> \n",
       "        <td id=\"T_0791b7f4_38bd_11e8_9562_68a86d124f34row1_col5\" class=\"data row1 col5\" >0.153</td> \n",
       "        <td id=\"T_0791b7f4_38bd_11e8_9562_68a86d124f34row1_col6\" class=\"data row1 col6\" >0.019</td> \n",
       "        <td id=\"T_0791b7f4_38bd_11e8_9562_68a86d124f34row1_col7\" class=\"data row1 col7\" >-0.239</td> \n",
       "        <td id=\"T_0791b7f4_38bd_11e8_9562_68a86d124f34row1_col8\" class=\"data row1 col8\" >-0.233</td> \n",
       "        <td id=\"T_0791b7f4_38bd_11e8_9562_68a86d124f34row1_col9\" class=\"data row1 col9\" >-0.157</td> \n",
       "        <td id=\"T_0791b7f4_38bd_11e8_9562_68a86d124f34row1_col10\" class=\"data row1 col10\" >0.051</td> \n",
       "        <td id=\"T_0791b7f4_38bd_11e8_9562_68a86d124f34row1_col11\" class=\"data row1 col11\" >0.061</td> \n",
       "        <td id=\"T_0791b7f4_38bd_11e8_9562_68a86d124f34row1_col12\" class=\"data row1 col12\" >0.03</td> \n",
       "        <td id=\"T_0791b7f4_38bd_11e8_9562_68a86d124f34row1_col13\" class=\"data row1 col13\" >0.069</td> \n",
       "        <td id=\"T_0791b7f4_38bd_11e8_9562_68a86d124f34row1_col14\" class=\"data row1 col14\" >0.027</td> \n",
       "        <td id=\"T_0791b7f4_38bd_11e8_9562_68a86d124f34row1_col15\" class=\"data row1 col15\" >0.153</td> \n",
       "        <td id=\"T_0791b7f4_38bd_11e8_9562_68a86d124f34row1_col16\" class=\"data row1 col16\" >-0.153</td> \n",
       "    </tr>    <tr> \n",
       "        <th id=\"T_0791b7f4_38bd_11e8_9562_68a86d124f34level0_row2\" class=\"row_heading level0 row2\" >非都市土地使用分區</th> \n",
       "        <td id=\"T_0791b7f4_38bd_11e8_9562_68a86d124f34row2_col0\" class=\"data row2 col0\" >nan</td> \n",
       "        <td id=\"T_0791b7f4_38bd_11e8_9562_68a86d124f34row2_col1\" class=\"data row2 col1\" >nan</td> \n",
       "        <td id=\"T_0791b7f4_38bd_11e8_9562_68a86d124f34row2_col2\" class=\"data row2 col2\" >nan</td> \n",
       "        <td id=\"T_0791b7f4_38bd_11e8_9562_68a86d124f34row2_col3\" class=\"data row2 col3\" >nan</td> \n",
       "        <td id=\"T_0791b7f4_38bd_11e8_9562_68a86d124f34row2_col4\" class=\"data row2 col4\" >nan</td> \n",
       "        <td id=\"T_0791b7f4_38bd_11e8_9562_68a86d124f34row2_col5\" class=\"data row2 col5\" >nan</td> \n",
       "        <td id=\"T_0791b7f4_38bd_11e8_9562_68a86d124f34row2_col6\" class=\"data row2 col6\" >nan</td> \n",
       "        <td id=\"T_0791b7f4_38bd_11e8_9562_68a86d124f34row2_col7\" class=\"data row2 col7\" >nan</td> \n",
       "        <td id=\"T_0791b7f4_38bd_11e8_9562_68a86d124f34row2_col8\" class=\"data row2 col8\" >nan</td> \n",
       "        <td id=\"T_0791b7f4_38bd_11e8_9562_68a86d124f34row2_col9\" class=\"data row2 col9\" >nan</td> \n",
       "        <td id=\"T_0791b7f4_38bd_11e8_9562_68a86d124f34row2_col10\" class=\"data row2 col10\" >nan</td> \n",
       "        <td id=\"T_0791b7f4_38bd_11e8_9562_68a86d124f34row2_col11\" class=\"data row2 col11\" >nan</td> \n",
       "        <td id=\"T_0791b7f4_38bd_11e8_9562_68a86d124f34row2_col12\" class=\"data row2 col12\" >nan</td> \n",
       "        <td id=\"T_0791b7f4_38bd_11e8_9562_68a86d124f34row2_col13\" class=\"data row2 col13\" >nan</td> \n",
       "        <td id=\"T_0791b7f4_38bd_11e8_9562_68a86d124f34row2_col14\" class=\"data row2 col14\" >nan</td> \n",
       "        <td id=\"T_0791b7f4_38bd_11e8_9562_68a86d124f34row2_col15\" class=\"data row2 col15\" >nan</td> \n",
       "        <td id=\"T_0791b7f4_38bd_11e8_9562_68a86d124f34row2_col16\" class=\"data row2 col16\" >nan</td> \n",
       "    </tr>    <tr> \n",
       "        <th id=\"T_0791b7f4_38bd_11e8_9562_68a86d124f34level0_row3\" class=\"row_heading level0 row3\" >非都市土地使用編定</th> \n",
       "        <td id=\"T_0791b7f4_38bd_11e8_9562_68a86d124f34row3_col0\" class=\"data row3 col0\" >nan</td> \n",
       "        <td id=\"T_0791b7f4_38bd_11e8_9562_68a86d124f34row3_col1\" class=\"data row3 col1\" >nan</td> \n",
       "        <td id=\"T_0791b7f4_38bd_11e8_9562_68a86d124f34row3_col2\" class=\"data row3 col2\" >nan</td> \n",
       "        <td id=\"T_0791b7f4_38bd_11e8_9562_68a86d124f34row3_col3\" class=\"data row3 col3\" >nan</td> \n",
       "        <td id=\"T_0791b7f4_38bd_11e8_9562_68a86d124f34row3_col4\" class=\"data row3 col4\" >nan</td> \n",
       "        <td id=\"T_0791b7f4_38bd_11e8_9562_68a86d124f34row3_col5\" class=\"data row3 col5\" >nan</td> \n",
       "        <td id=\"T_0791b7f4_38bd_11e8_9562_68a86d124f34row3_col6\" class=\"data row3 col6\" >nan</td> \n",
       "        <td id=\"T_0791b7f4_38bd_11e8_9562_68a86d124f34row3_col7\" class=\"data row3 col7\" >nan</td> \n",
       "        <td id=\"T_0791b7f4_38bd_11e8_9562_68a86d124f34row3_col8\" class=\"data row3 col8\" >nan</td> \n",
       "        <td id=\"T_0791b7f4_38bd_11e8_9562_68a86d124f34row3_col9\" class=\"data row3 col9\" >nan</td> \n",
       "        <td id=\"T_0791b7f4_38bd_11e8_9562_68a86d124f34row3_col10\" class=\"data row3 col10\" >nan</td> \n",
       "        <td id=\"T_0791b7f4_38bd_11e8_9562_68a86d124f34row3_col11\" class=\"data row3 col11\" >nan</td> \n",
       "        <td id=\"T_0791b7f4_38bd_11e8_9562_68a86d124f34row3_col12\" class=\"data row3 col12\" >nan</td> \n",
       "        <td id=\"T_0791b7f4_38bd_11e8_9562_68a86d124f34row3_col13\" class=\"data row3 col13\" >nan</td> \n",
       "        <td id=\"T_0791b7f4_38bd_11e8_9562_68a86d124f34row3_col14\" class=\"data row3 col14\" >nan</td> \n",
       "        <td id=\"T_0791b7f4_38bd_11e8_9562_68a86d124f34row3_col15\" class=\"data row3 col15\" >nan</td> \n",
       "        <td id=\"T_0791b7f4_38bd_11e8_9562_68a86d124f34row3_col16\" class=\"data row3 col16\" >nan</td> \n",
       "    </tr>    <tr> \n",
       "        <th id=\"T_0791b7f4_38bd_11e8_9562_68a86d124f34level0_row4\" class=\"row_heading level0 row4\" >交易年月日</th> \n",
       "        <td id=\"T_0791b7f4_38bd_11e8_9562_68a86d124f34row4_col0\" class=\"data row4 col0\" >-0.048</td> \n",
       "        <td id=\"T_0791b7f4_38bd_11e8_9562_68a86d124f34row4_col1\" class=\"data row4 col1\" >0.027</td> \n",
       "        <td id=\"T_0791b7f4_38bd_11e8_9562_68a86d124f34row4_col2\" class=\"data row4 col2\" >nan</td> \n",
       "        <td id=\"T_0791b7f4_38bd_11e8_9562_68a86d124f34row4_col3\" class=\"data row4 col3\" >nan</td> \n",
       "        <td id=\"T_0791b7f4_38bd_11e8_9562_68a86d124f34row4_col4\" class=\"data row4 col4\" >1</td> \n",
       "        <td id=\"T_0791b7f4_38bd_11e8_9562_68a86d124f34row4_col5\" class=\"data row4 col5\" >-0.135</td> \n",
       "        <td id=\"T_0791b7f4_38bd_11e8_9562_68a86d124f34row4_col6\" class=\"data row4 col6\" >-0.047</td> \n",
       "        <td id=\"T_0791b7f4_38bd_11e8_9562_68a86d124f34row4_col7\" class=\"data row4 col7\" >-0.034</td> \n",
       "        <td id=\"T_0791b7f4_38bd_11e8_9562_68a86d124f34row4_col8\" class=\"data row4 col8\" >-0.008</td> \n",
       "        <td id=\"T_0791b7f4_38bd_11e8_9562_68a86d124f34row4_col9\" class=\"data row4 col9\" >-0.066</td> \n",
       "        <td id=\"T_0791b7f4_38bd_11e8_9562_68a86d124f34row4_col10\" class=\"data row4 col10\" >-0.046</td> \n",
       "        <td id=\"T_0791b7f4_38bd_11e8_9562_68a86d124f34row4_col11\" class=\"data row4 col11\" >-0.035</td> \n",
       "        <td id=\"T_0791b7f4_38bd_11e8_9562_68a86d124f34row4_col12\" class=\"data row4 col12\" >-0.075</td> \n",
       "        <td id=\"T_0791b7f4_38bd_11e8_9562_68a86d124f34row4_col13\" class=\"data row4 col13\" >-0.041</td> \n",
       "        <td id=\"T_0791b7f4_38bd_11e8_9562_68a86d124f34row4_col14\" class=\"data row4 col14\" >1</td> \n",
       "        <td id=\"T_0791b7f4_38bd_11e8_9562_68a86d124f34row4_col15\" class=\"data row4 col15\" >-0.135</td> \n",
       "        <td id=\"T_0791b7f4_38bd_11e8_9562_68a86d124f34row4_col16\" class=\"data row4 col16\" >0.135</td> \n",
       "    </tr>    <tr> \n",
       "        <th id=\"T_0791b7f4_38bd_11e8_9562_68a86d124f34level0_row5\" class=\"row_heading level0 row5\" >建築完成年月</th> \n",
       "        <td id=\"T_0791b7f4_38bd_11e8_9562_68a86d124f34row5_col0\" class=\"data row5 col0\" >0.064</td> \n",
       "        <td id=\"T_0791b7f4_38bd_11e8_9562_68a86d124f34row5_col1\" class=\"data row5 col1\" >0.153</td> \n",
       "        <td id=\"T_0791b7f4_38bd_11e8_9562_68a86d124f34row5_col2\" class=\"data row5 col2\" >nan</td> \n",
       "        <td id=\"T_0791b7f4_38bd_11e8_9562_68a86d124f34row5_col3\" class=\"data row5 col3\" >nan</td> \n",
       "        <td id=\"T_0791b7f4_38bd_11e8_9562_68a86d124f34row5_col4\" class=\"data row5 col4\" >-0.135</td> \n",
       "        <td id=\"T_0791b7f4_38bd_11e8_9562_68a86d124f34row5_col5\" class=\"data row5 col5\" >1</td> \n",
       "        <td id=\"T_0791b7f4_38bd_11e8_9562_68a86d124f34row5_col6\" class=\"data row5 col6\" >0.28</td> \n",
       "        <td id=\"T_0791b7f4_38bd_11e8_9562_68a86d124f34row5_col7\" class=\"data row5 col7\" >-0.132</td> \n",
       "        <td id=\"T_0791b7f4_38bd_11e8_9562_68a86d124f34row5_col8\" class=\"data row5 col8\" >-0.092</td> \n",
       "        <td id=\"T_0791b7f4_38bd_11e8_9562_68a86d124f34row5_col9\" class=\"data row5 col9\" >-0.019</td> \n",
       "        <td id=\"T_0791b7f4_38bd_11e8_9562_68a86d124f34row5_col10\" class=\"data row5 col10\" >0.324</td> \n",
       "        <td id=\"T_0791b7f4_38bd_11e8_9562_68a86d124f34row5_col11\" class=\"data row5 col11\" >0.362</td> \n",
       "        <td id=\"T_0791b7f4_38bd_11e8_9562_68a86d124f34row5_col12\" class=\"data row5 col12\" >0.459</td> \n",
       "        <td id=\"T_0791b7f4_38bd_11e8_9562_68a86d124f34row5_col13\" class=\"data row5 col13\" >0.362</td> \n",
       "        <td id=\"T_0791b7f4_38bd_11e8_9562_68a86d124f34row5_col14\" class=\"data row5 col14\" >-0.133</td> \n",
       "        <td id=\"T_0791b7f4_38bd_11e8_9562_68a86d124f34row5_col15\" class=\"data row5 col15\" >1</td> \n",
       "        <td id=\"T_0791b7f4_38bd_11e8_9562_68a86d124f34row5_col16\" class=\"data row5 col16\" >-1</td> \n",
       "    </tr>    <tr> \n",
       "        <th id=\"T_0791b7f4_38bd_11e8_9562_68a86d124f34level0_row6\" class=\"row_heading level0 row6\" >建物移轉總面積平方公尺</th> \n",
       "        <td id=\"T_0791b7f4_38bd_11e8_9562_68a86d124f34row6_col0\" class=\"data row6 col0\" >0.08</td> \n",
       "        <td id=\"T_0791b7f4_38bd_11e8_9562_68a86d124f34row6_col1\" class=\"data row6 col1\" >0.019</td> \n",
       "        <td id=\"T_0791b7f4_38bd_11e8_9562_68a86d124f34row6_col2\" class=\"data row6 col2\" >nan</td> \n",
       "        <td id=\"T_0791b7f4_38bd_11e8_9562_68a86d124f34row6_col3\" class=\"data row6 col3\" >nan</td> \n",
       "        <td id=\"T_0791b7f4_38bd_11e8_9562_68a86d124f34row6_col4\" class=\"data row6 col4\" >-0.047</td> \n",
       "        <td id=\"T_0791b7f4_38bd_11e8_9562_68a86d124f34row6_col5\" class=\"data row6 col5\" >0.28</td> \n",
       "        <td id=\"T_0791b7f4_38bd_11e8_9562_68a86d124f34row6_col6\" class=\"data row6 col6\" >1</td> \n",
       "        <td id=\"T_0791b7f4_38bd_11e8_9562_68a86d124f34row6_col7\" class=\"data row6 col7\" >0.178</td> \n",
       "        <td id=\"T_0791b7f4_38bd_11e8_9562_68a86d124f34row6_col8\" class=\"data row6 col8\" >0.111</td> \n",
       "        <td id=\"T_0791b7f4_38bd_11e8_9562_68a86d124f34row6_col9\" class=\"data row6 col9\" >0.164</td> \n",
       "        <td id=\"T_0791b7f4_38bd_11e8_9562_68a86d124f34row6_col10\" class=\"data row6 col10\" >0.891</td> \n",
       "        <td id=\"T_0791b7f4_38bd_11e8_9562_68a86d124f34row6_col11\" class=\"data row6 col11\" >0.148</td> \n",
       "        <td id=\"T_0791b7f4_38bd_11e8_9562_68a86d124f34row6_col12\" class=\"data row6 col12\" >0.415</td> \n",
       "        <td id=\"T_0791b7f4_38bd_11e8_9562_68a86d124f34row6_col13\" class=\"data row6 col13\" >0.337</td> \n",
       "        <td id=\"T_0791b7f4_38bd_11e8_9562_68a86d124f34row6_col14\" class=\"data row6 col14\" >-0.046</td> \n",
       "        <td id=\"T_0791b7f4_38bd_11e8_9562_68a86d124f34row6_col15\" class=\"data row6 col15\" >0.28</td> \n",
       "        <td id=\"T_0791b7f4_38bd_11e8_9562_68a86d124f34row6_col16\" class=\"data row6 col16\" >-0.28</td> \n",
       "    </tr>    <tr> \n",
       "        <th id=\"T_0791b7f4_38bd_11e8_9562_68a86d124f34level0_row7\" class=\"row_heading level0 row7\" >建物現況格局-房</th> \n",
       "        <td id=\"T_0791b7f4_38bd_11e8_9562_68a86d124f34row7_col0\" class=\"data row7 col0\" >-0.063</td> \n",
       "        <td id=\"T_0791b7f4_38bd_11e8_9562_68a86d124f34row7_col1\" class=\"data row7 col1\" >-0.239</td> \n",
       "        <td id=\"T_0791b7f4_38bd_11e8_9562_68a86d124f34row7_col2\" class=\"data row7 col2\" >nan</td> \n",
       "        <td id=\"T_0791b7f4_38bd_11e8_9562_68a86d124f34row7_col3\" class=\"data row7 col3\" >nan</td> \n",
       "        <td id=\"T_0791b7f4_38bd_11e8_9562_68a86d124f34row7_col4\" class=\"data row7 col4\" >-0.034</td> \n",
       "        <td id=\"T_0791b7f4_38bd_11e8_9562_68a86d124f34row7_col5\" class=\"data row7 col5\" >-0.132</td> \n",
       "        <td id=\"T_0791b7f4_38bd_11e8_9562_68a86d124f34row7_col6\" class=\"data row7 col6\" >0.178</td> \n",
       "        <td id=\"T_0791b7f4_38bd_11e8_9562_68a86d124f34row7_col7\" class=\"data row7 col7\" >1</td> \n",
       "        <td id=\"T_0791b7f4_38bd_11e8_9562_68a86d124f34row7_col8\" class=\"data row7 col8\" >0.752</td> \n",
       "        <td id=\"T_0791b7f4_38bd_11e8_9562_68a86d124f34row7_col9\" class=\"data row7 col9\" >0.818</td> \n",
       "        <td id=\"T_0791b7f4_38bd_11e8_9562_68a86d124f34row7_col10\" class=\"data row7 col10\" >0.122</td> \n",
       "        <td id=\"T_0791b7f4_38bd_11e8_9562_68a86d124f34row7_col11\" class=\"data row7 col11\" >0.021</td> \n",
       "        <td id=\"T_0791b7f4_38bd_11e8_9562_68a86d124f34row7_col12\" class=\"data row7 col12\" >-0.005</td> \n",
       "        <td id=\"T_0791b7f4_38bd_11e8_9562_68a86d124f34row7_col13\" class=\"data row7 col13\" >-0.071</td> \n",
       "        <td id=\"T_0791b7f4_38bd_11e8_9562_68a86d124f34row7_col14\" class=\"data row7 col14\" >-0.031</td> \n",
       "        <td id=\"T_0791b7f4_38bd_11e8_9562_68a86d124f34row7_col15\" class=\"data row7 col15\" >-0.132</td> \n",
       "        <td id=\"T_0791b7f4_38bd_11e8_9562_68a86d124f34row7_col16\" class=\"data row7 col16\" >0.132</td> \n",
       "    </tr>    <tr> \n",
       "        <th id=\"T_0791b7f4_38bd_11e8_9562_68a86d124f34level0_row8\" class=\"row_heading level0 row8\" >建物現況格局-廳</th> \n",
       "        <td id=\"T_0791b7f4_38bd_11e8_9562_68a86d124f34row8_col0\" class=\"data row8 col0\" >-0.094</td> \n",
       "        <td id=\"T_0791b7f4_38bd_11e8_9562_68a86d124f34row8_col1\" class=\"data row8 col1\" >-0.233</td> \n",
       "        <td id=\"T_0791b7f4_38bd_11e8_9562_68a86d124f34row8_col2\" class=\"data row8 col2\" >nan</td> \n",
       "        <td id=\"T_0791b7f4_38bd_11e8_9562_68a86d124f34row8_col3\" class=\"data row8 col3\" >nan</td> \n",
       "        <td id=\"T_0791b7f4_38bd_11e8_9562_68a86d124f34row8_col4\" class=\"data row8 col4\" >-0.008</td> \n",
       "        <td id=\"T_0791b7f4_38bd_11e8_9562_68a86d124f34row8_col5\" class=\"data row8 col5\" >-0.092</td> \n",
       "        <td id=\"T_0791b7f4_38bd_11e8_9562_68a86d124f34row8_col6\" class=\"data row8 col6\" >0.111</td> \n",
       "        <td id=\"T_0791b7f4_38bd_11e8_9562_68a86d124f34row8_col7\" class=\"data row8 col7\" >0.752</td> \n",
       "        <td id=\"T_0791b7f4_38bd_11e8_9562_68a86d124f34row8_col8\" class=\"data row8 col8\" >1</td> \n",
       "        <td id=\"T_0791b7f4_38bd_11e8_9562_68a86d124f34row8_col9\" class=\"data row8 col9\" >0.667</td> \n",
       "        <td id=\"T_0791b7f4_38bd_11e8_9562_68a86d124f34row8_col10\" class=\"data row8 col10\" >0.062</td> \n",
       "        <td id=\"T_0791b7f4_38bd_11e8_9562_68a86d124f34row8_col11\" class=\"data row8 col11\" >0.076</td> \n",
       "        <td id=\"T_0791b7f4_38bd_11e8_9562_68a86d124f34row8_col12\" class=\"data row8 col12\" >-0.057</td> \n",
       "        <td id=\"T_0791b7f4_38bd_11e8_9562_68a86d124f34row8_col13\" class=\"data row8 col13\" >-0.127</td> \n",
       "        <td id=\"T_0791b7f4_38bd_11e8_9562_68a86d124f34row8_col14\" class=\"data row8 col14\" >-0.005</td> \n",
       "        <td id=\"T_0791b7f4_38bd_11e8_9562_68a86d124f34row8_col15\" class=\"data row8 col15\" >-0.092</td> \n",
       "        <td id=\"T_0791b7f4_38bd_11e8_9562_68a86d124f34row8_col16\" class=\"data row8 col16\" >0.092</td> \n",
       "    </tr>    <tr> \n",
       "        <th id=\"T_0791b7f4_38bd_11e8_9562_68a86d124f34level0_row9\" class=\"row_heading level0 row9\" >建物現況格局-衛</th> \n",
       "        <td id=\"T_0791b7f4_38bd_11e8_9562_68a86d124f34row9_col0\" class=\"data row9 col0\" >-0.071</td> \n",
       "        <td id=\"T_0791b7f4_38bd_11e8_9562_68a86d124f34row9_col1\" class=\"data row9 col1\" >-0.157</td> \n",
       "        <td id=\"T_0791b7f4_38bd_11e8_9562_68a86d124f34row9_col2\" class=\"data row9 col2\" >nan</td> \n",
       "        <td id=\"T_0791b7f4_38bd_11e8_9562_68a86d124f34row9_col3\" class=\"data row9 col3\" >nan</td> \n",
       "        <td id=\"T_0791b7f4_38bd_11e8_9562_68a86d124f34row9_col4\" class=\"data row9 col4\" >-0.066</td> \n",
       "        <td id=\"T_0791b7f4_38bd_11e8_9562_68a86d124f34row9_col5\" class=\"data row9 col5\" >-0.019</td> \n",
       "        <td id=\"T_0791b7f4_38bd_11e8_9562_68a86d124f34row9_col6\" class=\"data row9 col6\" >0.164</td> \n",
       "        <td id=\"T_0791b7f4_38bd_11e8_9562_68a86d124f34row9_col7\" class=\"data row9 col7\" >0.818</td> \n",
       "        <td id=\"T_0791b7f4_38bd_11e8_9562_68a86d124f34row9_col8\" class=\"data row9 col8\" >0.667</td> \n",
       "        <td id=\"T_0791b7f4_38bd_11e8_9562_68a86d124f34row9_col9\" class=\"data row9 col9\" >1</td> \n",
       "        <td id=\"T_0791b7f4_38bd_11e8_9562_68a86d124f34row9_col10\" class=\"data row9 col10\" >0.145</td> \n",
       "        <td id=\"T_0791b7f4_38bd_11e8_9562_68a86d124f34row9_col11\" class=\"data row9 col11\" >0.118</td> \n",
       "        <td id=\"T_0791b7f4_38bd_11e8_9562_68a86d124f34row9_col12\" class=\"data row9 col12\" >-0.01</td> \n",
       "        <td id=\"T_0791b7f4_38bd_11e8_9562_68a86d124f34row9_col13\" class=\"data row9 col13\" >-0.069</td> \n",
       "        <td id=\"T_0791b7f4_38bd_11e8_9562_68a86d124f34row9_col14\" class=\"data row9 col14\" >-0.063</td> \n",
       "        <td id=\"T_0791b7f4_38bd_11e8_9562_68a86d124f34row9_col15\" class=\"data row9 col15\" >-0.019</td> \n",
       "        <td id=\"T_0791b7f4_38bd_11e8_9562_68a86d124f34row9_col16\" class=\"data row9 col16\" >0.019</td> \n",
       "    </tr>    <tr> \n",
       "        <th id=\"T_0791b7f4_38bd_11e8_9562_68a86d124f34level0_row10\" class=\"row_heading level0 row10\" >總價元</th> \n",
       "        <td id=\"T_0791b7f4_38bd_11e8_9562_68a86d124f34row10_col0\" class=\"data row10 col0\" >0.126</td> \n",
       "        <td id=\"T_0791b7f4_38bd_11e8_9562_68a86d124f34row10_col1\" class=\"data row10 col1\" >0.051</td> \n",
       "        <td id=\"T_0791b7f4_38bd_11e8_9562_68a86d124f34row10_col2\" class=\"data row10 col2\" >nan</td> \n",
       "        <td id=\"T_0791b7f4_38bd_11e8_9562_68a86d124f34row10_col3\" class=\"data row10 col3\" >nan</td> \n",
       "        <td id=\"T_0791b7f4_38bd_11e8_9562_68a86d124f34row10_col4\" class=\"data row10 col4\" >-0.046</td> \n",
       "        <td id=\"T_0791b7f4_38bd_11e8_9562_68a86d124f34row10_col5\" class=\"data row10 col5\" >0.324</td> \n",
       "        <td id=\"T_0791b7f4_38bd_11e8_9562_68a86d124f34row10_col6\" class=\"data row10 col6\" >0.891</td> \n",
       "        <td id=\"T_0791b7f4_38bd_11e8_9562_68a86d124f34row10_col7\" class=\"data row10 col7\" >0.122</td> \n",
       "        <td id=\"T_0791b7f4_38bd_11e8_9562_68a86d124f34row10_col8\" class=\"data row10 col8\" >0.062</td> \n",
       "        <td id=\"T_0791b7f4_38bd_11e8_9562_68a86d124f34row10_col9\" class=\"data row10 col9\" >0.145</td> \n",
       "        <td id=\"T_0791b7f4_38bd_11e8_9562_68a86d124f34row10_col10\" class=\"data row10 col10\" >1</td> \n",
       "        <td id=\"T_0791b7f4_38bd_11e8_9562_68a86d124f34row10_col11\" class=\"data row10 col11\" >0.403</td> \n",
       "        <td id=\"T_0791b7f4_38bd_11e8_9562_68a86d124f34row10_col12\" class=\"data row10 col12\" >0.406</td> \n",
       "        <td id=\"T_0791b7f4_38bd_11e8_9562_68a86d124f34row10_col13\" class=\"data row10 col13\" >0.428</td> \n",
       "        <td id=\"T_0791b7f4_38bd_11e8_9562_68a86d124f34row10_col14\" class=\"data row10 col14\" >-0.044</td> \n",
       "        <td id=\"T_0791b7f4_38bd_11e8_9562_68a86d124f34row10_col15\" class=\"data row10 col15\" >0.324</td> \n",
       "        <td id=\"T_0791b7f4_38bd_11e8_9562_68a86d124f34row10_col16\" class=\"data row10 col16\" >-0.324</td> \n",
       "    </tr>    <tr> \n",
       "        <th id=\"T_0791b7f4_38bd_11e8_9562_68a86d124f34level0_row11\" class=\"row_heading level0 row11\" >單價每平方公尺</th> \n",
       "        <td id=\"T_0791b7f4_38bd_11e8_9562_68a86d124f34row11_col0\" class=\"data row11 col0\" >-0.126</td> \n",
       "        <td id=\"T_0791b7f4_38bd_11e8_9562_68a86d124f34row11_col1\" class=\"data row11 col1\" >0.061</td> \n",
       "        <td id=\"T_0791b7f4_38bd_11e8_9562_68a86d124f34row11_col2\" class=\"data row11 col2\" >nan</td> \n",
       "        <td id=\"T_0791b7f4_38bd_11e8_9562_68a86d124f34row11_col3\" class=\"data row11 col3\" >nan</td> \n",
       "        <td id=\"T_0791b7f4_38bd_11e8_9562_68a86d124f34row11_col4\" class=\"data row11 col4\" >-0.035</td> \n",
       "        <td id=\"T_0791b7f4_38bd_11e8_9562_68a86d124f34row11_col5\" class=\"data row11 col5\" >0.362</td> \n",
       "        <td id=\"T_0791b7f4_38bd_11e8_9562_68a86d124f34row11_col6\" class=\"data row11 col6\" >0.148</td> \n",
       "        <td id=\"T_0791b7f4_38bd_11e8_9562_68a86d124f34row11_col7\" class=\"data row11 col7\" >0.021</td> \n",
       "        <td id=\"T_0791b7f4_38bd_11e8_9562_68a86d124f34row11_col8\" class=\"data row11 col8\" >0.076</td> \n",
       "        <td id=\"T_0791b7f4_38bd_11e8_9562_68a86d124f34row11_col9\" class=\"data row11 col9\" >0.118</td> \n",
       "        <td id=\"T_0791b7f4_38bd_11e8_9562_68a86d124f34row11_col10\" class=\"data row11 col10\" >0.403</td> \n",
       "        <td id=\"T_0791b7f4_38bd_11e8_9562_68a86d124f34row11_col11\" class=\"data row11 col11\" >1</td> \n",
       "        <td id=\"T_0791b7f4_38bd_11e8_9562_68a86d124f34row11_col12\" class=\"data row11 col12\" >0.184</td> \n",
       "        <td id=\"T_0791b7f4_38bd_11e8_9562_68a86d124f34row11_col13\" class=\"data row11 col13\" >0.259</td> \n",
       "        <td id=\"T_0791b7f4_38bd_11e8_9562_68a86d124f34row11_col14\" class=\"data row11 col14\" >-0.032</td> \n",
       "        <td id=\"T_0791b7f4_38bd_11e8_9562_68a86d124f34row11_col15\" class=\"data row11 col15\" >0.362</td> \n",
       "        <td id=\"T_0791b7f4_38bd_11e8_9562_68a86d124f34row11_col16\" class=\"data row11 col16\" >-0.362</td> \n",
       "    </tr>    <tr> \n",
       "        <th id=\"T_0791b7f4_38bd_11e8_9562_68a86d124f34level0_row12\" class=\"row_heading level0 row12\" >車位移轉總面積平方公尺</th> \n",
       "        <td id=\"T_0791b7f4_38bd_11e8_9562_68a86d124f34row12_col0\" class=\"data row12 col0\" >-0.001</td> \n",
       "        <td id=\"T_0791b7f4_38bd_11e8_9562_68a86d124f34row12_col1\" class=\"data row12 col1\" >0.03</td> \n",
       "        <td id=\"T_0791b7f4_38bd_11e8_9562_68a86d124f34row12_col2\" class=\"data row12 col2\" >nan</td> \n",
       "        <td id=\"T_0791b7f4_38bd_11e8_9562_68a86d124f34row12_col3\" class=\"data row12 col3\" >nan</td> \n",
       "        <td id=\"T_0791b7f4_38bd_11e8_9562_68a86d124f34row12_col4\" class=\"data row12 col4\" >-0.075</td> \n",
       "        <td id=\"T_0791b7f4_38bd_11e8_9562_68a86d124f34row12_col5\" class=\"data row12 col5\" >0.459</td> \n",
       "        <td id=\"T_0791b7f4_38bd_11e8_9562_68a86d124f34row12_col6\" class=\"data row12 col6\" >0.415</td> \n",
       "        <td id=\"T_0791b7f4_38bd_11e8_9562_68a86d124f34row12_col7\" class=\"data row12 col7\" >-0.005</td> \n",
       "        <td id=\"T_0791b7f4_38bd_11e8_9562_68a86d124f34row12_col8\" class=\"data row12 col8\" >-0.057</td> \n",
       "        <td id=\"T_0791b7f4_38bd_11e8_9562_68a86d124f34row12_col9\" class=\"data row12 col9\" >-0.01</td> \n",
       "        <td id=\"T_0791b7f4_38bd_11e8_9562_68a86d124f34row12_col10\" class=\"data row12 col10\" >0.406</td> \n",
       "        <td id=\"T_0791b7f4_38bd_11e8_9562_68a86d124f34row12_col11\" class=\"data row12 col11\" >0.184</td> \n",
       "        <td id=\"T_0791b7f4_38bd_11e8_9562_68a86d124f34row12_col12\" class=\"data row12 col12\" >1</td> \n",
       "        <td id=\"T_0791b7f4_38bd_11e8_9562_68a86d124f34row12_col13\" class=\"data row12 col13\" >0.773</td> \n",
       "        <td id=\"T_0791b7f4_38bd_11e8_9562_68a86d124f34row12_col14\" class=\"data row12 col14\" >-0.076</td> \n",
       "        <td id=\"T_0791b7f4_38bd_11e8_9562_68a86d124f34row12_col15\" class=\"data row12 col15\" >0.459</td> \n",
       "        <td id=\"T_0791b7f4_38bd_11e8_9562_68a86d124f34row12_col16\" class=\"data row12 col16\" >-0.459</td> \n",
       "    </tr>    <tr> \n",
       "        <th id=\"T_0791b7f4_38bd_11e8_9562_68a86d124f34level0_row13\" class=\"row_heading level0 row13\" >車位總價元</th> \n",
       "        <td id=\"T_0791b7f4_38bd_11e8_9562_68a86d124f34row13_col0\" class=\"data row13 col0\" >-0.001</td> \n",
       "        <td id=\"T_0791b7f4_38bd_11e8_9562_68a86d124f34row13_col1\" class=\"data row13 col1\" >0.069</td> \n",
       "        <td id=\"T_0791b7f4_38bd_11e8_9562_68a86d124f34row13_col2\" class=\"data row13 col2\" >nan</td> \n",
       "        <td id=\"T_0791b7f4_38bd_11e8_9562_68a86d124f34row13_col3\" class=\"data row13 col3\" >nan</td> \n",
       "        <td id=\"T_0791b7f4_38bd_11e8_9562_68a86d124f34row13_col4\" class=\"data row13 col4\" >-0.041</td> \n",
       "        <td id=\"T_0791b7f4_38bd_11e8_9562_68a86d124f34row13_col5\" class=\"data row13 col5\" >0.362</td> \n",
       "        <td id=\"T_0791b7f4_38bd_11e8_9562_68a86d124f34row13_col6\" class=\"data row13 col6\" >0.337</td> \n",
       "        <td id=\"T_0791b7f4_38bd_11e8_9562_68a86d124f34row13_col7\" class=\"data row13 col7\" >-0.071</td> \n",
       "        <td id=\"T_0791b7f4_38bd_11e8_9562_68a86d124f34row13_col8\" class=\"data row13 col8\" >-0.127</td> \n",
       "        <td id=\"T_0791b7f4_38bd_11e8_9562_68a86d124f34row13_col9\" class=\"data row13 col9\" >-0.069</td> \n",
       "        <td id=\"T_0791b7f4_38bd_11e8_9562_68a86d124f34row13_col10\" class=\"data row13 col10\" >0.428</td> \n",
       "        <td id=\"T_0791b7f4_38bd_11e8_9562_68a86d124f34row13_col11\" class=\"data row13 col11\" >0.259</td> \n",
       "        <td id=\"T_0791b7f4_38bd_11e8_9562_68a86d124f34row13_col12\" class=\"data row13 col12\" >0.773</td> \n",
       "        <td id=\"T_0791b7f4_38bd_11e8_9562_68a86d124f34row13_col13\" class=\"data row13 col13\" >1</td> \n",
       "        <td id=\"T_0791b7f4_38bd_11e8_9562_68a86d124f34row13_col14\" class=\"data row13 col14\" >-0.041</td> \n",
       "        <td id=\"T_0791b7f4_38bd_11e8_9562_68a86d124f34row13_col15\" class=\"data row13 col15\" >0.362</td> \n",
       "        <td id=\"T_0791b7f4_38bd_11e8_9562_68a86d124f34row13_col16\" class=\"data row13 col16\" >-0.362</td> \n",
       "    </tr>    <tr> \n",
       "        <th id=\"T_0791b7f4_38bd_11e8_9562_68a86d124f34level0_row14\" class=\"row_heading level0 row14\" >交易年</th> \n",
       "        <td id=\"T_0791b7f4_38bd_11e8_9562_68a86d124f34row14_col0\" class=\"data row14 col0\" >-0.05</td> \n",
       "        <td id=\"T_0791b7f4_38bd_11e8_9562_68a86d124f34row14_col1\" class=\"data row14 col1\" >0.027</td> \n",
       "        <td id=\"T_0791b7f4_38bd_11e8_9562_68a86d124f34row14_col2\" class=\"data row14 col2\" >nan</td> \n",
       "        <td id=\"T_0791b7f4_38bd_11e8_9562_68a86d124f34row14_col3\" class=\"data row14 col3\" >nan</td> \n",
       "        <td id=\"T_0791b7f4_38bd_11e8_9562_68a86d124f34row14_col4\" class=\"data row14 col4\" >1</td> \n",
       "        <td id=\"T_0791b7f4_38bd_11e8_9562_68a86d124f34row14_col5\" class=\"data row14 col5\" >-0.133</td> \n",
       "        <td id=\"T_0791b7f4_38bd_11e8_9562_68a86d124f34row14_col6\" class=\"data row14 col6\" >-0.046</td> \n",
       "        <td id=\"T_0791b7f4_38bd_11e8_9562_68a86d124f34row14_col7\" class=\"data row14 col7\" >-0.031</td> \n",
       "        <td id=\"T_0791b7f4_38bd_11e8_9562_68a86d124f34row14_col8\" class=\"data row14 col8\" >-0.005</td> \n",
       "        <td id=\"T_0791b7f4_38bd_11e8_9562_68a86d124f34row14_col9\" class=\"data row14 col9\" >-0.063</td> \n",
       "        <td id=\"T_0791b7f4_38bd_11e8_9562_68a86d124f34row14_col10\" class=\"data row14 col10\" >-0.044</td> \n",
       "        <td id=\"T_0791b7f4_38bd_11e8_9562_68a86d124f34row14_col11\" class=\"data row14 col11\" >-0.032</td> \n",
       "        <td id=\"T_0791b7f4_38bd_11e8_9562_68a86d124f34row14_col12\" class=\"data row14 col12\" >-0.076</td> \n",
       "        <td id=\"T_0791b7f4_38bd_11e8_9562_68a86d124f34row14_col13\" class=\"data row14 col13\" >-0.041</td> \n",
       "        <td id=\"T_0791b7f4_38bd_11e8_9562_68a86d124f34row14_col14\" class=\"data row14 col14\" >1</td> \n",
       "        <td id=\"T_0791b7f4_38bd_11e8_9562_68a86d124f34row14_col15\" class=\"data row14 col15\" >-0.132</td> \n",
       "        <td id=\"T_0791b7f4_38bd_11e8_9562_68a86d124f34row14_col16\" class=\"data row14 col16\" >0.132</td> \n",
       "    </tr>    <tr> \n",
       "        <th id=\"T_0791b7f4_38bd_11e8_9562_68a86d124f34level0_row15\" class=\"row_heading level0 row15\" >建築完成年</th> \n",
       "        <td id=\"T_0791b7f4_38bd_11e8_9562_68a86d124f34row15_col0\" class=\"data row15 col0\" >0.064</td> \n",
       "        <td id=\"T_0791b7f4_38bd_11e8_9562_68a86d124f34row15_col1\" class=\"data row15 col1\" >0.153</td> \n",
       "        <td id=\"T_0791b7f4_38bd_11e8_9562_68a86d124f34row15_col2\" class=\"data row15 col2\" >nan</td> \n",
       "        <td id=\"T_0791b7f4_38bd_11e8_9562_68a86d124f34row15_col3\" class=\"data row15 col3\" >nan</td> \n",
       "        <td id=\"T_0791b7f4_38bd_11e8_9562_68a86d124f34row15_col4\" class=\"data row15 col4\" >-0.135</td> \n",
       "        <td id=\"T_0791b7f4_38bd_11e8_9562_68a86d124f34row15_col5\" class=\"data row15 col5\" >1</td> \n",
       "        <td id=\"T_0791b7f4_38bd_11e8_9562_68a86d124f34row15_col6\" class=\"data row15 col6\" >0.28</td> \n",
       "        <td id=\"T_0791b7f4_38bd_11e8_9562_68a86d124f34row15_col7\" class=\"data row15 col7\" >-0.132</td> \n",
       "        <td id=\"T_0791b7f4_38bd_11e8_9562_68a86d124f34row15_col8\" class=\"data row15 col8\" >-0.092</td> \n",
       "        <td id=\"T_0791b7f4_38bd_11e8_9562_68a86d124f34row15_col9\" class=\"data row15 col9\" >-0.019</td> \n",
       "        <td id=\"T_0791b7f4_38bd_11e8_9562_68a86d124f34row15_col10\" class=\"data row15 col10\" >0.324</td> \n",
       "        <td id=\"T_0791b7f4_38bd_11e8_9562_68a86d124f34row15_col11\" class=\"data row15 col11\" >0.362</td> \n",
       "        <td id=\"T_0791b7f4_38bd_11e8_9562_68a86d124f34row15_col12\" class=\"data row15 col12\" >0.459</td> \n",
       "        <td id=\"T_0791b7f4_38bd_11e8_9562_68a86d124f34row15_col13\" class=\"data row15 col13\" >0.362</td> \n",
       "        <td id=\"T_0791b7f4_38bd_11e8_9562_68a86d124f34row15_col14\" class=\"data row15 col14\" >-0.132</td> \n",
       "        <td id=\"T_0791b7f4_38bd_11e8_9562_68a86d124f34row15_col15\" class=\"data row15 col15\" >1</td> \n",
       "        <td id=\"T_0791b7f4_38bd_11e8_9562_68a86d124f34row15_col16\" class=\"data row15 col16\" >-1</td> \n",
       "    </tr>    <tr> \n",
       "        <th id=\"T_0791b7f4_38bd_11e8_9562_68a86d124f34level0_row16\" class=\"row_heading level0 row16\" >屋齡</th> \n",
       "        <td id=\"T_0791b7f4_38bd_11e8_9562_68a86d124f34row16_col0\" class=\"data row16 col0\" >-0.064</td> \n",
       "        <td id=\"T_0791b7f4_38bd_11e8_9562_68a86d124f34row16_col1\" class=\"data row16 col1\" >-0.153</td> \n",
       "        <td id=\"T_0791b7f4_38bd_11e8_9562_68a86d124f34row16_col2\" class=\"data row16 col2\" >nan</td> \n",
       "        <td id=\"T_0791b7f4_38bd_11e8_9562_68a86d124f34row16_col3\" class=\"data row16 col3\" >nan</td> \n",
       "        <td id=\"T_0791b7f4_38bd_11e8_9562_68a86d124f34row16_col4\" class=\"data row16 col4\" >0.135</td> \n",
       "        <td id=\"T_0791b7f4_38bd_11e8_9562_68a86d124f34row16_col5\" class=\"data row16 col5\" >-1</td> \n",
       "        <td id=\"T_0791b7f4_38bd_11e8_9562_68a86d124f34row16_col6\" class=\"data row16 col6\" >-0.28</td> \n",
       "        <td id=\"T_0791b7f4_38bd_11e8_9562_68a86d124f34row16_col7\" class=\"data row16 col7\" >0.132</td> \n",
       "        <td id=\"T_0791b7f4_38bd_11e8_9562_68a86d124f34row16_col8\" class=\"data row16 col8\" >0.092</td> \n",
       "        <td id=\"T_0791b7f4_38bd_11e8_9562_68a86d124f34row16_col9\" class=\"data row16 col9\" >0.019</td> \n",
       "        <td id=\"T_0791b7f4_38bd_11e8_9562_68a86d124f34row16_col10\" class=\"data row16 col10\" >-0.324</td> \n",
       "        <td id=\"T_0791b7f4_38bd_11e8_9562_68a86d124f34row16_col11\" class=\"data row16 col11\" >-0.362</td> \n",
       "        <td id=\"T_0791b7f4_38bd_11e8_9562_68a86d124f34row16_col12\" class=\"data row16 col12\" >-0.459</td> \n",
       "        <td id=\"T_0791b7f4_38bd_11e8_9562_68a86d124f34row16_col13\" class=\"data row16 col13\" >-0.362</td> \n",
       "        <td id=\"T_0791b7f4_38bd_11e8_9562_68a86d124f34row16_col14\" class=\"data row16 col14\" >0.132</td> \n",
       "        <td id=\"T_0791b7f4_38bd_11e8_9562_68a86d124f34row16_col15\" class=\"data row16 col15\" >-1</td> \n",
       "        <td id=\"T_0791b7f4_38bd_11e8_9562_68a86d124f34row16_col16\" class=\"data row16 col16\" >1</td> \n",
       "    </tr></tbody> \n",
       "</table> "
      ],
      "text/plain": [
       "<pandas.io.formats.style.Styler at 0x10da8ab00>"
      ]
     },
     "execution_count": 23,
     "metadata": {},
     "output_type": "execute_result"
    }
   ],
   "source": [
    "df.corr().round(3).style.apply(highlight_highcorr)"
   ]
  },
  {
   "cell_type": "code",
   "execution_count": 24,
   "metadata": {},
   "outputs": [
    {
     "data": {
      "image/png": "[encoded data removed]",
      "text/plain": [
       "<matplotlib.figure.Figure at 0x10dafeeb8>"
      ]
     },
     "metadata": {},
     "output_type": "display_data"
    }
   ],
   "source": [
    "import seaborn as sns\n",
    "plt.rcParams['font.family']='SimHei' #顯示中文\n",
    "plt.figure(figsize=(10,10))\n",
    "sns.heatmap(corr, square=True, annot=True)\n",
    "plt.show()"
   ]
  },
  {
   "cell_type": "code",
   "execution_count": 25,
   "metadata": {},
   "outputs": [
    {
     "data": {
      "text/plain": [
       "<matplotlib.axes._subplots.AxesSubplot at 0x1a17e319b0>"
      ]
     },
     "execution_count": 25,
     "metadata": {},
     "output_type": "execute_result"
    },
    {
     "data": {
      "image/png": "[encoded data removed]",
      "text/plain": [
       "<matplotlib.figure.Figure at 0x10dae32b0>"
      ]
     },
     "metadata": {},
     "output_type": "display_data"
    }
   ],
   "source": [
    "df.plot(kind='scatter',title='散佈圖',figsize=(10,6),x='建物現況格局-房',y='總價元',marker='+')"
   ]
  },
  {
   "cell_type": "code",
   "execution_count": 26,
   "metadata": {},
   "outputs": [
    {
     "data": {
      "text/plain": [
       "<matplotlib.axes._subplots.AxesSubplot at 0x1a1811f4e0>"
      ]
     },
     "execution_count": 26,
     "metadata": {},
     "output_type": "execute_result"
    },
    {
     "data": {
      "image/png": "[encoded data removed]",
      "text/plain": [
       "<matplotlib.figure.Figure at 0x1a182fa470>"
      ]
     },
     "metadata": {},
     "output_type": "display_data"
    }
   ],
   "source": [
    "df.plot(kind='scatter',title='散佈圖',figsize=(10,6),x='建物移轉總面積平方公尺',y='總價元',marker='+')"
   ]
  },
  {
   "cell_type": "code",
   "execution_count": 27,
   "metadata": {},
   "outputs": [],
   "source": [
    "#df.plot(kind='scatter',title='散佈圖',figsize=(10,6),x='鄉鎮市區',y='總價元',marker='+')"
   ]
  },
  {
   "cell_type": "code",
   "execution_count": 28,
   "metadata": {},
   "outputs": [
    {
     "data": {
      "text/plain": [
       "<matplotlib.axes._subplots.AxesSubplot at 0x1a18446dd8>"
      ]
     },
     "execution_count": 28,
     "metadata": {},
     "output_type": "execute_result"
    },
    {
     "data": {
      "image/png": "[encoded data removed]",
      "text/plain": [
       "<matplotlib.figure.Figure at 0x1a183237f0>"
      ]
     },
     "metadata": {},
     "output_type": "display_data"
    }
   ],
   "source": [
    "df.plot(kind='scatter',title='散佈圖',figsize=(10,6),x='建物現況格局-廳',y='總價元',marker='+')"
   ]
  },
  {
   "cell_type": "code",
   "execution_count": 29,
   "metadata": {},
   "outputs": [
    {
     "data": {
      "text/plain": [
       "<matplotlib.axes._subplots.AxesSubplot at 0x1a185a3198>"
      ]
     },
     "execution_count": 29,
     "metadata": {},
     "output_type": "execute_result"
    },
    {
     "data": {
      "image/png": "[encoded data removed]",
      "text/plain": [
       "<matplotlib.figure.Figure at 0x1a184466a0>"
      ]
     },
     "metadata": {},
     "output_type": "display_data"
    }
   ],
   "source": [
    "df.plot(kind='scatter',title='散佈圖',figsize=(10,6),x='車位移轉總面積平方公尺',y='總價元',marker='+')"
   ]
  },
  {
   "cell_type": "markdown",
   "metadata": {},
   "source": [
    "### ▲各鄉鎮比較"
   ]
  },
  {
   "cell_type": "code",
   "execution_count": 30,
   "metadata": {},
   "outputs": [
    {
     "data": {
      "text/html": [
       "<div>\n",
       "<style scoped>\n",
       "    .dataframe tbody tr th:only-of-type {\n",
       "        vertical-align: middle;\n",
       "    }\n",
       "\n",
       "    .dataframe tbody tr th {\n",
       "        vertical-align: top;\n",
       "    }\n",
       "\n",
       "    .dataframe thead th {\n",
       "        text-align: right;\n",
       "    }\n",
       "</style>\n",
       "<table border=\"1\" class=\"dataframe\">\n",
       "  <thead>\n",
       "    <tr style=\"text-align: right;\">\n",
       "      <th></th>\n",
       "      <th>土地移轉總面積平方公尺</th>\n",
       "      <th>建物移轉總面積平方公尺</th>\n",
       "      <th>單價每平方公尺</th>\n",
       "      <th>建物現況格局-房</th>\n",
       "      <th>建物現況格局-廳</th>\n",
       "      <th>建物現況格局-衛</th>\n",
       "      <th>車位移轉總面積平方公尺</th>\n",
       "      <th>車位總價元</th>\n",
       "      <th>屋齡</th>\n",
       "      <th>建築完成年</th>\n",
       "      <th>交易年</th>\n",
       "      <th>總價元</th>\n",
       "    </tr>\n",
       "    <tr>\n",
       "      <th>鄉鎮市區</th>\n",
       "      <th></th>\n",
       "      <th></th>\n",
       "      <th></th>\n",
       "      <th></th>\n",
       "      <th></th>\n",
       "      <th></th>\n",
       "      <th></th>\n",
       "      <th></th>\n",
       "      <th></th>\n",
       "      <th></th>\n",
       "      <th></th>\n",
       "      <th></th>\n",
       "    </tr>\n",
       "  </thead>\n",
       "  <tbody>\n",
       "    <tr>\n",
       "      <th>中山區</th>\n",
       "      <td>15.890442</td>\n",
       "      <td>101.426195</td>\n",
       "      <td>181798.377358</td>\n",
       "      <td>1.911504</td>\n",
       "      <td>1.265487</td>\n",
       "      <td>1.398230</td>\n",
       "      <td>10.886903</td>\n",
       "      <td>679292.035398</td>\n",
       "      <td>20.969697</td>\n",
       "      <td>86.030303</td>\n",
       "      <td>105.911504</td>\n",
       "      <td>1995.253853</td>\n",
       "    </tr>\n",
       "    <tr>\n",
       "      <th>中正區</th>\n",
       "      <td>16.581852</td>\n",
       "      <td>101.396296</td>\n",
       "      <td>199380.440000</td>\n",
       "      <td>1.518519</td>\n",
       "      <td>1.018519</td>\n",
       "      <td>1.055556</td>\n",
       "      <td>5.247778</td>\n",
       "      <td>356296.296296</td>\n",
       "      <td>22.761905</td>\n",
       "      <td>84.238095</td>\n",
       "      <td>105.833333</td>\n",
       "      <td>2219.059519</td>\n",
       "    </tr>\n",
       "    <tr>\n",
       "      <th>信義區</th>\n",
       "      <td>25.934839</td>\n",
       "      <td>117.622903</td>\n",
       "      <td>186657.172414</td>\n",
       "      <td>2.048387</td>\n",
       "      <td>1.290323</td>\n",
       "      <td>1.306452</td>\n",
       "      <td>10.348065</td>\n",
       "      <td>438790.322581</td>\n",
       "      <td>28.704545</td>\n",
       "      <td>78.295455</td>\n",
       "      <td>105.951613</td>\n",
       "      <td>2111.870113</td>\n",
       "    </tr>\n",
       "    <tr>\n",
       "      <th>內湖區</th>\n",
       "      <td>70.540079</td>\n",
       "      <td>166.616220</td>\n",
       "      <td>169604.917355</td>\n",
       "      <td>2.283465</td>\n",
       "      <td>1.385827</td>\n",
       "      <td>1.401575</td>\n",
       "      <td>16.628740</td>\n",
       "      <td>498188.976378</td>\n",
       "      <td>20.025424</td>\n",
       "      <td>86.974576</td>\n",
       "      <td>105.661417</td>\n",
       "      <td>2703.266577</td>\n",
       "    </tr>\n",
       "    <tr>\n",
       "      <th>北投區</th>\n",
       "      <td>74.827432</td>\n",
       "      <td>108.905000</td>\n",
       "      <td>128572.684932</td>\n",
       "      <td>1.662162</td>\n",
       "      <td>1.108108</td>\n",
       "      <td>1.094595</td>\n",
       "      <td>14.411351</td>\n",
       "      <td>633108.108108</td>\n",
       "      <td>20.016667</td>\n",
       "      <td>86.983333</td>\n",
       "      <td>105.864865</td>\n",
       "      <td>1768.484626</td>\n",
       "    </tr>\n",
       "    <tr>\n",
       "      <th>南港區</th>\n",
       "      <td>31.415349</td>\n",
       "      <td>128.813721</td>\n",
       "      <td>162680.815789</td>\n",
       "      <td>1.813953</td>\n",
       "      <td>1.209302</td>\n",
       "      <td>1.186047</td>\n",
       "      <td>16.563488</td>\n",
       "      <td>741860.465116</td>\n",
       "      <td>13.870968</td>\n",
       "      <td>93.129032</td>\n",
       "      <td>105.976744</td>\n",
       "      <td>2151.740516</td>\n",
       "    </tr>\n",
       "    <tr>\n",
       "      <th>士林區</th>\n",
       "      <td>70.117746</td>\n",
       "      <td>117.504648</td>\n",
       "      <td>161196.242424</td>\n",
       "      <td>1.788732</td>\n",
       "      <td>1.211268</td>\n",
       "      <td>1.197183</td>\n",
       "      <td>14.327606</td>\n",
       "      <td>890140.845070</td>\n",
       "      <td>28.133333</td>\n",
       "      <td>78.866667</td>\n",
       "      <td>106.000000</td>\n",
       "      <td>2735.869299</td>\n",
       "    </tr>\n",
       "    <tr>\n",
       "      <th>大同區</th>\n",
       "      <td>15.805500</td>\n",
       "      <td>95.883000</td>\n",
       "      <td>139050.735294</td>\n",
       "      <td>1.825000</td>\n",
       "      <td>1.200000</td>\n",
       "      <td>1.075000</td>\n",
       "      <td>9.238750</td>\n",
       "      <td>548000.000000</td>\n",
       "      <td>21.437500</td>\n",
       "      <td>85.562500</td>\n",
       "      <td>105.925000</td>\n",
       "      <td>1317.584220</td>\n",
       "    </tr>\n",
       "    <tr>\n",
       "      <th>大安區</th>\n",
       "      <td>23.651719</td>\n",
       "      <td>109.383281</td>\n",
       "      <td>230250.761905</td>\n",
       "      <td>1.859375</td>\n",
       "      <td>1.234375</td>\n",
       "      <td>1.203125</td>\n",
       "      <td>6.088906</td>\n",
       "      <td>271875.000000</td>\n",
       "      <td>24.405405</td>\n",
       "      <td>82.594595</td>\n",
       "      <td>105.968750</td>\n",
       "      <td>2694.109211</td>\n",
       "    </tr>\n",
       "    <tr>\n",
       "      <th>文山區</th>\n",
       "      <td>34.256962</td>\n",
       "      <td>107.841772</td>\n",
       "      <td>141440.131579</td>\n",
       "      <td>2.329114</td>\n",
       "      <td>1.481013</td>\n",
       "      <td>1.405063</td>\n",
       "      <td>9.915570</td>\n",
       "      <td>350379.746835</td>\n",
       "      <td>18.711864</td>\n",
       "      <td>88.288136</td>\n",
       "      <td>105.911392</td>\n",
       "      <td>1472.327290</td>\n",
       "    </tr>\n",
       "    <tr>\n",
       "      <th>松山區</th>\n",
       "      <td>21.413265</td>\n",
       "      <td>96.258367</td>\n",
       "      <td>197897.782609</td>\n",
       "      <td>2.102041</td>\n",
       "      <td>1.448980</td>\n",
       "      <td>1.244898</td>\n",
       "      <td>1.444898</td>\n",
       "      <td>188775.510204</td>\n",
       "      <td>31.545455</td>\n",
       "      <td>75.454545</td>\n",
       "      <td>105.979592</td>\n",
       "      <td>1903.960651</td>\n",
       "    </tr>\n",
       "    <tr>\n",
       "      <th>萬華區</th>\n",
       "      <td>19.552462</td>\n",
       "      <td>76.695538</td>\n",
       "      <td>134037.230769</td>\n",
       "      <td>2.061538</td>\n",
       "      <td>1.276923</td>\n",
       "      <td>1.230769</td>\n",
       "      <td>1.483846</td>\n",
       "      <td>6769.230769</td>\n",
       "      <td>31.037736</td>\n",
       "      <td>75.962264</td>\n",
       "      <td>106.000000</td>\n",
       "      <td>1032.847692</td>\n",
       "    </tr>\n",
       "  </tbody>\n",
       "</table>\n",
       "</div>"
      ],
      "text/plain": [
       "      土地移轉總面積平方公尺  建物移轉總面積平方公尺        單價每平方公尺  建物現況格局-房  建物現況格局-廳  建物現況格局-衛  \\\n",
       "鄉鎮市區                                                                          \n",
       "中山區     15.890442   101.426195  181798.377358  1.911504  1.265487  1.398230   \n",
       "中正區     16.581852   101.396296  199380.440000  1.518519  1.018519  1.055556   \n",
       "信義區     25.934839   117.622903  186657.172414  2.048387  1.290323  1.306452   \n",
       "內湖區     70.540079   166.616220  169604.917355  2.283465  1.385827  1.401575   \n",
       "北投區     74.827432   108.905000  128572.684932  1.662162  1.108108  1.094595   \n",
       "南港區     31.415349   128.813721  162680.815789  1.813953  1.209302  1.186047   \n",
       "士林區     70.117746   117.504648  161196.242424  1.788732  1.211268  1.197183   \n",
       "大同區     15.805500    95.883000  139050.735294  1.825000  1.200000  1.075000   \n",
       "大安區     23.651719   109.383281  230250.761905  1.859375  1.234375  1.203125   \n",
       "文山區     34.256962   107.841772  141440.131579  2.329114  1.481013  1.405063   \n",
       "松山區     21.413265    96.258367  197897.782609  2.102041  1.448980  1.244898   \n",
       "萬華區     19.552462    76.695538  134037.230769  2.061538  1.276923  1.230769   \n",
       "\n",
       "      車位移轉總面積平方公尺          車位總價元         屋齡      建築完成年         交易年  \\\n",
       "鄉鎮市區                                                                 \n",
       "中山區     10.886903  679292.035398  20.969697  86.030303  105.911504   \n",
       "中正區      5.247778  356296.296296  22.761905  84.238095  105.833333   \n",
       "信義區     10.348065  438790.322581  28.704545  78.295455  105.951613   \n",
       "內湖區     16.628740  498188.976378  20.025424  86.974576  105.661417   \n",
       "北投區     14.411351  633108.108108  20.016667  86.983333  105.864865   \n",
       "南港區     16.563488  741860.465116  13.870968  93.129032  105.976744   \n",
       "士林區     14.327606  890140.845070  28.133333  78.866667  106.000000   \n",
       "大同區      9.238750  548000.000000  21.437500  85.562500  105.925000   \n",
       "大安區      6.088906  271875.000000  24.405405  82.594595  105.968750   \n",
       "文山區      9.915570  350379.746835  18.711864  88.288136  105.911392   \n",
       "松山區      1.444898  188775.510204  31.545455  75.454545  105.979592   \n",
       "萬華區      1.483846    6769.230769  31.037736  75.962264  106.000000   \n",
       "\n",
       "              總價元  \n",
       "鄉鎮市區               \n",
       "中山區   1995.253853  \n",
       "中正區   2219.059519  \n",
       "信義區   2111.870113  \n",
       "內湖區   2703.266577  \n",
       "北投區   1768.484626  \n",
       "南港區   2151.740516  \n",
       "士林區   2735.869299  \n",
       "大同區   1317.584220  \n",
       "大安區   2694.109211  \n",
       "文山區   1472.327290  \n",
       "松山區   1903.960651  \n",
       "萬華區   1032.847692  "
      ]
     },
     "execution_count": 30,
     "metadata": {},
     "output_type": "execute_result"
    }
   ],
   "source": [
    "df2 = df[['鄉鎮市區','土地移轉總面積平方公尺','建物移轉總面積平方公尺','單價每平方公尺','建物現況格局-房','建物現況格局-廳','建物現況格局-衛','車位移轉總面積平方公尺','車位總價元','屋齡','建築完成年','交易年','總價元']]\n",
    "df2.groupby('鄉鎮市區').mean()"
   ]
  },
  {
   "cell_type": "code",
   "execution_count": 31,
   "metadata": {},
   "outputs": [
    {
     "data": {
      "text/plain": [
       "<matplotlib.axes._subplots.AxesSubplot at 0x1a186c3780>"
      ]
     },
     "execution_count": 31,
     "metadata": {},
     "output_type": "execute_result"
    },
    {
     "data": {
      "image/png": "[encoded data removed]",
      "text/plain": [
       "<matplotlib.figure.Figure at 0x1a184407f0>"
      ]
     },
     "metadata": {},
     "output_type": "display_data"
    }
   ],
   "source": [
    "df2.groupby('鄉鎮市區').mean().plot(kind='bar',y='單價每平方公尺',figsize=(10,6),fontsize=14,title='各鄉鎮市單價每平方公尺平均')"
   ]
  },
  {
   "cell_type": "markdown",
   "metadata": {},
   "source": [
    "# 3.資料預處理 - 機器學習"
   ]
  },
  {
   "cell_type": "markdown",
   "metadata": {},
   "source": [
    "### ▲針對鄉鎮市區做one-hot encoding "
   ]
  },
  {
   "cell_type": "code",
   "execution_count": 32,
   "metadata": {},
   "outputs": [
    {
     "data": {
      "text/html": [
       "<div>\n",
       "<style scoped>\n",
       "    .dataframe tbody tr th:only-of-type {\n",
       "        vertical-align: middle;\n",
       "    }\n",
       "\n",
       "    .dataframe tbody tr th {\n",
       "        vertical-align: top;\n",
       "    }\n",
       "\n",
       "    .dataframe thead th {\n",
       "        text-align: right;\n",
       "    }\n",
       "</style>\n",
       "<table border=\"1\" class=\"dataframe\">\n",
       "  <thead>\n",
       "    <tr style=\"text-align: right;\">\n",
       "      <th></th>\n",
       "      <th>中山區</th>\n",
       "      <th>中正區</th>\n",
       "      <th>信義區</th>\n",
       "      <th>內湖區</th>\n",
       "      <th>北投區</th>\n",
       "      <th>南港區</th>\n",
       "      <th>士林區</th>\n",
       "      <th>大同區</th>\n",
       "      <th>大安區</th>\n",
       "      <th>文山區</th>\n",
       "      <th>松山區</th>\n",
       "      <th>萬華區</th>\n",
       "    </tr>\n",
       "  </thead>\n",
       "  <tbody>\n",
       "    <tr>\n",
       "      <th>0</th>\n",
       "      <td>0</td>\n",
       "      <td>0</td>\n",
       "      <td>0</td>\n",
       "      <td>0</td>\n",
       "      <td>0</td>\n",
       "      <td>0</td>\n",
       "      <td>0</td>\n",
       "      <td>1</td>\n",
       "      <td>0</td>\n",
       "      <td>0</td>\n",
       "      <td>0</td>\n",
       "      <td>0</td>\n",
       "    </tr>\n",
       "    <tr>\n",
       "      <th>1</th>\n",
       "      <td>0</td>\n",
       "      <td>0</td>\n",
       "      <td>0</td>\n",
       "      <td>1</td>\n",
       "      <td>0</td>\n",
       "      <td>0</td>\n",
       "      <td>0</td>\n",
       "      <td>0</td>\n",
       "      <td>0</td>\n",
       "      <td>0</td>\n",
       "      <td>0</td>\n",
       "      <td>0</td>\n",
       "    </tr>\n",
       "    <tr>\n",
       "      <th>2</th>\n",
       "      <td>0</td>\n",
       "      <td>0</td>\n",
       "      <td>0</td>\n",
       "      <td>1</td>\n",
       "      <td>0</td>\n",
       "      <td>0</td>\n",
       "      <td>0</td>\n",
       "      <td>0</td>\n",
       "      <td>0</td>\n",
       "      <td>0</td>\n",
       "      <td>0</td>\n",
       "      <td>0</td>\n",
       "    </tr>\n",
       "    <tr>\n",
       "      <th>3</th>\n",
       "      <td>0</td>\n",
       "      <td>0</td>\n",
       "      <td>0</td>\n",
       "      <td>1</td>\n",
       "      <td>0</td>\n",
       "      <td>0</td>\n",
       "      <td>0</td>\n",
       "      <td>0</td>\n",
       "      <td>0</td>\n",
       "      <td>0</td>\n",
       "      <td>0</td>\n",
       "      <td>0</td>\n",
       "    </tr>\n",
       "    <tr>\n",
       "      <th>4</th>\n",
       "      <td>0</td>\n",
       "      <td>0</td>\n",
       "      <td>0</td>\n",
       "      <td>1</td>\n",
       "      <td>0</td>\n",
       "      <td>0</td>\n",
       "      <td>0</td>\n",
       "      <td>0</td>\n",
       "      <td>0</td>\n",
       "      <td>0</td>\n",
       "      <td>0</td>\n",
       "      <td>0</td>\n",
       "    </tr>\n",
       "  </tbody>\n",
       "</table>\n",
       "</div>"
      ],
      "text/plain": [
       "   中山區  中正區  信義區  內湖區  北投區  南港區  士林區  大同區  大安區  文山區  松山區  萬華區\n",
       "0    0    0    0    0    0    0    0    1    0    0    0    0\n",
       "1    0    0    0    1    0    0    0    0    0    0    0    0\n",
       "2    0    0    0    1    0    0    0    0    0    0    0    0\n",
       "3    0    0    0    1    0    0    0    0    0    0    0    0\n",
       "4    0    0    0    1    0    0    0    0    0    0    0    0"
      ]
     },
     "execution_count": 32,
     "metadata": {},
     "output_type": "execute_result"
    }
   ],
   "source": [
    "df_region = pd.get_dummies(df['鄉鎮市區'])\n",
    "df_region.head()"
   ]
  },
  {
   "cell_type": "code",
   "execution_count": 33,
   "metadata": {},
   "outputs": [],
   "source": [
    "df_ml = pd.merge(df2,df_region,left_index=True,right_index=True)\n",
    "#df_ml.head()"
   ]
  },
  {
   "cell_type": "markdown",
   "metadata": {},
   "source": [
    "### ▲去除遺失值和極端值"
   ]
  },
  {
   "cell_type": "code",
   "execution_count": 34,
   "metadata": {},
   "outputs": [],
   "source": [
    "df_ml = df_ml.dropna().reset_index(drop=True)"
   ]
  },
  {
   "cell_type": "code",
   "execution_count": 35,
   "metadata": {},
   "outputs": [],
   "source": [
    "df_ml = df_ml[df_ml['建物移轉總面積平方公尺']<1000]"
   ]
  },
  {
   "cell_type": "code",
   "execution_count": 36,
   "metadata": {},
   "outputs": [],
   "source": [
    "#df_ml = df_ml[df_ml['土地移轉總面積平方公尺']<70]"
   ]
  },
  {
   "cell_type": "code",
   "execution_count": 37,
   "metadata": {},
   "outputs": [
    {
     "data": {
      "text/plain": [
       "<matplotlib.axes._subplots.AxesSubplot at 0x1a18714e10>"
      ]
     },
     "execution_count": 37,
     "metadata": {},
     "output_type": "execute_result"
    },
    {
     "data": {
      "image/png": "[encoded data removed]",
      "text/plain": [
       "<matplotlib.figure.Figure at 0x1a17e31278>"
      ]
     },
     "metadata": {},
     "output_type": "display_data"
    }
   ],
   "source": [
    "df_ml.plot(kind='scatter',x='建物移轉總面積平方公尺',y='總價元')"
   ]
  },
  {
   "cell_type": "code",
   "execution_count": 38,
   "metadata": {},
   "outputs": [],
   "source": [
    "#df_ml.plot(kind='scatter',x='土地移轉總面積平方公尺',y='總價元')"
   ]
  },
  {
   "cell_type": "markdown",
   "metadata": {},
   "source": [
    "# 4.使用線性迴歸演算法進行專題分析"
   ]
  },
  {
   "cell_type": "markdown",
   "metadata": {},
   "source": [
    "## 4-1.簡單線性迴歸-使用Scikit-Learn SGDRegressor"
   ]
  },
  {
   "cell_type": "markdown",
   "metadata": {},
   "source": [
    "### ▲切分訓練及測試資料 (1 feature)"
   ]
  },
  {
   "cell_type": "code",
   "execution_count": 39,
   "metadata": {},
   "outputs": [
    {
     "data": {
      "text/html": [
       "<div>\n",
       "<style scoped>\n",
       "    .dataframe tbody tr th:only-of-type {\n",
       "        vertical-align: middle;\n",
       "    }\n",
       "\n",
       "    .dataframe tbody tr th {\n",
       "        vertical-align: top;\n",
       "    }\n",
       "\n",
       "    .dataframe thead th {\n",
       "        text-align: right;\n",
       "    }\n",
       "</style>\n",
       "<table border=\"1\" class=\"dataframe\">\n",
       "  <thead>\n",
       "    <tr style=\"text-align: right;\">\n",
       "      <th></th>\n",
       "      <th>建物移轉總面積平方公尺</th>\n",
       "    </tr>\n",
       "  </thead>\n",
       "  <tbody>\n",
       "    <tr>\n",
       "      <th>88</th>\n",
       "      <td>122.10</td>\n",
       "    </tr>\n",
       "    <tr>\n",
       "      <th>142</th>\n",
       "      <td>36.40</td>\n",
       "    </tr>\n",
       "    <tr>\n",
       "      <th>82</th>\n",
       "      <td>100.89</td>\n",
       "    </tr>\n",
       "    <tr>\n",
       "      <th>220</th>\n",
       "      <td>118.94</td>\n",
       "    </tr>\n",
       "    <tr>\n",
       "      <th>381</th>\n",
       "      <td>190.40</td>\n",
       "    </tr>\n",
       "  </tbody>\n",
       "</table>\n",
       "</div>"
      ],
      "text/plain": [
       "     建物移轉總面積平方公尺\n",
       "88        122.10\n",
       "142        36.40\n",
       "82        100.89\n",
       "220       118.94\n",
       "381       190.40"
      ]
     },
     "execution_count": 39,
     "metadata": {},
     "output_type": "execute_result"
    }
   ],
   "source": [
    "from sklearn.model_selection import train_test_split\n",
    "\n",
    "X = df_ml[['建物移轉總面積平方公尺']]\n",
    "y = df_ml[['總價元']]\n",
    "\n",
    "X_train, X_test, y_train, y_test = train_test_split(X, y, test_size = 0.3) # 30% for testing, 70% for training\n",
    "X_train.head()"
   ]
  },
  {
   "cell_type": "markdown",
   "metadata": {},
   "source": [
    "### ▲特徵標準化(Standardization)"
   ]
  },
  {
   "cell_type": "code",
   "execution_count": 40,
   "metadata": {},
   "outputs": [],
   "source": [
    "from sklearn.preprocessing import StandardScaler\n",
    "sc = StandardScaler()\n",
    "sc.fit(X_train)\n",
    "X_train_normalized = sc.transform(X_train)\n",
    "X_test_normalized = sc.transform(X_test)"
   ]
  },
  {
   "cell_type": "code",
   "execution_count": 41,
   "metadata": {},
   "outputs": [
    {
     "name": "stdout",
     "output_type": "stream",
     "text": [
      "各變項參數: [2288.01651485]\n",
      "MSE: 1069301.00\n",
      "R Square: 0.7983830232270301\n"
     ]
    },
    {
     "data": {
      "image/png": "[encoded data removed]",
      "text/plain": [
       "<matplotlib.figure.Figure at 0x1a18ad07b8>"
      ]
     },
     "metadata": {},
     "output_type": "display_data"
    }
   ],
   "source": [
    "from sklearn import datasets, linear_model\n",
    "\n",
    "#SGDRegressor的input y需要一維矩陣type\n",
    "y_train_1d = y_train.values.ravel()\n",
    "y_test_1d = y_test.values.ravel()\n",
    "\n",
    "# linear regression 物件\n",
    "sgdr = linear_model.SGDRegressor(max_iter=10,learning_rate='constant',eta0=0.001)\n",
    "\n",
    "# 訓練模型\n",
    "sgdr.fit(X_train_normalized, y_train_1d)\n",
    "\n",
    "print('各變項參數:', sgdr.coef_)\n",
    "print(\"MSE: %.2f\" % np.mean((sgdr.predict(X_test_normalized) - y_test_1d) ** 2))\n",
    "print(\"R Square:\",sgdr.score(X_test_normalized,y_test))\n",
    "\n",
    "plt.scatter(X_train['建物移轉總面積平方公尺'], y_train_1d,  color='blue', marker = 'x')\n",
    "\n",
    "plt.plot(X_train, sgdr.predict(X_train_normalized), color='green', linewidth=1)\n",
    "\n",
    "plt.ylabel('總價元(10K)')\n",
    "plt.xlabel('建物移轉總面積平方公尺')\n",
    "\n",
    "plt.show()"
   ]
  },
  {
   "cell_type": "markdown",
   "metadata": {},
   "source": [
    "### ▲K折交叉驗證 (K-fold Cross-Validation) + 學習曲線 (Learning Curve)"
   ]
  },
  {
   "cell_type": "code",
   "execution_count": 42,
   "metadata": {},
   "outputs": [
    {
     "name": "stdout",
     "output_type": "stream",
     "text": [
      "Automatically created module for IPython interactive environment\n"
     ]
    }
   ],
   "source": [
    "# Scikit-Learn 官網作圖函式\n",
    "print(__doc__)\n",
    "\n",
    "import numpy as np\n",
    "import matplotlib.pyplot as plt\n",
    "from sklearn.naive_bayes import GaussianNB\n",
    "from sklearn.svm import SVC\n",
    "from sklearn.datasets import load_digits\n",
    "from sklearn.model_selection import learning_curve\n",
    "from sklearn.model_selection import ShuffleSplit\n",
    "\n",
    "\n",
    "def plot_learning_curve(estimator, title, X, y, ylim=None, cv=None,\n",
    "                        n_jobs=1, train_sizes=np.linspace(.1, 1.0, 5)):\n",
    "    \"\"\"\n",
    "    Generate a simple plot of the test and training learning curve.\n",
    "\n",
    "    Parameters\n",
    "    ----------\n",
    "    estimator : object type that implements the \"fit\" and \"predict\" methods\n",
    "        An object of that type which is cloned for each validation.\n",
    "\n",
    "    title : string\n",
    "        Title for the chart.\n",
    "\n",
    "    X : array-like, shape (n_samples, n_features)\n",
    "        Training vector, where n_samples is the number of samples and\n",
    "        n_features is the number of features.\n",
    "\n",
    "    y : array-like, shape (n_samples) or (n_samples, n_features), optional\n",
    "        Target relative to X for classification or regression;\n",
    "        None for unsupervised learning.\n",
    "\n",
    "    ylim : tuple, shape (ymin, ymax), optional\n",
    "        Defines minimum and maximum yvalues plotted.\n",
    "\n",
    "    cv : int, cross-validation generator or an iterable, optional\n",
    "        Determines the cross-validation splitting strategy.\n",
    "        Possible inputs for cv are:\n",
    "          - None, to use the default 3-fold cross-validation,\n",
    "          - integer, to specify the number of folds.\n",
    "          - An object to be used as a cross-validation generator.\n",
    "          - An iterable yielding train/test splits.\n",
    "\n",
    "        For integer/None inputs, if ``y`` is binary or multiclass,\n",
    "        :class:`StratifiedKFold` used. If the estimator is not a classifier\n",
    "        or if ``y`` is neither binary nor multiclass, :class:`KFold` is used.\n",
    "\n",
    "        Refer :ref:`User Guide <cross_validation>` for the various\n",
    "        cross-validators that can be used here.\n",
    "\n",
    "    n_jobs : integer, optional\n",
    "        Number of jobs to run in parallel (default 1).\n",
    "    \"\"\"\n",
    "    plt.figure(figsize=(10,6))  #調整作圖大小\n",
    "    plt.title(title)\n",
    "    if ylim is not None:\n",
    "        plt.ylim(*ylim)\n",
    "    plt.xlabel(\"Training examples\")\n",
    "    plt.ylabel(\"Score\")\n",
    "    train_sizes, train_scores, test_scores = learning_curve(\n",
    "        estimator, X, y, cv=cv, n_jobs=n_jobs, train_sizes=train_sizes)\n",
    "    train_scores_mean = np.mean(train_scores, axis=1)\n",
    "    train_scores_std = np.std(train_scores, axis=1)\n",
    "    test_scores_mean = np.mean(test_scores, axis=1)\n",
    "    test_scores_std = np.std(test_scores, axis=1)\n",
    "    plt.grid()\n",
    "\n",
    "    plt.fill_between(train_sizes, train_scores_mean - train_scores_std,\n",
    "                     train_scores_mean + train_scores_std, alpha=0.1,\n",
    "                     color=\"r\")\n",
    "    plt.fill_between(train_sizes, test_scores_mean - test_scores_std,\n",
    "                     test_scores_mean + test_scores_std, alpha=0.1, color=\"g\")\n",
    "    plt.plot(train_sizes, train_scores_mean, 'o-', color=\"r\",\n",
    "             label=\"Training score\")\n",
    "    plt.plot(train_sizes, test_scores_mean, 'o-', color=\"g\",\n",
    "             label=\"Cross-validation score\")\n",
    "\n",
    "    plt.legend(loc=\"best\")\n",
    "    return plt"
   ]
  },
  {
   "cell_type": "code",
   "execution_count": 43,
   "metadata": {},
   "outputs": [
    {
     "data": {
      "text/plain": [
       "<module 'matplotlib.pyplot' from '/Users/anna/anaconda3/lib/python3.6/site-packages/matplotlib/pyplot.py'>"
      ]
     },
     "execution_count": 43,
     "metadata": {},
     "output_type": "execute_result"
    },
    {
     "data": {
      "image/png": "[encoded data removed]",
      "text/plain": [
       "<matplotlib.figure.Figure at 0x1a17cb4908>"
      ]
     },
     "metadata": {},
     "output_type": "display_data"
    }
   ],
   "source": [
    "from sklearn.model_selection import KFold,StratifiedKFold\n",
    "\n",
    "cv = KFold(n_splits=5, random_state=None, shuffle=True)\n",
    "estimator = linear_model.SGDRegressor(max_iter=100,learning_rate='constant',eta0=0.01)\n",
    "\n",
    "sc.fit(X_train)\n",
    "plot_learning_curve(estimator, \"SGDRegressor\", \n",
    "                    sc.transform(X), y.values.ravel(), cv=cv, train_sizes=np.linspace(0.2, 1.0, 5))"
   ]
  },
  {
   "cell_type": "markdown",
   "metadata": {},
   "source": [
    "## 4-2.簡單線性迴歸-使用Scikit-Learn LinearRegression"
   ]
  },
  {
   "cell_type": "code",
   "execution_count": 44,
   "metadata": {},
   "outputs": [
    {
     "name": "stdout",
     "output_type": "stream",
     "text": [
      "各變項參數: [[2338.34428708]]\n",
      "MSE: 1068144.24\n",
      "R Square: 0.7986011319892868\n"
     ]
    },
    {
     "data": {
      "image/png": "[encoded data removed]",
      "text/plain": [
       "<matplotlib.figure.Figure at 0x1a19093278>"
      ]
     },
     "metadata": {},
     "output_type": "display_data"
    }
   ],
   "source": [
    "# linear regression\n",
    "regr = linear_model.LinearRegression()\n",
    "\n",
    "# 訓練模型\n",
    "regr.fit(X_train_normalized, y_train)\n",
    "\n",
    "print('各變項參數:', regr.coef_)\n",
    "print(\"MSE: %.2f\" % np.mean((regr.predict(X_test_normalized) - y_test) ** 2))\n",
    "print(\"R Square:\",regr.score(X_test_normalized,y_test))\n",
    "\n",
    "plt.figure(figsize=(10,6))  #調整作圖大小\n",
    "plt.scatter(X_train['建物移轉總面積平方公尺'], y_train['總價元'],  color='blue', marker = 'x')\n",
    "plt.plot(X_train['建物移轉總面積平方公尺'], regr.predict(X_train_normalized), color='green', linewidth=1)\n",
    "\n",
    "plt.ylabel('總價元(10K)')\n",
    "plt.xlabel('建物移轉總面積平方公尺')\n",
    "\n",
    "plt.show()"
   ]
  },
  {
   "cell_type": "code",
   "execution_count": 45,
   "metadata": {},
   "outputs": [
    {
     "data": {
      "text/plain": [
       "<module 'matplotlib.pyplot' from '/Users/anna/anaconda3/lib/python3.6/site-packages/matplotlib/pyplot.py'>"
      ]
     },
     "execution_count": 45,
     "metadata": {},
     "output_type": "execute_result"
    },
    {
     "data": {
      "image/png": "[encoded data removed]",
      "text/plain": [
       "<matplotlib.figure.Figure at 0x1a18ff03c8>"
      ]
     },
     "metadata": {},
     "output_type": "display_data"
    }
   ],
   "source": [
    "cv = KFold(n_splits=4, random_state=None, shuffle=True)\n",
    "estimator = linear_model.LinearRegression()\n",
    "\n",
    "sc.fit(X_train)\n",
    "plot_learning_curve(estimator, \"LinearRegression\", sc.transform(X), \n",
    "                    y.values.ravel(), cv=cv , train_sizes=np.linspace(0.2, 1.0, 5))"
   ]
  },
  {
   "cell_type": "code",
   "execution_count": 46,
   "metadata": {},
   "outputs": [
    {
     "name": "stdout",
     "output_type": "stream",
     "text": [
      "各變項參數: [[2338.34428708]]\n",
      "MSE: 1068144.24\n",
      "R Square: 0.7986011319892868\n"
     ]
    },
    {
     "data": {
      "image/png": "[encoded data removed]",
      "text/plain": [
       "<matplotlib.figure.Figure at 0x1a1957d2b0>"
      ]
     },
     "metadata": {},
     "output_type": "display_data"
    }
   ],
   "source": [
    "# linear regression\n",
    "regr = linear_model.LinearRegression()\n",
    "\n",
    "# 訓練模型\n",
    "regr.fit(X_train_normalized, y_train)\n",
    "\n",
    "print('各變項參數:', regr.coef_)\n",
    "print(\"MSE: %.2f\" % np.mean((regr.predict(X_test_normalized) - y_test) ** 2))\n",
    "print(\"R Square:\",regr.score(X_test_normalized,y_test))\n",
    "\n",
    "plt.figure(figsize=(10,6))  #調整作圖大小\n",
    "plt.scatter(X_train['建物移轉總面積平方公尺'], y_train['總價元'],  color='blue', marker = 'x')\n",
    "plt.plot(X_train['建物移轉總面積平方公尺'], regr.predict(X_train_normalized), color='green', linewidth=1)\n",
    "\n",
    "plt.ylabel('總價元(10K)')\n",
    "plt.xlabel('建物移轉總面積平方公尺')\n",
    "\n",
    "plt.show()"
   ]
  },
  {
   "cell_type": "markdown",
   "metadata": {},
   "source": [
    "# 5.多變項線性迴歸"
   ]
  },
  {
   "cell_type": "markdown",
   "metadata": {},
   "source": [
    "### ▲切分訓練及測試資料 (5 features)"
   ]
  },
  {
   "cell_type": "code",
   "execution_count": 47,
   "metadata": {},
   "outputs": [],
   "source": [
    "X = df_ml[['建物移轉總面積平方公尺','土地移轉總面積平方公尺','車位移轉總面積平方公尺','車位總價元','屋齡']]\n",
    "y = df_ml[['總價元']]"
   ]
  },
  {
   "cell_type": "code",
   "execution_count": 48,
   "metadata": {},
   "outputs": [
    {
     "data": {
      "text/html": [
       "<div>\n",
       "<style scoped>\n",
       "    .dataframe tbody tr th:only-of-type {\n",
       "        vertical-align: middle;\n",
       "    }\n",
       "\n",
       "    .dataframe tbody tr th {\n",
       "        vertical-align: top;\n",
       "    }\n",
       "\n",
       "    .dataframe thead th {\n",
       "        text-align: right;\n",
       "    }\n",
       "</style>\n",
       "<table border=\"1\" class=\"dataframe\">\n",
       "  <thead>\n",
       "    <tr style=\"text-align: right;\">\n",
       "      <th></th>\n",
       "      <th>建物移轉總面積平方公尺</th>\n",
       "      <th>土地移轉總面積平方公尺</th>\n",
       "      <th>車位移轉總面積平方公尺</th>\n",
       "      <th>車位總價元</th>\n",
       "      <th>屋齡</th>\n",
       "    </tr>\n",
       "  </thead>\n",
       "  <tbody>\n",
       "    <tr>\n",
       "      <th>405</th>\n",
       "      <td>73.93</td>\n",
       "      <td>20.50</td>\n",
       "      <td>0.00</td>\n",
       "      <td>0</td>\n",
       "      <td>45.0</td>\n",
       "    </tr>\n",
       "    <tr>\n",
       "      <th>31</th>\n",
       "      <td>98.43</td>\n",
       "      <td>31.04</td>\n",
       "      <td>0.00</td>\n",
       "      <td>0</td>\n",
       "      <td>37.0</td>\n",
       "    </tr>\n",
       "    <tr>\n",
       "      <th>578</th>\n",
       "      <td>53.56</td>\n",
       "      <td>4.96</td>\n",
       "      <td>0.00</td>\n",
       "      <td>0</td>\n",
       "      <td>37.0</td>\n",
       "    </tr>\n",
       "    <tr>\n",
       "      <th>389</th>\n",
       "      <td>173.35</td>\n",
       "      <td>131.54</td>\n",
       "      <td>0.00</td>\n",
       "      <td>0</td>\n",
       "      <td>20.0</td>\n",
       "    </tr>\n",
       "    <tr>\n",
       "      <th>380</th>\n",
       "      <td>190.40</td>\n",
       "      <td>12.22</td>\n",
       "      <td>33.33</td>\n",
       "      <td>2700000</td>\n",
       "      <td>2.0</td>\n",
       "    </tr>\n",
       "  </tbody>\n",
       "</table>\n",
       "</div>"
      ],
      "text/plain": [
       "     建物移轉總面積平方公尺  土地移轉總面積平方公尺  車位移轉總面積平方公尺    車位總價元    屋齡\n",
       "405        73.93        20.50         0.00        0  45.0\n",
       "31         98.43        31.04         0.00        0  37.0\n",
       "578        53.56         4.96         0.00        0  37.0\n",
       "389       173.35       131.54         0.00        0  20.0\n",
       "380       190.40        12.22        33.33  2700000   2.0"
      ]
     },
     "execution_count": 48,
     "metadata": {},
     "output_type": "execute_result"
    }
   ],
   "source": [
    "from sklearn.model_selection import train_test_split\n",
    "X_train, X_test, y_train, y_test = train_test_split(X,y, test_size = 0.3) # 30% for testing, 70% for training\n",
    "X_train.head()"
   ]
  },
  {
   "cell_type": "markdown",
   "metadata": {},
   "source": [
    "### ▲特徵標準化 (Standardization)"
   ]
  },
  {
   "cell_type": "code",
   "execution_count": 49,
   "metadata": {},
   "outputs": [],
   "source": [
    "from sklearn.preprocessing import StandardScaler\n",
    "sc = StandardScaler()\n",
    "sc.fit(X_train)\n",
    "X_train_normalized = sc.transform(X_train)\n",
    "X_test_normalized = sc.transform(X_test)"
   ]
  },
  {
   "cell_type": "markdown",
   "metadata": {},
   "source": [
    "### 5-1.多變項線性迴歸-使用Scikit-Learn LinearRegression"
   ]
  },
  {
   "cell_type": "code",
   "execution_count": 50,
   "metadata": {},
   "outputs": [
    {
     "name": "stdout",
     "output_type": "stream",
     "text": [
      "各變項參數: [[2459.05837053 -392.09850322 -840.56301737 1158.1379859   -99.94713222]]\n",
      "MSE: 993613.84\n",
      "R Square: 0.7802320946507856\n"
     ]
    }
   ],
   "source": [
    "# linear regression 物件\n",
    "regr = linear_model.LinearRegression()\n",
    "\n",
    "# 訓練模型\n",
    "regr.fit(X_train_normalized, y_train)\n",
    "\n",
    "print('各變項參數:', regr.coef_)\n",
    "print(\"MSE: %.2f\" % np.mean((regr.predict(X_test_normalized) - y_test) ** 2))\n",
    "print(\"R Square:\",regr.score(X_test_normalized, y_test))"
   ]
  },
  {
   "cell_type": "code",
   "execution_count": 51,
   "metadata": {},
   "outputs": [
    {
     "data": {
      "text/plain": [
       "<module 'matplotlib.pyplot' from '/Users/anna/anaconda3/lib/python3.6/site-packages/matplotlib/pyplot.py'>"
      ]
     },
     "execution_count": 51,
     "metadata": {},
     "output_type": "execute_result"
    },
    {
     "data": {
      "image/png": "[encoded data removed]",
      "text/plain": [
       "<matplotlib.figure.Figure at 0x1a18ff04a8>"
      ]
     },
     "metadata": {},
     "output_type": "display_data"
    }
   ],
   "source": [
    "#cv = ShuffleSplit(n_splits=3, random_state=None, test_size=0.3)\n",
    "cv = KFold(n_splits=4, random_state=None, shuffle=True)\n",
    "estimator = linear_model.LinearRegression()\n",
    "\n",
    "sc.fit(X_train)\n",
    "plot_learning_curve(estimator, \"MultipleLinearRegression\", \n",
    "                    sc.transform(X), y.values.ravel(), cv=cv , train_sizes=np.linspace(0.1, 1.0, 5))"
   ]
  },
  {
   "cell_type": "markdown",
   "metadata": {},
   "source": [
    "### 5-2.多變項線性迴歸-使用Scikit-Learn SGDRegressor"
   ]
  },
  {
   "cell_type": "code",
   "execution_count": 52,
   "metadata": {},
   "outputs": [
    {
     "name": "stdout",
     "output_type": "stream",
     "text": [
      "各變項參數: [2386.87251638 -462.61613886 -998.90771023 1098.3412204   -57.13208201]\n",
      "MSE: 1121194.71\n",
      "R Square: 0.7520137069703311\n"
     ]
    }
   ],
   "source": [
    "y_train_1d = y_train.values.ravel()\n",
    "y_test_1d = y_test.values.ravel()\n",
    "\n",
    "# SGD Regressor \n",
    "sgdr = linear_model.SGDRegressor(max_iter=100,learning_rate='constant',eta0=0.01)\n",
    "\n",
    "# 訓練模型\n",
    "sgdr.fit(X_train_normalized, y_train_1d)\n",
    "\n",
    "print('各變項參數:', sgdr.coef_)\n",
    "print(\"MSE: %.2f\" % np.mean((sgdr.predict(X_test_normalized) - y_test_1d) ** 2))\n",
    "print(\"R Square:\",sgdr.score(X_test_normalized,y_test_1d))"
   ]
  },
  {
   "cell_type": "code",
   "execution_count": 53,
   "metadata": {},
   "outputs": [
    {
     "data": {
      "text/plain": [
       "<module 'matplotlib.pyplot' from '/Users/anna/anaconda3/lib/python3.6/site-packages/matplotlib/pyplot.py'>"
      ]
     },
     "execution_count": 53,
     "metadata": {},
     "output_type": "execute_result"
    },
    {
     "data": {
      "image/png": "[encoded data removed]",
      "text/plain": [
       "<matplotlib.figure.Figure at 0x1a195b7160>"
      ]
     },
     "metadata": {},
     "output_type": "display_data"
    }
   ],
   "source": [
    "from sklearn.model_selection import ShuffleSplit\n",
    "cv = KFold(n_splits=4, random_state=None, shuffle=True)\n",
    "#cv = ShuffleSplit(n_splits=3, random_state=None, test_size=0.3)\n",
    "estimator = linear_model.SGDRegressor(max_iter=1000,learning_rate='constant',eta0=0.01)\n",
    "\n",
    "plot_learning_curve(estimator, \"MultipleLinearRegression with SGD\", \n",
    "                    sc.transform(X), y.values.ravel(), cv=cv , train_sizes=np.linspace(0.2, 1.0, 5))"
   ]
  },
  {
   "cell_type": "markdown",
   "metadata": {},
   "source": [
    "# 6.多項式(Polynomial) 非線性迴歸"
   ]
  },
  {
   "cell_type": "markdown",
   "metadata": {},
   "source": [
    "### ▲切分訓練及測試資料 (1 feature)"
   ]
  },
  {
   "cell_type": "code",
   "execution_count": 54,
   "metadata": {},
   "outputs": [
    {
     "data": {
      "text/html": [
       "<div>\n",
       "<style scoped>\n",
       "    .dataframe tbody tr th:only-of-type {\n",
       "        vertical-align: middle;\n",
       "    }\n",
       "\n",
       "    .dataframe tbody tr th {\n",
       "        vertical-align: top;\n",
       "    }\n",
       "\n",
       "    .dataframe thead th {\n",
       "        text-align: right;\n",
       "    }\n",
       "</style>\n",
       "<table border=\"1\" class=\"dataframe\">\n",
       "  <thead>\n",
       "    <tr style=\"text-align: right;\">\n",
       "      <th></th>\n",
       "      <th>建物移轉總面積平方公尺</th>\n",
       "    </tr>\n",
       "  </thead>\n",
       "  <tbody>\n",
       "    <tr>\n",
       "      <th>129</th>\n",
       "      <td>24.72</td>\n",
       "    </tr>\n",
       "    <tr>\n",
       "      <th>173</th>\n",
       "      <td>182.43</td>\n",
       "    </tr>\n",
       "    <tr>\n",
       "      <th>629</th>\n",
       "      <td>293.20</td>\n",
       "    </tr>\n",
       "    <tr>\n",
       "      <th>413</th>\n",
       "      <td>48.48</td>\n",
       "    </tr>\n",
       "    <tr>\n",
       "      <th>270</th>\n",
       "      <td>78.55</td>\n",
       "    </tr>\n",
       "  </tbody>\n",
       "</table>\n",
       "</div>"
      ],
      "text/plain": [
       "     建物移轉總面積平方公尺\n",
       "129        24.72\n",
       "173       182.43\n",
       "629       293.20\n",
       "413        48.48\n",
       "270        78.55"
      ]
     },
     "execution_count": 54,
     "metadata": {},
     "output_type": "execute_result"
    }
   ],
   "source": [
    "from sklearn.model_selection import train_test_split\n",
    "X = df_ml[['建物移轉總面積平方公尺']]\n",
    "y = df_ml[['總價元']]\n",
    "X_train, X_test, y_train, y_test = train_test_split(X,y, test_size = 0.3) # 30% for testing, 70% for training\n",
    "X_train.head()"
   ]
  },
  {
   "cell_type": "markdown",
   "metadata": {},
   "source": [
    "### ▲創造高次方變項"
   ]
  },
  {
   "cell_type": "code",
   "execution_count": 55,
   "metadata": {},
   "outputs": [
    {
     "name": "stdout",
     "output_type": "stream",
     "text": [
      "各變項參數: \n",
      " [[0.00000000e+00 1.49754396e+01 1.49701528e-02]]\n",
      "MSE: 876665.21\n",
      "R Square: 0.8006967260053183\n"
     ]
    },
    {
     "data": {
      "image/png": "[encoded data removed]",
      "text/plain": [
       "<matplotlib.figure.Figure at 0x1a1981ea90>"
      ]
     },
     "metadata": {},
     "output_type": "display_data"
    }
   ],
   "source": [
    "from sklearn.preprocessing import PolynomialFeatures\n",
    "\n",
    "quadratic = PolynomialFeatures(degree=2)\n",
    "X_train_raw = X_train.copy() #原始X_train\n",
    "X_test_raw = X_test.copy() #原始X_test\n",
    "X_train_poly = quadratic.fit_transform(X_train_raw) #產生x^0, x^1, x^2\n",
    "X_test_poly = quadratic.fit_transform(X_test_raw) #產生x^0, x^1, x^2\n",
    "\n",
    "# linear regression 物件\n",
    "regr = linear_model.LinearRegression()\n",
    "\n",
    "# 訓練模型\n",
    "regr.fit(X_train_poly, y_train)\n",
    "\n",
    "print('各變項參數: \\n', regr.coef_)\n",
    "print(\"MSE: %.2f\" % np.mean((regr.predict(X_test_poly) - y_test) ** 2))\n",
    "print(\"R Square:\",regr.score(X_test_poly, y_test))\n",
    "\n",
    "# Plot outputs\n",
    "plt.figure(figsize=(10,6))\n",
    "plt.scatter(X_test_raw['建物移轉總面積平方公尺'], y_test['總價元'],  color='blue', marker = 'x')\n",
    "\n",
    "X_fit = pd.DataFrame(np.arange(0,700,1)) #作圖用\n",
    "plt.plot(X_fit, regr.predict(quadratic.fit_transform(X_fit)), color='green', linewidth=1)\n",
    "\n",
    "\n",
    "plt.show()\n",
    "\n"
   ]
  },
  {
   "cell_type": "code",
   "execution_count": 56,
   "metadata": {},
   "outputs": [],
   "source": [
    "quadratic = PolynomialFeatures(degree=2)\n",
    "X_raw = X.copy() #原始X_train\n",
    "X_poly = quadratic.fit_transform(X_raw) #產生x^0, x^1, x^2"
   ]
  },
  {
   "cell_type": "code",
   "execution_count": 57,
   "metadata": {},
   "outputs": [
    {
     "data": {
      "text/plain": [
       "<module 'matplotlib.pyplot' from '/Users/anna/anaconda3/lib/python3.6/site-packages/matplotlib/pyplot.py'>"
      ]
     },
     "execution_count": 57,
     "metadata": {},
     "output_type": "execute_result"
    },
    {
     "data": {
      "image/png": "[encoded data removed]",
      "text/plain": [
       "<matplotlib.figure.Figure at 0x1a1987b898>"
      ]
     },
     "metadata": {},
     "output_type": "display_data"
    }
   ],
   "source": [
    "cv = KFold(n_splits=4, random_state=None, shuffle=True)\n",
    "estimator = linear_model.LinearRegression()\n",
    "plot_learning_curve(estimator, \"Nonlinear Regression\", X_poly, y, cv=cv,train_sizes=np.linspace(0.2, 1.0, 5))"
   ]
  },
  {
   "cell_type": "markdown",
   "metadata": {},
   "source": [
    "# 7.自造簡單線性迴歸 Gradient Descent"
   ]
  },
  {
   "cell_type": "code",
   "execution_count": 58,
   "metadata": {},
   "outputs": [],
   "source": [
    "def computeCost(X, y, weight=np.array([[0,0]])):\n",
    "    m = y.size\n",
    "    J = 0\n",
    "    h = X.dot(weight)\n",
    "    J = 1/(2*m)*np.sum(np.square(h-y))\n",
    "    return(J)\n",
    "\n",
    "def gradientDescent(X, y, weight=np.array([[0,0]]), alpha=0.01, num_iters=1500):\n",
    "    m = y.size\n",
    "    J_history = np.zeros(num_iters)\n",
    "    \n",
    "    for iters in np.arange(num_iters):\n",
    "        h = X.dot(weight)\n",
    "        weight = weight - alpha*(1/m)*(X.T.dot(h-y))\n",
    "        J_history[iters] = computeCost(X, y, weight)\n",
    "    return(weight, J_history)"
   ]
  },
  {
   "cell_type": "code",
   "execution_count": 59,
   "metadata": {},
   "outputs": [
    {
     "data": {
      "text/html": [
       "<div>\n",
       "<style scoped>\n",
       "    .dataframe tbody tr th:only-of-type {\n",
       "        vertical-align: middle;\n",
       "    }\n",
       "\n",
       "    .dataframe tbody tr th {\n",
       "        vertical-align: top;\n",
       "    }\n",
       "\n",
       "    .dataframe thead th {\n",
       "        text-align: right;\n",
       "    }\n",
       "</style>\n",
       "<table border=\"1\" class=\"dataframe\">\n",
       "  <thead>\n",
       "    <tr style=\"text-align: right;\">\n",
       "      <th></th>\n",
       "      <th>建物移轉總面積平方公尺</th>\n",
       "    </tr>\n",
       "  </thead>\n",
       "  <tbody>\n",
       "    <tr>\n",
       "      <th>572</th>\n",
       "      <td>100.77</td>\n",
       "    </tr>\n",
       "    <tr>\n",
       "      <th>566</th>\n",
       "      <td>37.75</td>\n",
       "    </tr>\n",
       "    <tr>\n",
       "      <th>189</th>\n",
       "      <td>230.72</td>\n",
       "    </tr>\n",
       "    <tr>\n",
       "      <th>506</th>\n",
       "      <td>91.72</td>\n",
       "    </tr>\n",
       "    <tr>\n",
       "      <th>56</th>\n",
       "      <td>57.95</td>\n",
       "    </tr>\n",
       "  </tbody>\n",
       "</table>\n",
       "</div>"
      ],
      "text/plain": [
       "     建物移轉總面積平方公尺\n",
       "572       100.77\n",
       "566        37.75\n",
       "189       230.72\n",
       "506        91.72\n",
       "56         57.95"
      ]
     },
     "execution_count": 59,
     "metadata": {},
     "output_type": "execute_result"
    }
   ],
   "source": [
    "X = df_ml[['建物移轉總面積平方公尺']]\n",
    "y = df_ml[['總價元']]\n",
    "\n",
    "X_train, X_test, y_train, y_test = train_test_split(X, y, test_size = 0.3) # 30% for testing, 70% for training\n",
    "X_train.head()"
   ]
  },
  {
   "cell_type": "code",
   "execution_count": 60,
   "metadata": {},
   "outputs": [],
   "source": [
    "sc.fit(X_train)\n",
    "X_train_normalized = sc.transform(X_train)"
   ]
  },
  {
   "cell_type": "code",
   "execution_count": 61,
   "metadata": {},
   "outputs": [
    {
     "name": "stdout",
     "output_type": "stream",
     "text": [
      "weight:  [2184.96983185 2184.96983185]\n"
     ]
    },
    {
     "data": {
      "image/png": "[encoded data removed]",
      "text/plain": [
       "<matplotlib.figure.Figure at 0x1a1941c518>"
      ]
     },
     "metadata": {},
     "output_type": "display_data"
    }
   ],
   "source": [
    "# theta for minimized cost J\n",
    "weight , Cost_J = gradientDescent(X_train_normalized, y_train.values)\n",
    "\n",
    "print('weight: ',weight.ravel())\n",
    "plt.figure(figsize=(10,6))\n",
    "plt.plot(Cost_J)\n",
    "plt.ylabel('Cost J')\n",
    "plt.xlabel('Number of Iterations/Steps');"
   ]
  },
  {
   "cell_type": "markdown",
   "metadata": {},
   "source": [
    "## 結論"
   ]
  },
  {
   "cell_type": "markdown",
   "metadata": {},
   "source": [
    "1.資料預處理的方式越適當,regressor出來的r square的結果越接近理想值"
   ]
  },
  {
   "cell_type": "markdown",
   "metadata": {},
   "source": [
    "2.多特徵值所表現出來的結果較為理想"
   ]
  },
  {
   "cell_type": "markdown",
   "metadata": {},
   "source": [
    "3.建物移轉面積影響是影響總價元最大的特徵因素"
   ]
  },
  {
   "cell_type": "markdown",
   "metadata": {},
   "source": [
    "4.其他要在更精確的預估,須在使用其他演算法在進行比較方能得出更精確的數據統計"
   ]
  }
 ],
 "metadata": {
  "kernelspec": {
   "display_name": "Python 3",
   "language": "python",
   "name": "python3"
  },
  "language_info": {
   "codemirror_mode": {
    "name": "ipython",
    "version": 3
   },
   "file_extension": ".py",
   "mimetype": "text/x-python",
   "name": "python",
   "nbconvert_exporter": "python",
   "pygments_lexer": "ipython3",
   "version": "3.6.4"
  }
 },
 "nbformat": 4,
 "nbformat_minor": 2
}
