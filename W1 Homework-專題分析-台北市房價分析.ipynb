{
 "cells": [
  {
   "cell_type": "markdown",
   "metadata": {},
   "source": [
    "# 專題分析-台北市房價分析"
   ]
  },
  {
   "cell_type": "markdown",
   "metadata": {},
   "source": [
    "### ◉資料來源：政府開放資料平台 - 不動產買賣實價登錄批次資料 (http://data.gov.tw/node/6213) - 台北市資料"
   ]
  },
  {
   "cell_type": "markdown",
   "metadata": {},
   "source": [
    "# 1.資料匯入"
   ]
  },
  {
   "cell_type": "code",
   "execution_count": 1,
   "metadata": {},
   "outputs": [
    {
     "data": {
      "text/html": [
       "<div>\n",
       "<style scoped>\n",
       "    .dataframe tbody tr th:only-of-type {\n",
       "        vertical-align: middle;\n",
       "    }\n",
       "\n",
       "    .dataframe tbody tr th {\n",
       "        vertical-align: top;\n",
       "    }\n",
       "\n",
       "    .dataframe thead th {\n",
       "        text-align: right;\n",
       "    }\n",
       "</style>\n",
       "<table border=\"1\" class=\"dataframe\">\n",
       "  <thead>\n",
       "    <tr style=\"text-align: right;\">\n",
       "      <th></th>\n",
       "      <th>鄉鎮市區</th>\n",
       "      <th>交易標的</th>\n",
       "      <th>土地區段位置或建物區門牌</th>\n",
       "      <th>土地移轉總面積平方公尺</th>\n",
       "      <th>都市土地使用分區</th>\n",
       "      <th>非都市土地使用分區</th>\n",
       "      <th>非都市土地使用編定</th>\n",
       "      <th>交易年月日</th>\n",
       "      <th>交易筆棟數</th>\n",
       "      <th>移轉層次</th>\n",
       "      <th>總樓層數</th>\n",
       "      <th>建物型態</th>\n",
       "      <th>主要用途</th>\n",
       "      <th>主要建材</th>\n",
       "      <th>建築完成年月</th>\n",
       "      <th>建物移轉總面積平方公尺</th>\n",
       "      <th>建物現況格局-房</th>\n",
       "      <th>建物現況格局-廳</th>\n",
       "      <th>建物現況格局-衛</th>\n",
       "      <th>建物現況格局-隔間</th>\n",
       "      <th>有無管理組織</th>\n",
       "      <th>總價元</th>\n",
       "      <th>單價每平方公尺</th>\n",
       "      <th>車位類別</th>\n",
       "      <th>車位移轉總面積平方公尺</th>\n",
       "      <th>車位總價元</th>\n",
       "      <th>備註</th>\n",
       "      <th>編號</th>\n",
       "    </tr>\n",
       "  </thead>\n",
       "  <tbody>\n",
       "    <tr>\n",
       "      <th>620</th>\n",
       "      <td>內湖區</td>\n",
       "      <td>房地(土地+建物)</td>\n",
       "      <td>臺北市內湖區康樂街136巷15弄31~60號</td>\n",
       "      <td>14.33</td>\n",
       "      <td>住</td>\n",
       "      <td>NaN</td>\n",
       "      <td>NaN</td>\n",
       "      <td>1060505</td>\n",
       "      <td>土地1建物1車位0</td>\n",
       "      <td>十一層</td>\n",
       "      <td>十一層</td>\n",
       "      <td>住宅大樓(11層含以上有電梯)</td>\n",
       "      <td>商業用</td>\n",
       "      <td>鋼筋混凝土造</td>\n",
       "      <td>941123.0</td>\n",
       "      <td>73.69</td>\n",
       "      <td>3</td>\n",
       "      <td>2</td>\n",
       "      <td>2</td>\n",
       "      <td>有</td>\n",
       "      <td>有</td>\n",
       "      <td>12800000</td>\n",
       "      <td>173701.0</td>\n",
       "      <td>NaN</td>\n",
       "      <td>0.00</td>\n",
       "      <td>0</td>\n",
       "      <td>含增建或未登記建物。</td>\n",
       "      <td>RPUPMLTJOHMFFCA88DA</td>\n",
       "    </tr>\n",
       "    <tr>\n",
       "      <th>797</th>\n",
       "      <td>中正區</td>\n",
       "      <td>房地(土地+建物)</td>\n",
       "      <td>臺北市中正區重慶南路三段27巷1~30號</td>\n",
       "      <td>27.25</td>\n",
       "      <td>住</td>\n",
       "      <td>NaN</td>\n",
       "      <td>NaN</td>\n",
       "      <td>1060513</td>\n",
       "      <td>土地1建物1車位0</td>\n",
       "      <td>一層，平台</td>\n",
       "      <td>四層</td>\n",
       "      <td>公寓(5樓含以下無電梯)</td>\n",
       "      <td>NaN</td>\n",
       "      <td>鋼筋混凝土造</td>\n",
       "      <td>NaN</td>\n",
       "      <td>74.82</td>\n",
       "      <td>2</td>\n",
       "      <td>2</td>\n",
       "      <td>1</td>\n",
       "      <td>有</td>\n",
       "      <td>無</td>\n",
       "      <td>18000000</td>\n",
       "      <td>240577.0</td>\n",
       "      <td>NaN</td>\n",
       "      <td>0.00</td>\n",
       "      <td>0</td>\n",
       "      <td>共有人數2人。含增建或未登記建物。</td>\n",
       "      <td>RPWOMLPKOHMFFAA38CA</td>\n",
       "    </tr>\n",
       "    <tr>\n",
       "      <th>534</th>\n",
       "      <td>北投區</td>\n",
       "      <td>房地(土地+建物)+車位</td>\n",
       "      <td>臺北市北投區中央北路四段515巷31~60號</td>\n",
       "      <td>16.48</td>\n",
       "      <td>工</td>\n",
       "      <td>NaN</td>\n",
       "      <td>NaN</td>\n",
       "      <td>1060503</td>\n",
       "      <td>土地1建物1車位1</td>\n",
       "      <td>十二層</td>\n",
       "      <td>十四層</td>\n",
       "      <td>住宅大樓(11層含以上有電梯)</td>\n",
       "      <td>見其他登記事項</td>\n",
       "      <td>鋼筋混凝土造</td>\n",
       "      <td>1021129.0</td>\n",
       "      <td>90.38</td>\n",
       "      <td>0</td>\n",
       "      <td>0</td>\n",
       "      <td>0</td>\n",
       "      <td>無</td>\n",
       "      <td>有</td>\n",
       "      <td>10600000</td>\n",
       "      <td>139198.0</td>\n",
       "      <td>坡道平面</td>\n",
       "      <td>27.52</td>\n",
       "      <td>1850000</td>\n",
       "      <td>NaN</td>\n",
       "      <td>RPPNMLSJOHMFFEA18CA</td>\n",
       "    </tr>\n",
       "    <tr>\n",
       "      <th>346</th>\n",
       "      <td>文山區</td>\n",
       "      <td>車位</td>\n",
       "      <td>臺北市文山區興隆路二段217巷1~30號</td>\n",
       "      <td>2.88</td>\n",
       "      <td>住</td>\n",
       "      <td>NaN</td>\n",
       "      <td>NaN</td>\n",
       "      <td>1060513</td>\n",
       "      <td>土地0建物0車位1</td>\n",
       "      <td>地下三層</td>\n",
       "      <td>十三層</td>\n",
       "      <td>其他</td>\n",
       "      <td>見使用執照</td>\n",
       "      <td>鋼筋混凝土造</td>\n",
       "      <td>850715.0</td>\n",
       "      <td>36.70</td>\n",
       "      <td>0</td>\n",
       "      <td>0</td>\n",
       "      <td>0</td>\n",
       "      <td>有</td>\n",
       "      <td>有</td>\n",
       "      <td>1650000</td>\n",
       "      <td>NaN</td>\n",
       "      <td>坡道平面</td>\n",
       "      <td>0.00</td>\n",
       "      <td>1650000</td>\n",
       "      <td>NaN</td>\n",
       "      <td>RPQNMLSJOHMFFAA97DA</td>\n",
       "    </tr>\n",
       "    <tr>\n",
       "      <th>154</th>\n",
       "      <td>信義區</td>\n",
       "      <td>土地</td>\n",
       "      <td>福德段二小段211~240地號</td>\n",
       "      <td>7.25</td>\n",
       "      <td>其他</td>\n",
       "      <td>NaN</td>\n",
       "      <td>NaN</td>\n",
       "      <td>1060522</td>\n",
       "      <td>土地1建物0車位0</td>\n",
       "      <td>NaN</td>\n",
       "      <td>NaN</td>\n",
       "      <td>其他</td>\n",
       "      <td>NaN</td>\n",
       "      <td>NaN</td>\n",
       "      <td>NaN</td>\n",
       "      <td>0.00</td>\n",
       "      <td>0</td>\n",
       "      <td>0</td>\n",
       "      <td>0</td>\n",
       "      <td>有</td>\n",
       "      <td>無</td>\n",
       "      <td>152250</td>\n",
       "      <td>21000.0</td>\n",
       "      <td>NaN</td>\n",
       "      <td>0.00</td>\n",
       "      <td>0</td>\n",
       "      <td>NaN</td>\n",
       "      <td>RPTPMLTJOHMFFDA78CA</td>\n",
       "    </tr>\n",
       "  </tbody>\n",
       "</table>\n",
       "</div>"
      ],
      "text/plain": [
       "    鄉鎮市區          交易標的            土地區段位置或建物區門牌  土地移轉總面積平方公尺 都市土地使用分區  \\\n",
       "620  內湖區     房地(土地+建物)  臺北市內湖區康樂街136巷15弄31~60號        14.33        住   \n",
       "797  中正區     房地(土地+建物)    臺北市中正區重慶南路三段27巷1~30號        27.25        住   \n",
       "534  北投區  房地(土地+建物)+車位  臺北市北投區中央北路四段515巷31~60號        16.48        工   \n",
       "346  文山區            車位    臺北市文山區興隆路二段217巷1~30號         2.88        住   \n",
       "154  信義區            土地         福德段二小段211~240地號         7.25       其他   \n",
       "\n",
       "     非都市土地使用分區  非都市土地使用編定    交易年月日      交易筆棟數   移轉層次 總樓層數             建物型態  \\\n",
       "620        NaN        NaN  1060505  土地1建物1車位0    十一層  十一層  住宅大樓(11層含以上有電梯)   \n",
       "797        NaN        NaN  1060513  土地1建物1車位0  一層，平台   四層     公寓(5樓含以下無電梯)   \n",
       "534        NaN        NaN  1060503  土地1建物1車位1    十二層  十四層  住宅大樓(11層含以上有電梯)   \n",
       "346        NaN        NaN  1060513  土地0建物0車位1   地下三層  十三層               其他   \n",
       "154        NaN        NaN  1060522  土地1建物0車位0    NaN  NaN               其他   \n",
       "\n",
       "        主要用途    主要建材     建築完成年月  建物移轉總面積平方公尺  建物現況格局-房  建物現況格局-廳  建物現況格局-衛  \\\n",
       "620      商業用  鋼筋混凝土造   941123.0        73.69         3         2         2   \n",
       "797      NaN  鋼筋混凝土造        NaN        74.82         2         2         1   \n",
       "534  見其他登記事項  鋼筋混凝土造  1021129.0        90.38         0         0         0   \n",
       "346    見使用執照  鋼筋混凝土造   850715.0        36.70         0         0         0   \n",
       "154      NaN     NaN        NaN         0.00         0         0         0   \n",
       "\n",
       "    建物現況格局-隔間 有無管理組織       總價元   單價每平方公尺  車位類別  車位移轉總面積平方公尺    車位總價元  \\\n",
       "620         有      有  12800000  173701.0   NaN         0.00        0   \n",
       "797         有      無  18000000  240577.0   NaN         0.00        0   \n",
       "534         無      有  10600000  139198.0  坡道平面        27.52  1850000   \n",
       "346         有      有   1650000       NaN  坡道平面         0.00  1650000   \n",
       "154         有      無    152250   21000.0   NaN         0.00        0   \n",
       "\n",
       "                    備註                   編號  \n",
       "620         含增建或未登記建物。  RPUPMLTJOHMFFCA88DA  \n",
       "797  共有人數2人。含增建或未登記建物。  RPWOMLPKOHMFFAA38CA  \n",
       "534                NaN  RPPNMLSJOHMFFEA18CA  \n",
       "346                NaN  RPQNMLSJOHMFFAA97DA  \n",
       "154                NaN  RPTPMLTJOHMFFDA78CA  "
      ]
     },
     "execution_count": 1,
     "metadata": {},
     "output_type": "execute_result"
    }
   ],
   "source": [
    "import pandas as pd\n",
    "import numpy as np\n",
    "import matplotlib.pyplot as plt\n",
    "\n",
    "\n",
    "%matplotlib inline\n",
    "plt.style.use('ggplot')\n",
    "plt.rcParams['font.family']='SimHei' #顯示中文\n",
    "plt.rcParams['axes.unicode_minus']=False #正常顯示負號\n",
    "\n",
    "pd.set_option(\"display.max_columns\",50) #設定pandas最多顯示出50個欄位資訊\n",
    "\n",
    "df = pd.read_csv('A_LVR_LAND_A.csv', encoding='big5') #台北市\n",
    "df.sample(5) #隨機取其中5筆資料"
   ]
  },
  {
   "cell_type": "markdown",
   "metadata": {},
   "source": [
    "### ▲欄位摘要"
   ]
  },
  {
   "cell_type": "code",
   "execution_count": 2,
   "metadata": {},
   "outputs": [
    {
     "name": "stdout",
     "output_type": "stream",
     "text": [
      "<class 'pandas.core.frame.DataFrame'>\n",
      "RangeIndex: 841 entries, 0 to 840\n",
      "Data columns (total 28 columns):\n",
      "鄉鎮市區            841 non-null object\n",
      "交易標的            841 non-null object\n",
      "土地區段位置或建物區門牌    841 non-null object\n",
      "土地移轉總面積平方公尺     841 non-null float64\n",
      "都市土地使用分區        829 non-null object\n",
      "非都市土地使用分區       0 non-null float64\n",
      "非都市土地使用編定       0 non-null float64\n",
      "交易年月日           841 non-null int64\n",
      "交易筆棟數           841 non-null object\n",
      "移轉層次            776 non-null object\n",
      "總樓層數            774 non-null object\n",
      "建物型態            841 non-null object\n",
      "主要用途            747 non-null object\n",
      "主要建材            775 non-null object\n",
      "建築完成年月          679 non-null float64\n",
      "建物移轉總面積平方公尺     841 non-null float64\n",
      "建物現況格局-房        841 non-null int64\n",
      "建物現況格局-廳        841 non-null int64\n",
      "建物現況格局-衛        841 non-null int64\n",
      "建物現況格局-隔間       841 non-null object\n",
      "有無管理組織          841 non-null object\n",
      "總價元             841 non-null int64\n",
      "單價每平方公尺         796 non-null float64\n",
      "車位類別            260 non-null object\n",
      "車位移轉總面積平方公尺     841 non-null float64\n",
      "車位總價元           841 non-null int64\n",
      "備註              406 non-null object\n",
      "編號              841 non-null object\n",
      "dtypes: float64(7), int64(6), object(15)\n",
      "memory usage: 184.0+ KB\n"
     ]
    }
   ],
   "source": [
    "df.info()"
   ]
  },
  {
   "cell_type": "markdown",
   "metadata": {},
   "source": [
    "### ▲各欄位遺失值統計"
   ]
  },
  {
   "cell_type": "code",
   "execution_count": 3,
   "metadata": {},
   "outputs": [
    {
     "data": {
      "text/html": [
       "<div>\n",
       "<style scoped>\n",
       "    .dataframe tbody tr th:only-of-type {\n",
       "        vertical-align: middle;\n",
       "    }\n",
       "\n",
       "    .dataframe tbody tr th {\n",
       "        vertical-align: top;\n",
       "    }\n",
       "\n",
       "    .dataframe thead th {\n",
       "        text-align: right;\n",
       "    }\n",
       "</style>\n",
       "<table border=\"1\" class=\"dataframe\">\n",
       "  <thead>\n",
       "    <tr style=\"text-align: right;\">\n",
       "      <th></th>\n",
       "      <th>筆數</th>\n",
       "      <th>%</th>\n",
       "    </tr>\n",
       "  </thead>\n",
       "  <tbody>\n",
       "    <tr>\n",
       "      <th>非都市土地使用分區</th>\n",
       "      <td>841</td>\n",
       "      <td>100.0</td>\n",
       "    </tr>\n",
       "    <tr>\n",
       "      <th>非都市土地使用編定</th>\n",
       "      <td>841</td>\n",
       "      <td>100.0</td>\n",
       "    </tr>\n",
       "    <tr>\n",
       "      <th>車位類別</th>\n",
       "      <td>581</td>\n",
       "      <td>69.1</td>\n",
       "    </tr>\n",
       "    <tr>\n",
       "      <th>備註</th>\n",
       "      <td>435</td>\n",
       "      <td>51.7</td>\n",
       "    </tr>\n",
       "    <tr>\n",
       "      <th>建築完成年月</th>\n",
       "      <td>162</td>\n",
       "      <td>19.3</td>\n",
       "    </tr>\n",
       "    <tr>\n",
       "      <th>主要用途</th>\n",
       "      <td>94</td>\n",
       "      <td>11.2</td>\n",
       "    </tr>\n",
       "    <tr>\n",
       "      <th>總樓層數</th>\n",
       "      <td>67</td>\n",
       "      <td>8.0</td>\n",
       "    </tr>\n",
       "    <tr>\n",
       "      <th>主要建材</th>\n",
       "      <td>66</td>\n",
       "      <td>7.8</td>\n",
       "    </tr>\n",
       "    <tr>\n",
       "      <th>移轉層次</th>\n",
       "      <td>65</td>\n",
       "      <td>7.7</td>\n",
       "    </tr>\n",
       "    <tr>\n",
       "      <th>單價每平方公尺</th>\n",
       "      <td>45</td>\n",
       "      <td>5.4</td>\n",
       "    </tr>\n",
       "    <tr>\n",
       "      <th>都市土地使用分區</th>\n",
       "      <td>12</td>\n",
       "      <td>1.4</td>\n",
       "    </tr>\n",
       "    <tr>\n",
       "      <th>交易標的</th>\n",
       "      <td>0</td>\n",
       "      <td>0.0</td>\n",
       "    </tr>\n",
       "    <tr>\n",
       "      <th>土地區段位置或建物區門牌</th>\n",
       "      <td>0</td>\n",
       "      <td>0.0</td>\n",
       "    </tr>\n",
       "    <tr>\n",
       "      <th>土地移轉總面積平方公尺</th>\n",
       "      <td>0</td>\n",
       "      <td>0.0</td>\n",
       "    </tr>\n",
       "    <tr>\n",
       "      <th>交易年月日</th>\n",
       "      <td>0</td>\n",
       "      <td>0.0</td>\n",
       "    </tr>\n",
       "  </tbody>\n",
       "</table>\n",
       "</div>"
      ],
      "text/plain": [
       "               筆數      %\n",
       "非都市土地使用分區     841  100.0\n",
       "非都市土地使用編定     841  100.0\n",
       "車位類別          581   69.1\n",
       "備註            435   51.7\n",
       "建築完成年月        162   19.3\n",
       "主要用途           94   11.2\n",
       "總樓層數           67    8.0\n",
       "主要建材           66    7.8\n",
       "移轉層次           65    7.7\n",
       "單價每平方公尺        45    5.4\n",
       "都市土地使用分區       12    1.4\n",
       "交易標的            0    0.0\n",
       "土地區段位置或建物區門牌    0    0.0\n",
       "土地移轉總面積平方公尺     0    0.0\n",
       "交易年月日           0    0.0"
      ]
     },
     "execution_count": 3,
     "metadata": {},
     "output_type": "execute_result"
    }
   ],
   "source": [
    "total = df.isnull().sum().sort_values(ascending=False)\n",
    "percent_1 = df.isnull().sum()/df.isnull().count()*100\n",
    "percent_2 = (round(percent_1, 1)).sort_values(ascending=False)\n",
    "missing_data = pd.concat([total, percent_2], axis=1, keys=['筆數', '%'])\n",
    "missing_data.head(15)"
   ]
  },
  {
   "cell_type": "markdown",
   "metadata": {},
   "source": [
    "### 》結論： 非都市土地使用分區/非都市土地使用編定/車位類別/備註  可於資料預處理時將這些欄位砍掉 \n",
    "初步判斷這些遺失值過多的欄位與此次分析結果的相觀性不高"
   ]
  },
  {
   "cell_type": "markdown",
   "metadata": {},
   "source": [
    "# 2.資料預處理"
   ]
  },
  {
   "cell_type": "markdown",
   "metadata": {},
   "source": [
    "### ▲交易標的：非土地、車位交易"
   ]
  },
  {
   "cell_type": "code",
   "execution_count": 4,
   "metadata": {},
   "outputs": [
    {
     "data": {
      "text/html": [
       "<div>\n",
       "<style scoped>\n",
       "    .dataframe tbody tr th:only-of-type {\n",
       "        vertical-align: middle;\n",
       "    }\n",
       "\n",
       "    .dataframe tbody tr th {\n",
       "        vertical-align: top;\n",
       "    }\n",
       "\n",
       "    .dataframe thead th {\n",
       "        text-align: right;\n",
       "    }\n",
       "</style>\n",
       "<table border=\"1\" class=\"dataframe\">\n",
       "  <thead>\n",
       "    <tr style=\"text-align: right;\">\n",
       "      <th></th>\n",
       "      <th>土地移轉總面積平方公尺</th>\n",
       "      <th>非都市土地使用分區</th>\n",
       "      <th>非都市土地使用編定</th>\n",
       "      <th>交易年月日</th>\n",
       "      <th>建築完成年月</th>\n",
       "      <th>建物移轉總面積平方公尺</th>\n",
       "      <th>建物現況格局-房</th>\n",
       "      <th>建物現況格局-廳</th>\n",
       "      <th>建物現況格局-衛</th>\n",
       "      <th>總價元</th>\n",
       "      <th>單價每平方公尺</th>\n",
       "      <th>車位移轉總面積平方公尺</th>\n",
       "      <th>車位總價元</th>\n",
       "    </tr>\n",
       "    <tr>\n",
       "      <th>交易標的</th>\n",
       "      <th></th>\n",
       "      <th></th>\n",
       "      <th></th>\n",
       "      <th></th>\n",
       "      <th></th>\n",
       "      <th></th>\n",
       "      <th></th>\n",
       "      <th></th>\n",
       "      <th></th>\n",
       "      <th></th>\n",
       "      <th></th>\n",
       "      <th></th>\n",
       "      <th></th>\n",
       "    </tr>\n",
       "  </thead>\n",
       "  <tbody>\n",
       "    <tr>\n",
       "      <th>土地</th>\n",
       "      <td>215.995593</td>\n",
       "      <td>NaN</td>\n",
       "      <td>NaN</td>\n",
       "      <td>1.059181e+06</td>\n",
       "      <td>NaN</td>\n",
       "      <td>0.000000</td>\n",
       "      <td>0.000000</td>\n",
       "      <td>0.000000</td>\n",
       "      <td>0.000000</td>\n",
       "      <td>7.343879e+06</td>\n",
       "      <td>123041.372881</td>\n",
       "      <td>0.000000</td>\n",
       "      <td>0.000000e+00</td>\n",
       "    </tr>\n",
       "    <tr>\n",
       "      <th>建物</th>\n",
       "      <td>0.000000</td>\n",
       "      <td>NaN</td>\n",
       "      <td>NaN</td>\n",
       "      <td>1.054469e+06</td>\n",
       "      <td>941057.222222</td>\n",
       "      <td>80.709000</td>\n",
       "      <td>1.000000</td>\n",
       "      <td>0.600000</td>\n",
       "      <td>1.100000</td>\n",
       "      <td>5.636200e+06</td>\n",
       "      <td>82164.800000</td>\n",
       "      <td>0.000000</td>\n",
       "      <td>0.000000e+00</td>\n",
       "    </tr>\n",
       "    <tr>\n",
       "      <th>房地(土地+建物)</th>\n",
       "      <td>22.567617</td>\n",
       "      <td>NaN</td>\n",
       "      <td>NaN</td>\n",
       "      <td>1.059772e+06</td>\n",
       "      <td>765348.258373</td>\n",
       "      <td>86.596289</td>\n",
       "      <td>2.189453</td>\n",
       "      <td>1.447266</td>\n",
       "      <td>1.380859</td>\n",
       "      <td>1.472509e+07</td>\n",
       "      <td>166718.550781</td>\n",
       "      <td>0.000000</td>\n",
       "      <td>0.000000e+00</td>\n",
       "    </tr>\n",
       "    <tr>\n",
       "      <th>房地(土地+建物)+車位</th>\n",
       "      <td>36.521667</td>\n",
       "      <td>NaN</td>\n",
       "      <td>NaN</td>\n",
       "      <td>1.058768e+06</td>\n",
       "      <td>967275.413953</td>\n",
       "      <td>228.741806</td>\n",
       "      <td>2.430556</td>\n",
       "      <td>1.504630</td>\n",
       "      <td>1.597222</td>\n",
       "      <td>4.283112e+07</td>\n",
       "      <td>191406.018605</td>\n",
       "      <td>34.382361</td>\n",
       "      <td>1.393102e+06</td>\n",
       "    </tr>\n",
       "    <tr>\n",
       "      <th>車位</th>\n",
       "      <td>2.486136</td>\n",
       "      <td>NaN</td>\n",
       "      <td>NaN</td>\n",
       "      <td>1.060058e+06</td>\n",
       "      <td>908492.702703</td>\n",
       "      <td>41.700682</td>\n",
       "      <td>0.000000</td>\n",
       "      <td>0.000000</td>\n",
       "      <td>0.000000</td>\n",
       "      <td>2.502386e+06</td>\n",
       "      <td>NaN</td>\n",
       "      <td>30.595227</td>\n",
       "      <td>2.368295e+06</td>\n",
       "    </tr>\n",
       "  </tbody>\n",
       "</table>\n",
       "</div>"
      ],
      "text/plain": [
       "              土地移轉總面積平方公尺  非都市土地使用分區  非都市土地使用編定         交易年月日         建築完成年月  \\\n",
       "交易標的                                                                           \n",
       "土地             215.995593        NaN        NaN  1.059181e+06            NaN   \n",
       "建物               0.000000        NaN        NaN  1.054469e+06  941057.222222   \n",
       "房地(土地+建物)       22.567617        NaN        NaN  1.059772e+06  765348.258373   \n",
       "房地(土地+建物)+車位    36.521667        NaN        NaN  1.058768e+06  967275.413953   \n",
       "車位               2.486136        NaN        NaN  1.060058e+06  908492.702703   \n",
       "\n",
       "              建物移轉總面積平方公尺  建物現況格局-房  建物現況格局-廳  建物現況格局-衛           總價元  \\\n",
       "交易標的                                                                    \n",
       "土地               0.000000  0.000000  0.000000  0.000000  7.343879e+06   \n",
       "建物              80.709000  1.000000  0.600000  1.100000  5.636200e+06   \n",
       "房地(土地+建物)       86.596289  2.189453  1.447266  1.380859  1.472509e+07   \n",
       "房地(土地+建物)+車位   228.741806  2.430556  1.504630  1.597222  4.283112e+07   \n",
       "車位              41.700682  0.000000  0.000000  0.000000  2.502386e+06   \n",
       "\n",
       "                    單價每平方公尺  車位移轉總面積平方公尺         車位總價元  \n",
       "交易標的                                                    \n",
       "土地            123041.372881     0.000000  0.000000e+00  \n",
       "建物             82164.800000     0.000000  0.000000e+00  \n",
       "房地(土地+建物)     166718.550781     0.000000  0.000000e+00  \n",
       "房地(土地+建物)+車位  191406.018605    34.382361  1.393102e+06  \n",
       "車位                      NaN    30.595227  2.368295e+06  "
      ]
     },
     "execution_count": 4,
     "metadata": {},
     "output_type": "execute_result"
    }
   ],
   "source": [
    "df.groupby('交易標的').mean()"
   ]
  },
  {
   "cell_type": "markdown",
   "metadata": {},
   "source": [
    "### ▲都市土地使用分區：住、其他、商、工、農"
   ]
  },
  {
   "cell_type": "code",
   "execution_count": 5,
   "metadata": {},
   "outputs": [
    {
     "data": {
      "text/html": [
       "<div>\n",
       "<style scoped>\n",
       "    .dataframe tbody tr th:only-of-type {\n",
       "        vertical-align: middle;\n",
       "    }\n",
       "\n",
       "    .dataframe tbody tr th {\n",
       "        vertical-align: top;\n",
       "    }\n",
       "\n",
       "    .dataframe thead th {\n",
       "        text-align: right;\n",
       "    }\n",
       "</style>\n",
       "<table border=\"1\" class=\"dataframe\">\n",
       "  <thead>\n",
       "    <tr style=\"text-align: right;\">\n",
       "      <th></th>\n",
       "      <th>土地移轉總面積平方公尺</th>\n",
       "      <th>非都市土地使用分區</th>\n",
       "      <th>非都市土地使用編定</th>\n",
       "      <th>交易年月日</th>\n",
       "      <th>建築完成年月</th>\n",
       "      <th>建物移轉總面積平方公尺</th>\n",
       "      <th>建物現況格局-房</th>\n",
       "      <th>建物現況格局-廳</th>\n",
       "      <th>建物現況格局-衛</th>\n",
       "      <th>總價元</th>\n",
       "      <th>單價每平方公尺</th>\n",
       "      <th>車位移轉總面積平方公尺</th>\n",
       "      <th>車位總價元</th>\n",
       "    </tr>\n",
       "    <tr>\n",
       "      <th>都市土地使用分區</th>\n",
       "      <th></th>\n",
       "      <th></th>\n",
       "      <th></th>\n",
       "      <th></th>\n",
       "      <th></th>\n",
       "      <th></th>\n",
       "      <th></th>\n",
       "      <th></th>\n",
       "      <th></th>\n",
       "      <th></th>\n",
       "      <th></th>\n",
       "      <th></th>\n",
       "      <th></th>\n",
       "    </tr>\n",
       "  </thead>\n",
       "  <tbody>\n",
       "    <tr>\n",
       "      <th>住</th>\n",
       "      <td>33.650335</td>\n",
       "      <td>NaN</td>\n",
       "      <td>NaN</td>\n",
       "      <td>1.059414e+06</td>\n",
       "      <td>819776.175127</td>\n",
       "      <td>119.547987</td>\n",
       "      <td>2.358491</td>\n",
       "      <td>1.490566</td>\n",
       "      <td>1.433962</td>\n",
       "      <td>2.076854e+07</td>\n",
       "      <td>167962.145695</td>\n",
       "      <td>10.427883</td>\n",
       "      <td>4.271384e+05</td>\n",
       "    </tr>\n",
       "    <tr>\n",
       "      <th>其他</th>\n",
       "      <td>121.896582</td>\n",
       "      <td>NaN</td>\n",
       "      <td>NaN</td>\n",
       "      <td>1.059361e+06</td>\n",
       "      <td>863087.157895</td>\n",
       "      <td>70.172405</td>\n",
       "      <td>0.797468</td>\n",
       "      <td>0.582278</td>\n",
       "      <td>0.569620</td>\n",
       "      <td>1.266451e+07</td>\n",
       "      <td>120907.200000</td>\n",
       "      <td>7.432025</td>\n",
       "      <td>2.351899e+05</td>\n",
       "    </tr>\n",
       "    <tr>\n",
       "      <th>商</th>\n",
       "      <td>15.158623</td>\n",
       "      <td>NaN</td>\n",
       "      <td>NaN</td>\n",
       "      <td>1.059629e+06</td>\n",
       "      <td>857005.548387</td>\n",
       "      <td>104.563117</td>\n",
       "      <td>1.753036</td>\n",
       "      <td>1.194332</td>\n",
       "      <td>1.246964</td>\n",
       "      <td>2.158200e+07</td>\n",
       "      <td>194409.745763</td>\n",
       "      <td>8.087004</td>\n",
       "      <td>5.162348e+05</td>\n",
       "    </tr>\n",
       "    <tr>\n",
       "      <th>工</th>\n",
       "      <td>52.205909</td>\n",
       "      <td>NaN</td>\n",
       "      <td>NaN</td>\n",
       "      <td>1.059568e+06</td>\n",
       "      <td>934172.850000</td>\n",
       "      <td>309.543636</td>\n",
       "      <td>1.136364</td>\n",
       "      <td>0.636364</td>\n",
       "      <td>0.681818</td>\n",
       "      <td>4.634864e+07</td>\n",
       "      <td>142978.388889</td>\n",
       "      <td>41.173636</td>\n",
       "      <td>1.777273e+06</td>\n",
       "    </tr>\n",
       "    <tr>\n",
       "      <th>農</th>\n",
       "      <td>430.670000</td>\n",
       "      <td>NaN</td>\n",
       "      <td>NaN</td>\n",
       "      <td>1.060426e+06</td>\n",
       "      <td>NaN</td>\n",
       "      <td>0.000000</td>\n",
       "      <td>0.000000</td>\n",
       "      <td>0.000000</td>\n",
       "      <td>0.000000</td>\n",
       "      <td>1.511723e+07</td>\n",
       "      <td>40607.500000</td>\n",
       "      <td>0.000000</td>\n",
       "      <td>0.000000e+00</td>\n",
       "    </tr>\n",
       "  </tbody>\n",
       "</table>\n",
       "</div>"
      ],
      "text/plain": [
       "          土地移轉總面積平方公尺  非都市土地使用分區  非都市土地使用編定         交易年月日         建築完成年月  \\\n",
       "都市土地使用分區                                                                   \n",
       "住           33.650335        NaN        NaN  1.059414e+06  819776.175127   \n",
       "其他         121.896582        NaN        NaN  1.059361e+06  863087.157895   \n",
       "商           15.158623        NaN        NaN  1.059629e+06  857005.548387   \n",
       "工           52.205909        NaN        NaN  1.059568e+06  934172.850000   \n",
       "農          430.670000        NaN        NaN  1.060426e+06            NaN   \n",
       "\n",
       "          建物移轉總面積平方公尺  建物現況格局-房  建物現況格局-廳  建物現況格局-衛           總價元  \\\n",
       "都市土地使用分區                                                            \n",
       "住          119.547987  2.358491  1.490566  1.433962  2.076854e+07   \n",
       "其他          70.172405  0.797468  0.582278  0.569620  1.266451e+07   \n",
       "商          104.563117  1.753036  1.194332  1.246964  2.158200e+07   \n",
       "工          309.543636  1.136364  0.636364  0.681818  4.634864e+07   \n",
       "農            0.000000  0.000000  0.000000  0.000000  1.511723e+07   \n",
       "\n",
       "                單價每平方公尺  車位移轉總面積平方公尺         車位總價元  \n",
       "都市土地使用分區                                            \n",
       "住         167962.145695    10.427883  4.271384e+05  \n",
       "其他        120907.200000     7.432025  2.351899e+05  \n",
       "商         194409.745763     8.087004  5.162348e+05  \n",
       "工         142978.388889    41.173636  1.777273e+06  \n",
       "農          40607.500000     0.000000  0.000000e+00  "
      ]
     },
     "execution_count": 5,
     "metadata": {},
     "output_type": "execute_result"
    }
   ],
   "source": [
    "df.groupby('都市土地使用分區').mean()"
   ]
  },
  {
   "cell_type": "code",
   "execution_count": 6,
   "metadata": {},
   "outputs": [],
   "source": [
    "df['都市土地使用分區'] = df['都市土地使用分區'].replace({'住':1,'其他':2,'商':3,\n",
    "                                '工':4,'農':5})"
   ]
  },
  {
   "cell_type": "markdown",
   "metadata": {},
   "source": [
    "### ▲建物型態"
   ]
  },
  {
   "cell_type": "code",
   "execution_count": 7,
   "metadata": {},
   "outputs": [],
   "source": [
    "#df.groupby('建物型態').mean()"
   ]
  },
  {
   "cell_type": "markdown",
   "metadata": {},
   "source": [
    "### ▲建物型態轉換"
   ]
  },
  {
   "cell_type": "code",
   "execution_count": 8,
   "metadata": {},
   "outputs": [],
   "source": [
    "#df['建物型態'] = df['建物型態'].replace({'住宅大樓(11層含以上有電梯)':1,'倉庫':2,'公寓(5樓含以下無電梯)':3,\n",
    "#                                '其他':4,'套房(1房1廳1衛)':5,'店面(店鋪)':6,'廠辦':7,'華廈(10層含以下有電梯)':8,\n",
    "#                                 '辦公商業大樓':9,'透天厝':10})"
   ]
  },
  {
   "cell_type": "code",
   "execution_count": 9,
   "metadata": {},
   "outputs": [],
   "source": [
    "# 去除土地和車位兩種交易資料\n",
    "# df = df[(df['交易標的']!='土地') & (df['交易標的']!='車位')].reset_index(drop=True)"
   ]
  },
  {
   "cell_type": "code",
   "execution_count": 10,
   "metadata": {},
   "outputs": [],
   "source": [
    "df.loc[:,'總價元'] = df.loc[:,'總價元']/10000 #改成以萬為單位，方便圖表顯示"
   ]
  },
  {
   "cell_type": "code",
   "execution_count": 11,
   "metadata": {},
   "outputs": [],
   "source": [
    "#df.sample(1)"
   ]
  },
  {
   "cell_type": "code",
   "execution_count": 12,
   "metadata": {},
   "outputs": [
    {
     "name": "stdout",
     "output_type": "stream",
     "text": [
      "1040303\n",
      "<class 'numpy.int64'>\n"
     ]
    }
   ],
   "source": [
    "print(df.loc[0,'交易年月日'])\n",
    "print(type(df.loc[0,'交易年月日']))"
   ]
  },
  {
   "cell_type": "code",
   "execution_count": 13,
   "metadata": {},
   "outputs": [],
   "source": [
    "for i in range(len(df)):\n",
    "    df.loc[i,'交易年'] = round(df.loc[i,'交易年月日']/10000)"
   ]
  },
  {
   "cell_type": "code",
   "execution_count": 14,
   "metadata": {},
   "outputs": [
    {
     "name": "stdout",
     "output_type": "stream",
     "text": [
      "831111.0\n",
      "<class 'numpy.float64'>\n"
     ]
    }
   ],
   "source": [
    "print(df.loc[0,'建築完成年月'])\n",
    "print(type(df.loc[0,'建築完成年月']))"
   ]
  },
  {
   "cell_type": "code",
   "execution_count": 15,
   "metadata": {},
   "outputs": [
    {
     "data": {
      "text/plain": [
       "2018"
      ]
     },
     "execution_count": 15,
     "metadata": {},
     "output_type": "execute_result"
    }
   ],
   "source": [
    "from datetime import datetime\n",
    "now = datetime.now()\n",
    "now.year #(年,月,日,時,分,秒,微秒) ps: 微秒(microseconds)=1/1000000秒"
   ]
  },
  {
   "cell_type": "code",
   "execution_count": 16,
   "metadata": {},
   "outputs": [],
   "source": [
    "for i in range(len(df)):\n",
    "    df.loc[i,'建築完成年'] = round(df.loc[i,'建築完成年月']/10000)\n",
    "    df.loc[i,'屋齡'] = now.year - 1911 - round(df.loc[i,'建築完成年月']/10000)"
   ]
  },
  {
   "cell_type": "code",
   "execution_count": 17,
   "metadata": {},
   "outputs": [],
   "source": [
    "#df.sample(1)"
   ]
  },
  {
   "cell_type": "markdown",
   "metadata": {},
   "source": [
    "## 2-2.資料探索"
   ]
  },
  {
   "cell_type": "markdown",
   "metadata": {},
   "source": [
    "### ▲各鄉鎮資料筆數"
   ]
  },
  {
   "cell_type": "code",
   "execution_count": 18,
   "metadata": {},
   "outputs": [
    {
     "data": {
      "text/plain": [
       "Text(0,0.5,'資料筆數')"
      ]
     },
     "execution_count": 18,
     "metadata": {},
     "output_type": "execute_result"
    },
    {
     "data": {
      "image/png": "[encoded data removed]",
      "text/plain": [
       "<matplotlib.figure.Figure at 0x10c557668>"
      ]
     },
     "metadata": {},
     "output_type": "display_data"
    }
   ],
   "source": [
    "ax = df.groupby('鄉鎮市區').count().plot(kind='bar',y='編號',figsize=(10,6),fontsize=14,title='各鄉鎮資料筆數')\n",
    "ax.set_ylabel('資料筆數')"
   ]
  },
  {
   "cell_type": "code",
   "execution_count": 19,
   "metadata": {},
   "outputs": [],
   "source": [
    "df['鄉鎮市區'] = df['鄉鎮市區'].replace({'中山區':1,'中正區':2,'信義區':3,\n",
    "                                '內湖區':4,'北投區':5,'南港區':6,'士林區':7,'大同區':8,\n",
    "                                 '大安區':9,'文山區':10,'松山區':11,'萬華區':12})"
   ]
  },
  {
   "cell_type": "code",
   "execution_count": 20,
   "metadata": {},
   "outputs": [],
   "source": [
    "#df"
   ]
  },
  {
   "cell_type": "markdown",
   "metadata": {},
   "source": [
    "## 2-3.相關性分析"
   ]
  },
  {
   "cell_type": "code",
   "execution_count": 21,
   "metadata": {},
   "outputs": [
    {
     "data": {
      "text/html": [
       "<div>\n",
       "<style scoped>\n",
       "    .dataframe tbody tr th:only-of-type {\n",
       "        vertical-align: middle;\n",
       "    }\n",
       "\n",
       "    .dataframe tbody tr th {\n",
       "        vertical-align: top;\n",
       "    }\n",
       "\n",
       "    .dataframe thead th {\n",
       "        text-align: right;\n",
       "    }\n",
       "</style>\n",
       "<table border=\"1\" class=\"dataframe\">\n",
       "  <thead>\n",
       "    <tr style=\"text-align: right;\">\n",
       "      <th></th>\n",
       "      <th>總價元</th>\n",
       "      <th>鄉鎮市區</th>\n",
       "      <th>都市土地使用分區</th>\n",
       "      <th>土地移轉總面積平方公尺</th>\n",
       "      <th>建物移轉總面積平方公尺</th>\n",
       "      <th>建物現況格局-房</th>\n",
       "      <th>建物現況格局-廳</th>\n",
       "      <th>建物現況格局-衛</th>\n",
       "      <th>車位移轉總面積平方公尺</th>\n",
       "      <th>車位總價元</th>\n",
       "      <th>屋齡</th>\n",
       "      <th>建築完成年</th>\n",
       "      <th>交易年</th>\n",
       "    </tr>\n",
       "  </thead>\n",
       "  <tbody>\n",
       "    <tr>\n",
       "      <th>總價元</th>\n",
       "      <td>1.000000</td>\n",
       "      <td>-0.072851</td>\n",
       "      <td>0.050559</td>\n",
       "      <td>0.126101</td>\n",
       "      <td>0.891250</td>\n",
       "      <td>0.122413</td>\n",
       "      <td>0.061610</td>\n",
       "      <td>0.144744</td>\n",
       "      <td>0.405508</td>\n",
       "      <td>0.427849</td>\n",
       "      <td>-0.323922</td>\n",
       "      <td>0.323922</td>\n",
       "      <td>-0.043546</td>\n",
       "    </tr>\n",
       "    <tr>\n",
       "      <th>鄉鎮市區</th>\n",
       "      <td>-0.072851</td>\n",
       "      <td>1.000000</td>\n",
       "      <td>-0.132360</td>\n",
       "      <td>-0.013012</td>\n",
       "      <td>-0.060049</td>\n",
       "      <td>0.043258</td>\n",
       "      <td>0.051698</td>\n",
       "      <td>-0.022813</td>\n",
       "      <td>-0.093119</td>\n",
       "      <td>-0.085656</td>\n",
       "      <td>0.138300</td>\n",
       "      <td>-0.138300</td>\n",
       "      <td>0.124329</td>\n",
       "    </tr>\n",
       "    <tr>\n",
       "      <th>都市土地使用分區</th>\n",
       "      <td>0.050559</td>\n",
       "      <td>-0.132360</td>\n",
       "      <td>1.000000</td>\n",
       "      <td>0.014329</td>\n",
       "      <td>0.019415</td>\n",
       "      <td>-0.238561</td>\n",
       "      <td>-0.233225</td>\n",
       "      <td>-0.157461</td>\n",
       "      <td>0.029506</td>\n",
       "      <td>0.068544</td>\n",
       "      <td>-0.152892</td>\n",
       "      <td>0.152892</td>\n",
       "      <td>0.027413</td>\n",
       "    </tr>\n",
       "    <tr>\n",
       "      <th>土地移轉總面積平方公尺</th>\n",
       "      <td>0.126101</td>\n",
       "      <td>-0.013012</td>\n",
       "      <td>0.014329</td>\n",
       "      <td>1.000000</td>\n",
       "      <td>0.080073</td>\n",
       "      <td>-0.062838</td>\n",
       "      <td>-0.093540</td>\n",
       "      <td>-0.070646</td>\n",
       "      <td>-0.001123</td>\n",
       "      <td>-0.001243</td>\n",
       "      <td>-0.064461</td>\n",
       "      <td>0.064461</td>\n",
       "      <td>-0.049830</td>\n",
       "    </tr>\n",
       "    <tr>\n",
       "      <th>建物移轉總面積平方公尺</th>\n",
       "      <td>0.891250</td>\n",
       "      <td>-0.060049</td>\n",
       "      <td>0.019415</td>\n",
       "      <td>0.080073</td>\n",
       "      <td>1.000000</td>\n",
       "      <td>0.178242</td>\n",
       "      <td>0.110541</td>\n",
       "      <td>0.164372</td>\n",
       "      <td>0.415497</td>\n",
       "      <td>0.336646</td>\n",
       "      <td>-0.280110</td>\n",
       "      <td>0.280110</td>\n",
       "      <td>-0.045614</td>\n",
       "    </tr>\n",
       "    <tr>\n",
       "      <th>建物現況格局-房</th>\n",
       "      <td>0.122413</td>\n",
       "      <td>0.043258</td>\n",
       "      <td>-0.238561</td>\n",
       "      <td>-0.062838</td>\n",
       "      <td>0.178242</td>\n",
       "      <td>1.000000</td>\n",
       "      <td>0.752424</td>\n",
       "      <td>0.817762</td>\n",
       "      <td>-0.004503</td>\n",
       "      <td>-0.071236</td>\n",
       "      <td>0.132107</td>\n",
       "      <td>-0.132107</td>\n",
       "      <td>-0.031167</td>\n",
       "    </tr>\n",
       "    <tr>\n",
       "      <th>建物現況格局-廳</th>\n",
       "      <td>0.061610</td>\n",
       "      <td>0.051698</td>\n",
       "      <td>-0.233225</td>\n",
       "      <td>-0.093540</td>\n",
       "      <td>0.110541</td>\n",
       "      <td>0.752424</td>\n",
       "      <td>1.000000</td>\n",
       "      <td>0.667178</td>\n",
       "      <td>-0.056795</td>\n",
       "      <td>-0.127471</td>\n",
       "      <td>0.091690</td>\n",
       "      <td>-0.091690</td>\n",
       "      <td>-0.005417</td>\n",
       "    </tr>\n",
       "    <tr>\n",
       "      <th>建物現況格局-衛</th>\n",
       "      <td>0.144744</td>\n",
       "      <td>-0.022813</td>\n",
       "      <td>-0.157461</td>\n",
       "      <td>-0.070646</td>\n",
       "      <td>0.164372</td>\n",
       "      <td>0.817762</td>\n",
       "      <td>0.667178</td>\n",
       "      <td>1.000000</td>\n",
       "      <td>-0.010240</td>\n",
       "      <td>-0.069450</td>\n",
       "      <td>0.018843</td>\n",
       "      <td>-0.018843</td>\n",
       "      <td>-0.063467</td>\n",
       "    </tr>\n",
       "    <tr>\n",
       "      <th>車位移轉總面積平方公尺</th>\n",
       "      <td>0.405508</td>\n",
       "      <td>-0.093119</td>\n",
       "      <td>0.029506</td>\n",
       "      <td>-0.001123</td>\n",
       "      <td>0.415497</td>\n",
       "      <td>-0.004503</td>\n",
       "      <td>-0.056795</td>\n",
       "      <td>-0.010240</td>\n",
       "      <td>1.000000</td>\n",
       "      <td>0.772742</td>\n",
       "      <td>-0.458582</td>\n",
       "      <td>0.458582</td>\n",
       "      <td>-0.075538</td>\n",
       "    </tr>\n",
       "    <tr>\n",
       "      <th>車位總價元</th>\n",
       "      <td>0.427849</td>\n",
       "      <td>-0.085656</td>\n",
       "      <td>0.068544</td>\n",
       "      <td>-0.001243</td>\n",
       "      <td>0.336646</td>\n",
       "      <td>-0.071236</td>\n",
       "      <td>-0.127471</td>\n",
       "      <td>-0.069450</td>\n",
       "      <td>0.772742</td>\n",
       "      <td>1.000000</td>\n",
       "      <td>-0.361603</td>\n",
       "      <td>0.361603</td>\n",
       "      <td>-0.041483</td>\n",
       "    </tr>\n",
       "    <tr>\n",
       "      <th>屋齡</th>\n",
       "      <td>-0.323922</td>\n",
       "      <td>0.138300</td>\n",
       "      <td>-0.152892</td>\n",
       "      <td>-0.064461</td>\n",
       "      <td>-0.280110</td>\n",
       "      <td>0.132107</td>\n",
       "      <td>0.091690</td>\n",
       "      <td>0.018843</td>\n",
       "      <td>-0.458582</td>\n",
       "      <td>-0.361603</td>\n",
       "      <td>1.000000</td>\n",
       "      <td>-1.000000</td>\n",
       "      <td>0.132450</td>\n",
       "    </tr>\n",
       "    <tr>\n",
       "      <th>建築完成年</th>\n",
       "      <td>0.323922</td>\n",
       "      <td>-0.138300</td>\n",
       "      <td>0.152892</td>\n",
       "      <td>0.064461</td>\n",
       "      <td>0.280110</td>\n",
       "      <td>-0.132107</td>\n",
       "      <td>-0.091690</td>\n",
       "      <td>-0.018843</td>\n",
       "      <td>0.458582</td>\n",
       "      <td>0.361603</td>\n",
       "      <td>-1.000000</td>\n",
       "      <td>1.000000</td>\n",
       "      <td>-0.132450</td>\n",
       "    </tr>\n",
       "    <tr>\n",
       "      <th>交易年</th>\n",
       "      <td>-0.043546</td>\n",
       "      <td>0.124329</td>\n",
       "      <td>0.027413</td>\n",
       "      <td>-0.049830</td>\n",
       "      <td>-0.045614</td>\n",
       "      <td>-0.031167</td>\n",
       "      <td>-0.005417</td>\n",
       "      <td>-0.063467</td>\n",
       "      <td>-0.075538</td>\n",
       "      <td>-0.041483</td>\n",
       "      <td>0.132450</td>\n",
       "      <td>-0.132450</td>\n",
       "      <td>1.000000</td>\n",
       "    </tr>\n",
       "  </tbody>\n",
       "</table>\n",
       "</div>"
      ],
      "text/plain": [
       "                  總價元      鄉鎮市區  都市土地使用分區  土地移轉總面積平方公尺  建物移轉總面積平方公尺  建物現況格局-房  \\\n",
       "總價元          1.000000 -0.072851  0.050559     0.126101     0.891250  0.122413   \n",
       "鄉鎮市區        -0.072851  1.000000 -0.132360    -0.013012    -0.060049  0.043258   \n",
       "都市土地使用分區     0.050559 -0.132360  1.000000     0.014329     0.019415 -0.238561   \n",
       "土地移轉總面積平方公尺  0.126101 -0.013012  0.014329     1.000000     0.080073 -0.062838   \n",
       "建物移轉總面積平方公尺  0.891250 -0.060049  0.019415     0.080073     1.000000  0.178242   \n",
       "建物現況格局-房     0.122413  0.043258 -0.238561    -0.062838     0.178242  1.000000   \n",
       "建物現況格局-廳     0.061610  0.051698 -0.233225    -0.093540     0.110541  0.752424   \n",
       "建物現況格局-衛     0.144744 -0.022813 -0.157461    -0.070646     0.164372  0.817762   \n",
       "車位移轉總面積平方公尺  0.405508 -0.093119  0.029506    -0.001123     0.415497 -0.004503   \n",
       "車位總價元        0.427849 -0.085656  0.068544    -0.001243     0.336646 -0.071236   \n",
       "屋齡          -0.323922  0.138300 -0.152892    -0.064461    -0.280110  0.132107   \n",
       "建築完成年        0.323922 -0.138300  0.152892     0.064461     0.280110 -0.132107   \n",
       "交易年         -0.043546  0.124329  0.027413    -0.049830    -0.045614 -0.031167   \n",
       "\n",
       "             建物現況格局-廳  建物現況格局-衛  車位移轉總面積平方公尺     車位總價元        屋齡     建築完成年  \\\n",
       "總價元          0.061610  0.144744     0.405508  0.427849 -0.323922  0.323922   \n",
       "鄉鎮市區         0.051698 -0.022813    -0.093119 -0.085656  0.138300 -0.138300   \n",
       "都市土地使用分區    -0.233225 -0.157461     0.029506  0.068544 -0.152892  0.152892   \n",
       "土地移轉總面積平方公尺 -0.093540 -0.070646    -0.001123 -0.001243 -0.064461  0.064461   \n",
       "建物移轉總面積平方公尺  0.110541  0.164372     0.415497  0.336646 -0.280110  0.280110   \n",
       "建物現況格局-房     0.752424  0.817762    -0.004503 -0.071236  0.132107 -0.132107   \n",
       "建物現況格局-廳     1.000000  0.667178    -0.056795 -0.127471  0.091690 -0.091690   \n",
       "建物現況格局-衛     0.667178  1.000000    -0.010240 -0.069450  0.018843 -0.018843   \n",
       "車位移轉總面積平方公尺 -0.056795 -0.010240     1.000000  0.772742 -0.458582  0.458582   \n",
       "車位總價元       -0.127471 -0.069450     0.772742  1.000000 -0.361603  0.361603   \n",
       "屋齡           0.091690  0.018843    -0.458582 -0.361603  1.000000 -1.000000   \n",
       "建築完成年       -0.091690 -0.018843     0.458582  0.361603 -1.000000  1.000000   \n",
       "交易年         -0.005417 -0.063467    -0.075538 -0.041483  0.132450 -0.132450   \n",
       "\n",
       "                  交易年  \n",
       "總價元         -0.043546  \n",
       "鄉鎮市區         0.124329  \n",
       "都市土地使用分區     0.027413  \n",
       "土地移轉總面積平方公尺 -0.049830  \n",
       "建物移轉總面積平方公尺 -0.045614  \n",
       "建物現況格局-房    -0.031167  \n",
       "建物現況格局-廳    -0.005417  \n",
       "建物現況格局-衛    -0.063467  \n",
       "車位移轉總面積平方公尺 -0.075538  \n",
       "車位總價元       -0.041483  \n",
       "屋齡           0.132450  \n",
       "建築完成年       -0.132450  \n",
       "交易年          1.000000  "
      ]
     },
     "execution_count": 21,
     "metadata": {},
     "output_type": "execute_result"
    }
   ],
   "source": [
    "corr = df[['總價元','鄉鎮市區','建物型態','都市土地使用分區','土地移轉總面積平方公尺','建物移轉總面積平方公尺',\n",
    "           '建物現況格局-房','建物現況格局-廳','建物現況格局-衛','車位移轉總面積平方公尺','車位總價元','屋齡','建築完成年','交易年']].corr()\n",
    "corr"
   ]
  },
  {
   "cell_type": "code",
   "execution_count": 22,
   "metadata": {},
   "outputs": [
    {
     "data": {
      "image/png": "[encoded data removed]",
      "text/plain": [
       "<matplotlib.figure.Figure at 0x110011748>"
      ]
     },
     "metadata": {},
     "output_type": "display_data"
    }
   ],
   "source": [
    "import seaborn as sns\n",
    "plt.rcParams['font.family']='SimHei' #顯示中文\n",
    "plt.figure(figsize=(10,10))\n",
    "sns.heatmap(corr, square=True, annot=True)\n",
    "plt.show()"
   ]
  },
  {
   "cell_type": "code",
   "execution_count": 23,
   "metadata": {},
   "outputs": [
    {
     "data": {
      "text/plain": [
       "<matplotlib.axes._subplots.AxesSubplot at 0x1a1a2b1198>"
      ]
     },
     "execution_count": 23,
     "metadata": {},
     "output_type": "execute_result"
    },
    {
     "data": {
      "image/png": "[encoded data removed]",
      "text/plain": [
       "<matplotlib.figure.Figure at 0x1a1a2b17f0>"
      ]
     },
     "metadata": {},
     "output_type": "display_data"
    }
   ],
   "source": [
    "df.plot(kind='scatter',title='散佈圖',figsize=(10,6),x='建物現況格局-房',y='總價元',marker='+')"
   ]
  },
  {
   "cell_type": "code",
   "execution_count": 24,
   "metadata": {},
   "outputs": [
    {
     "data": {
      "text/plain": [
       "<matplotlib.axes._subplots.AxesSubplot at 0x1a1a4aba20>"
      ]
     },
     "execution_count": 24,
     "metadata": {},
     "output_type": "execute_result"
    },
    {
     "data": {
      "image/png": "[encoded data removed]",
      "text/plain": [
       "<matplotlib.figure.Figure at 0x1a19f92f28>"
      ]
     },
     "metadata": {},
     "output_type": "display_data"
    }
   ],
   "source": [
    "df.plot(kind='scatter',title='散佈圖',figsize=(10,6),x='建物移轉總面積平方公尺',y='總價元',marker='+')"
   ]
  },
  {
   "cell_type": "code",
   "execution_count": 25,
   "metadata": {},
   "outputs": [
    {
     "data": {
      "text/plain": [
       "<matplotlib.axes._subplots.AxesSubplot at 0x1a1a5f1b00>"
      ]
     },
     "execution_count": 25,
     "metadata": {},
     "output_type": "execute_result"
    },
    {
     "data": {
      "image/png": "[encoded data removed]",
      "text/plain": [
       "<matplotlib.figure.Figure at 0x1a1a498f98>"
      ]
     },
     "metadata": {},
     "output_type": "display_data"
    }
   ],
   "source": [
    "df.plot(kind='scatter',title='散佈圖',figsize=(10,6),x='鄉鎮市區',y='總價元',marker='+')"
   ]
  },
  {
   "cell_type": "code",
   "execution_count": 26,
   "metadata": {},
   "outputs": [
    {
     "data": {
      "text/plain": [
       "<matplotlib.axes._subplots.AxesSubplot at 0x1a1a2e75c0>"
      ]
     },
     "execution_count": 26,
     "metadata": {},
     "output_type": "execute_result"
    },
    {
     "data": {
      "image/png": "[encoded data removed]",
      "text/plain": [
       "<matplotlib.figure.Figure at 0x1a1a4c7320>"
      ]
     },
     "metadata": {},
     "output_type": "display_data"
    }
   ],
   "source": [
    "df.plot(kind='scatter',title='散佈圖',figsize=(10,6),x='土地移轉總面積平方公尺',y='總價元',marker='+')"
   ]
  },
  {
   "cell_type": "code",
   "execution_count": 27,
   "metadata": {},
   "outputs": [
    {
     "data": {
      "text/plain": [
       "<matplotlib.axes._subplots.AxesSubplot at 0x1a1a892ac8>"
      ]
     },
     "execution_count": 27,
     "metadata": {},
     "output_type": "execute_result"
    },
    {
     "data": {
      "image/png": "[encoded data removed]",
      "text/plain": [
       "<matplotlib.figure.Figure at 0x1a1a76c748>"
      ]
     },
     "metadata": {},
     "output_type": "display_data"
    }
   ],
   "source": [
    "df.plot(kind='scatter',title='散佈圖',figsize=(10,6),x='建物現況格局-廳',y='總價元',marker='+')"
   ]
  },
  {
   "cell_type": "code",
   "execution_count": 28,
   "metadata": {},
   "outputs": [
    {
     "data": {
      "text/plain": [
       "<matplotlib.axes._subplots.AxesSubplot at 0x1a19fa5198>"
      ]
     },
     "execution_count": 28,
     "metadata": {},
     "output_type": "execute_result"
    },
    {
     "data": {
      "image/png": "[encoded data removed]",
      "text/plain": [
       "<matplotlib.figure.Figure at 0x1a19f7d128>"
      ]
     },
     "metadata": {},
     "output_type": "display_data"
    }
   ],
   "source": [
    "df.plot(kind='scatter',title='散佈圖',figsize=(10,6),x='車位移轉總面積平方公尺',y='總價元',marker='+')"
   ]
  },
  {
   "cell_type": "markdown",
   "metadata": {},
   "source": [
    "### ▲各鄉鎮比較"
   ]
  },
  {
   "cell_type": "code",
   "execution_count": 29,
   "metadata": {},
   "outputs": [
    {
     "data": {
      "text/html": [
       "<div>\n",
       "<style scoped>\n",
       "    .dataframe tbody tr th:only-of-type {\n",
       "        vertical-align: middle;\n",
       "    }\n",
       "\n",
       "    .dataframe tbody tr th {\n",
       "        vertical-align: top;\n",
       "    }\n",
       "\n",
       "    .dataframe thead th {\n",
       "        text-align: right;\n",
       "    }\n",
       "</style>\n",
       "<table border=\"1\" class=\"dataframe\">\n",
       "  <thead>\n",
       "    <tr style=\"text-align: right;\">\n",
       "      <th></th>\n",
       "      <th>土地移轉總面積平方公尺</th>\n",
       "      <th>建物移轉總面積平方公尺</th>\n",
       "      <th>單價每平方公尺</th>\n",
       "      <th>建物現況格局-房</th>\n",
       "      <th>建物現況格局-廳</th>\n",
       "      <th>建物現況格局-衛</th>\n",
       "      <th>車位移轉總面積平方公尺</th>\n",
       "      <th>車位總價元</th>\n",
       "      <th>屋齡</th>\n",
       "      <th>建築完成年</th>\n",
       "      <th>交易年</th>\n",
       "      <th>總價元</th>\n",
       "    </tr>\n",
       "    <tr>\n",
       "      <th>鄉鎮市區</th>\n",
       "      <th></th>\n",
       "      <th></th>\n",
       "      <th></th>\n",
       "      <th></th>\n",
       "      <th></th>\n",
       "      <th></th>\n",
       "      <th></th>\n",
       "      <th></th>\n",
       "      <th></th>\n",
       "      <th></th>\n",
       "      <th></th>\n",
       "      <th></th>\n",
       "    </tr>\n",
       "  </thead>\n",
       "  <tbody>\n",
       "    <tr>\n",
       "      <th>1</th>\n",
       "      <td>15.890442</td>\n",
       "      <td>101.426195</td>\n",
       "      <td>181798.377358</td>\n",
       "      <td>1.911504</td>\n",
       "      <td>1.265487</td>\n",
       "      <td>1.398230</td>\n",
       "      <td>10.886903</td>\n",
       "      <td>679292.035398</td>\n",
       "      <td>20.969697</td>\n",
       "      <td>86.030303</td>\n",
       "      <td>105.911504</td>\n",
       "      <td>1995.253853</td>\n",
       "    </tr>\n",
       "    <tr>\n",
       "      <th>2</th>\n",
       "      <td>16.581852</td>\n",
       "      <td>101.396296</td>\n",
       "      <td>199380.440000</td>\n",
       "      <td>1.518519</td>\n",
       "      <td>1.018519</td>\n",
       "      <td>1.055556</td>\n",
       "      <td>5.247778</td>\n",
       "      <td>356296.296296</td>\n",
       "      <td>22.761905</td>\n",
       "      <td>84.238095</td>\n",
       "      <td>105.833333</td>\n",
       "      <td>2219.059519</td>\n",
       "    </tr>\n",
       "    <tr>\n",
       "      <th>3</th>\n",
       "      <td>25.934839</td>\n",
       "      <td>117.622903</td>\n",
       "      <td>186657.172414</td>\n",
       "      <td>2.048387</td>\n",
       "      <td>1.290323</td>\n",
       "      <td>1.306452</td>\n",
       "      <td>10.348065</td>\n",
       "      <td>438790.322581</td>\n",
       "      <td>28.704545</td>\n",
       "      <td>78.295455</td>\n",
       "      <td>105.951613</td>\n",
       "      <td>2111.870113</td>\n",
       "    </tr>\n",
       "    <tr>\n",
       "      <th>4</th>\n",
       "      <td>70.540079</td>\n",
       "      <td>166.616220</td>\n",
       "      <td>169604.917355</td>\n",
       "      <td>2.283465</td>\n",
       "      <td>1.385827</td>\n",
       "      <td>1.401575</td>\n",
       "      <td>16.628740</td>\n",
       "      <td>498188.976378</td>\n",
       "      <td>20.025424</td>\n",
       "      <td>86.974576</td>\n",
       "      <td>105.661417</td>\n",
       "      <td>2703.266577</td>\n",
       "    </tr>\n",
       "    <tr>\n",
       "      <th>5</th>\n",
       "      <td>74.827432</td>\n",
       "      <td>108.905000</td>\n",
       "      <td>128572.684932</td>\n",
       "      <td>1.662162</td>\n",
       "      <td>1.108108</td>\n",
       "      <td>1.094595</td>\n",
       "      <td>14.411351</td>\n",
       "      <td>633108.108108</td>\n",
       "      <td>20.016667</td>\n",
       "      <td>86.983333</td>\n",
       "      <td>105.864865</td>\n",
       "      <td>1768.484626</td>\n",
       "    </tr>\n",
       "    <tr>\n",
       "      <th>6</th>\n",
       "      <td>31.415349</td>\n",
       "      <td>128.813721</td>\n",
       "      <td>162680.815789</td>\n",
       "      <td>1.813953</td>\n",
       "      <td>1.209302</td>\n",
       "      <td>1.186047</td>\n",
       "      <td>16.563488</td>\n",
       "      <td>741860.465116</td>\n",
       "      <td>13.870968</td>\n",
       "      <td>93.129032</td>\n",
       "      <td>105.976744</td>\n",
       "      <td>2151.740516</td>\n",
       "    </tr>\n",
       "    <tr>\n",
       "      <th>7</th>\n",
       "      <td>70.117746</td>\n",
       "      <td>117.504648</td>\n",
       "      <td>161196.242424</td>\n",
       "      <td>1.788732</td>\n",
       "      <td>1.211268</td>\n",
       "      <td>1.197183</td>\n",
       "      <td>14.327606</td>\n",
       "      <td>890140.845070</td>\n",
       "      <td>28.133333</td>\n",
       "      <td>78.866667</td>\n",
       "      <td>106.000000</td>\n",
       "      <td>2735.869299</td>\n",
       "    </tr>\n",
       "    <tr>\n",
       "      <th>8</th>\n",
       "      <td>15.805500</td>\n",
       "      <td>95.883000</td>\n",
       "      <td>139050.735294</td>\n",
       "      <td>1.825000</td>\n",
       "      <td>1.200000</td>\n",
       "      <td>1.075000</td>\n",
       "      <td>9.238750</td>\n",
       "      <td>548000.000000</td>\n",
       "      <td>21.437500</td>\n",
       "      <td>85.562500</td>\n",
       "      <td>105.925000</td>\n",
       "      <td>1317.584220</td>\n",
       "    </tr>\n",
       "    <tr>\n",
       "      <th>9</th>\n",
       "      <td>23.651719</td>\n",
       "      <td>109.383281</td>\n",
       "      <td>230250.761905</td>\n",
       "      <td>1.859375</td>\n",
       "      <td>1.234375</td>\n",
       "      <td>1.203125</td>\n",
       "      <td>6.088906</td>\n",
       "      <td>271875.000000</td>\n",
       "      <td>24.405405</td>\n",
       "      <td>82.594595</td>\n",
       "      <td>105.968750</td>\n",
       "      <td>2694.109211</td>\n",
       "    </tr>\n",
       "    <tr>\n",
       "      <th>10</th>\n",
       "      <td>34.256962</td>\n",
       "      <td>107.841772</td>\n",
       "      <td>141440.131579</td>\n",
       "      <td>2.329114</td>\n",
       "      <td>1.481013</td>\n",
       "      <td>1.405063</td>\n",
       "      <td>9.915570</td>\n",
       "      <td>350379.746835</td>\n",
       "      <td>18.711864</td>\n",
       "      <td>88.288136</td>\n",
       "      <td>105.911392</td>\n",
       "      <td>1472.327290</td>\n",
       "    </tr>\n",
       "    <tr>\n",
       "      <th>11</th>\n",
       "      <td>21.413265</td>\n",
       "      <td>96.258367</td>\n",
       "      <td>197897.782609</td>\n",
       "      <td>2.102041</td>\n",
       "      <td>1.448980</td>\n",
       "      <td>1.244898</td>\n",
       "      <td>1.444898</td>\n",
       "      <td>188775.510204</td>\n",
       "      <td>31.545455</td>\n",
       "      <td>75.454545</td>\n",
       "      <td>105.979592</td>\n",
       "      <td>1903.960651</td>\n",
       "    </tr>\n",
       "    <tr>\n",
       "      <th>12</th>\n",
       "      <td>19.552462</td>\n",
       "      <td>76.695538</td>\n",
       "      <td>134037.230769</td>\n",
       "      <td>2.061538</td>\n",
       "      <td>1.276923</td>\n",
       "      <td>1.230769</td>\n",
       "      <td>1.483846</td>\n",
       "      <td>6769.230769</td>\n",
       "      <td>31.037736</td>\n",
       "      <td>75.962264</td>\n",
       "      <td>106.000000</td>\n",
       "      <td>1032.847692</td>\n",
       "    </tr>\n",
       "  </tbody>\n",
       "</table>\n",
       "</div>"
      ],
      "text/plain": [
       "      土地移轉總面積平方公尺  建物移轉總面積平方公尺        單價每平方公尺  建物現況格局-房  建物現況格局-廳  建物現況格局-衛  \\\n",
       "鄉鎮市區                                                                          \n",
       "1       15.890442   101.426195  181798.377358  1.911504  1.265487  1.398230   \n",
       "2       16.581852   101.396296  199380.440000  1.518519  1.018519  1.055556   \n",
       "3       25.934839   117.622903  186657.172414  2.048387  1.290323  1.306452   \n",
       "4       70.540079   166.616220  169604.917355  2.283465  1.385827  1.401575   \n",
       "5       74.827432   108.905000  128572.684932  1.662162  1.108108  1.094595   \n",
       "6       31.415349   128.813721  162680.815789  1.813953  1.209302  1.186047   \n",
       "7       70.117746   117.504648  161196.242424  1.788732  1.211268  1.197183   \n",
       "8       15.805500    95.883000  139050.735294  1.825000  1.200000  1.075000   \n",
       "9       23.651719   109.383281  230250.761905  1.859375  1.234375  1.203125   \n",
       "10      34.256962   107.841772  141440.131579  2.329114  1.481013  1.405063   \n",
       "11      21.413265    96.258367  197897.782609  2.102041  1.448980  1.244898   \n",
       "12      19.552462    76.695538  134037.230769  2.061538  1.276923  1.230769   \n",
       "\n",
       "      車位移轉總面積平方公尺          車位總價元         屋齡      建築完成年         交易年  \\\n",
       "鄉鎮市區                                                                 \n",
       "1       10.886903  679292.035398  20.969697  86.030303  105.911504   \n",
       "2        5.247778  356296.296296  22.761905  84.238095  105.833333   \n",
       "3       10.348065  438790.322581  28.704545  78.295455  105.951613   \n",
       "4       16.628740  498188.976378  20.025424  86.974576  105.661417   \n",
       "5       14.411351  633108.108108  20.016667  86.983333  105.864865   \n",
       "6       16.563488  741860.465116  13.870968  93.129032  105.976744   \n",
       "7       14.327606  890140.845070  28.133333  78.866667  106.000000   \n",
       "8        9.238750  548000.000000  21.437500  85.562500  105.925000   \n",
       "9        6.088906  271875.000000  24.405405  82.594595  105.968750   \n",
       "10       9.915570  350379.746835  18.711864  88.288136  105.911392   \n",
       "11       1.444898  188775.510204  31.545455  75.454545  105.979592   \n",
       "12       1.483846    6769.230769  31.037736  75.962264  106.000000   \n",
       "\n",
       "              總價元  \n",
       "鄉鎮市區               \n",
       "1     1995.253853  \n",
       "2     2219.059519  \n",
       "3     2111.870113  \n",
       "4     2703.266577  \n",
       "5     1768.484626  \n",
       "6     2151.740516  \n",
       "7     2735.869299  \n",
       "8     1317.584220  \n",
       "9     2694.109211  \n",
       "10    1472.327290  \n",
       "11    1903.960651  \n",
       "12    1032.847692  "
      ]
     },
     "execution_count": 29,
     "metadata": {},
     "output_type": "execute_result"
    }
   ],
   "source": [
    "df2 = df[['鄉鎮市區','土地移轉總面積平方公尺','建物移轉總面積平方公尺','單價每平方公尺','建物現況格局-房','建物現況格局-廳','建物現況格局-衛','車位移轉總面積平方公尺','車位總價元','屋齡','建築完成年','交易年','總價元']]\n",
    "df2.groupby('鄉鎮市區').mean()"
   ]
  },
  {
   "cell_type": "code",
   "execution_count": 30,
   "metadata": {},
   "outputs": [
    {
     "data": {
      "text/plain": [
       "<matplotlib.axes._subplots.AxesSubplot at 0x1a1a88bf60>"
      ]
     },
     "execution_count": 30,
     "metadata": {},
     "output_type": "execute_result"
    },
    {
     "data": {
      "image/png": "[encoded data removed]",
      "text/plain": [
       "<matplotlib.figure.Figure at 0x1a19f01d68>"
      ]
     },
     "metadata": {},
     "output_type": "display_data"
    }
   ],
   "source": [
    "df2.groupby('鄉鎮市區').mean().plot(kind='bar',y='單價每平方公尺',figsize=(10,6),fontsize=14,title='各鄉鎮市單價每平方公尺平均')"
   ]
  },
  {
   "cell_type": "markdown",
   "metadata": {},
   "source": [
    "# 3.資料預處理 - 機器學習"
   ]
  },
  {
   "cell_type": "markdown",
   "metadata": {},
   "source": [
    "### ▲針對鄉鎮市區做one-hot encoding "
   ]
  },
  {
   "cell_type": "code",
   "execution_count": 31,
   "metadata": {},
   "outputs": [
    {
     "data": {
      "text/html": [
       "<div>\n",
       "<style scoped>\n",
       "    .dataframe tbody tr th:only-of-type {\n",
       "        vertical-align: middle;\n",
       "    }\n",
       "\n",
       "    .dataframe tbody tr th {\n",
       "        vertical-align: top;\n",
       "    }\n",
       "\n",
       "    .dataframe thead th {\n",
       "        text-align: right;\n",
       "    }\n",
       "</style>\n",
       "<table border=\"1\" class=\"dataframe\">\n",
       "  <thead>\n",
       "    <tr style=\"text-align: right;\">\n",
       "      <th></th>\n",
       "      <th>1</th>\n",
       "      <th>2</th>\n",
       "      <th>3</th>\n",
       "      <th>4</th>\n",
       "      <th>5</th>\n",
       "      <th>6</th>\n",
       "      <th>7</th>\n",
       "      <th>8</th>\n",
       "      <th>9</th>\n",
       "      <th>10</th>\n",
       "      <th>11</th>\n",
       "      <th>12</th>\n",
       "    </tr>\n",
       "  </thead>\n",
       "  <tbody>\n",
       "    <tr>\n",
       "      <th>0</th>\n",
       "      <td>0</td>\n",
       "      <td>0</td>\n",
       "      <td>0</td>\n",
       "      <td>0</td>\n",
       "      <td>0</td>\n",
       "      <td>0</td>\n",
       "      <td>0</td>\n",
       "      <td>1</td>\n",
       "      <td>0</td>\n",
       "      <td>0</td>\n",
       "      <td>0</td>\n",
       "      <td>0</td>\n",
       "    </tr>\n",
       "    <tr>\n",
       "      <th>1</th>\n",
       "      <td>0</td>\n",
       "      <td>0</td>\n",
       "      <td>0</td>\n",
       "      <td>1</td>\n",
       "      <td>0</td>\n",
       "      <td>0</td>\n",
       "      <td>0</td>\n",
       "      <td>0</td>\n",
       "      <td>0</td>\n",
       "      <td>0</td>\n",
       "      <td>0</td>\n",
       "      <td>0</td>\n",
       "    </tr>\n",
       "    <tr>\n",
       "      <th>2</th>\n",
       "      <td>0</td>\n",
       "      <td>0</td>\n",
       "      <td>0</td>\n",
       "      <td>1</td>\n",
       "      <td>0</td>\n",
       "      <td>0</td>\n",
       "      <td>0</td>\n",
       "      <td>0</td>\n",
       "      <td>0</td>\n",
       "      <td>0</td>\n",
       "      <td>0</td>\n",
       "      <td>0</td>\n",
       "    </tr>\n",
       "    <tr>\n",
       "      <th>3</th>\n",
       "      <td>0</td>\n",
       "      <td>0</td>\n",
       "      <td>0</td>\n",
       "      <td>1</td>\n",
       "      <td>0</td>\n",
       "      <td>0</td>\n",
       "      <td>0</td>\n",
       "      <td>0</td>\n",
       "      <td>0</td>\n",
       "      <td>0</td>\n",
       "      <td>0</td>\n",
       "      <td>0</td>\n",
       "    </tr>\n",
       "    <tr>\n",
       "      <th>4</th>\n",
       "      <td>0</td>\n",
       "      <td>0</td>\n",
       "      <td>0</td>\n",
       "      <td>1</td>\n",
       "      <td>0</td>\n",
       "      <td>0</td>\n",
       "      <td>0</td>\n",
       "      <td>0</td>\n",
       "      <td>0</td>\n",
       "      <td>0</td>\n",
       "      <td>0</td>\n",
       "      <td>0</td>\n",
       "    </tr>\n",
       "  </tbody>\n",
       "</table>\n",
       "</div>"
      ],
      "text/plain": [
       "   1   2   3   4   5   6   7   8   9   10  11  12\n",
       "0   0   0   0   0   0   0   0   1   0   0   0   0\n",
       "1   0   0   0   1   0   0   0   0   0   0   0   0\n",
       "2   0   0   0   1   0   0   0   0   0   0   0   0\n",
       "3   0   0   0   1   0   0   0   0   0   0   0   0\n",
       "4   0   0   0   1   0   0   0   0   0   0   0   0"
      ]
     },
     "execution_count": 31,
     "metadata": {},
     "output_type": "execute_result"
    }
   ],
   "source": [
    "df_region = pd.get_dummies(df['鄉鎮市區'])\n",
    "df_region.head()"
   ]
  },
  {
   "cell_type": "code",
   "execution_count": 32,
   "metadata": {},
   "outputs": [],
   "source": [
    "df_ml = pd.merge(df2,df_region,left_index=True,right_index=True)\n",
    "#df_ml.head()"
   ]
  },
  {
   "cell_type": "markdown",
   "metadata": {},
   "source": [
    "### ▲去除遺失值和極端值"
   ]
  },
  {
   "cell_type": "code",
   "execution_count": 33,
   "metadata": {},
   "outputs": [],
   "source": [
    "df_ml = df_ml.dropna().reset_index(drop=True)"
   ]
  },
  {
   "cell_type": "code",
   "execution_count": 34,
   "metadata": {},
   "outputs": [],
   "source": [
    "df_ml = df_ml[df_ml['建物移轉總面積平方公尺']<1000]"
   ]
  },
  {
   "cell_type": "code",
   "execution_count": 35,
   "metadata": {},
   "outputs": [],
   "source": [
    "df_ml = df_ml[df_ml['土地移轉總面積平方公尺']<70]"
   ]
  },
  {
   "cell_type": "code",
   "execution_count": 36,
   "metadata": {},
   "outputs": [
    {
     "data": {
      "text/plain": [
       "<matplotlib.axes._subplots.AxesSubplot at 0x1a1a9cec50>"
      ]
     },
     "execution_count": 36,
     "metadata": {},
     "output_type": "execute_result"
    },
    {
     "data": {
      "image/png": "[encoded data removed]",
      "text/plain": [
       "<matplotlib.figure.Figure at 0x1a19f6f0f0>"
      ]
     },
     "metadata": {},
     "output_type": "display_data"
    }
   ],
   "source": [
    "df_ml.plot(kind='scatter',x='建物移轉總面積平方公尺',y='總價元')"
   ]
  },
  {
   "cell_type": "code",
   "execution_count": 37,
   "metadata": {},
   "outputs": [
    {
     "data": {
      "text/plain": [
       "<matplotlib.axes._subplots.AxesSubplot at 0x1a1a27b710>"
      ]
     },
     "execution_count": 37,
     "metadata": {},
     "output_type": "execute_result"
    },
    {
     "data": {
      "image/png": "[encoded data removed]",
      "text/plain": [
       "<matplotlib.figure.Figure at 0x1a1a205400>"
      ]
     },
     "metadata": {},
     "output_type": "display_data"
    }
   ],
   "source": [
    "df_ml.plot(kind='scatter',x='土地移轉總面積平方公尺',y='總價元')"
   ]
  },
  {
   "cell_type": "markdown",
   "metadata": {},
   "source": [
    "# 4.使用線性迴歸演算法進行專題分析"
   ]
  },
  {
   "cell_type": "markdown",
   "metadata": {},
   "source": [
    "## 4-1.簡單線性迴歸-使用Scikit-Learn SGDRegressor"
   ]
  },
  {
   "cell_type": "markdown",
   "metadata": {},
   "source": [
    "### ▲切分訓練及測試資料 (1 feature)"
   ]
  },
  {
   "cell_type": "code",
   "execution_count": 38,
   "metadata": {},
   "outputs": [
    {
     "data": {
      "text/html": [
       "<div>\n",
       "<style scoped>\n",
       "    .dataframe tbody tr th:only-of-type {\n",
       "        vertical-align: middle;\n",
       "    }\n",
       "\n",
       "    .dataframe tbody tr th {\n",
       "        vertical-align: top;\n",
       "    }\n",
       "\n",
       "    .dataframe thead th {\n",
       "        text-align: right;\n",
       "    }\n",
       "</style>\n",
       "<table border=\"1\" class=\"dataframe\">\n",
       "  <thead>\n",
       "    <tr style=\"text-align: right;\">\n",
       "      <th></th>\n",
       "      <th>建物移轉總面積平方公尺</th>\n",
       "    </tr>\n",
       "  </thead>\n",
       "  <tbody>\n",
       "    <tr>\n",
       "      <th>522</th>\n",
       "      <td>146.59</td>\n",
       "    </tr>\n",
       "    <tr>\n",
       "      <th>603</th>\n",
       "      <td>51.23</td>\n",
       "    </tr>\n",
       "    <tr>\n",
       "      <th>379</th>\n",
       "      <td>138.59</td>\n",
       "    </tr>\n",
       "    <tr>\n",
       "      <th>539</th>\n",
       "      <td>29.48</td>\n",
       "    </tr>\n",
       "    <tr>\n",
       "      <th>387</th>\n",
       "      <td>139.82</td>\n",
       "    </tr>\n",
       "  </tbody>\n",
       "</table>\n",
       "</div>"
      ],
      "text/plain": [
       "     建物移轉總面積平方公尺\n",
       "522       146.59\n",
       "603        51.23\n",
       "379       138.59\n",
       "539        29.48\n",
       "387       139.82"
      ]
     },
     "execution_count": 38,
     "metadata": {},
     "output_type": "execute_result"
    }
   ],
   "source": [
    "from sklearn.model_selection import train_test_split\n",
    "\n",
    "X = df_ml[['建物移轉總面積平方公尺']]\n",
    "y = df_ml[['總價元']]\n",
    "\n",
    "X_train, X_test, y_train, y_test = train_test_split(X, y, test_size = 0.3) # 30% for testing, 70% for training\n",
    "X_train.head()"
   ]
  },
  {
   "cell_type": "markdown",
   "metadata": {},
   "source": [
    "### ▲特徵標準化(Standardization)"
   ]
  },
  {
   "cell_type": "code",
   "execution_count": 39,
   "metadata": {},
   "outputs": [],
   "source": [
    "from sklearn.preprocessing import StandardScaler\n",
    "sc = StandardScaler()\n",
    "sc.fit(X_train)\n",
    "X_train_normalized = sc.transform(X_train)\n",
    "X_test_normalized = sc.transform(X_test)"
   ]
  },
  {
   "cell_type": "code",
   "execution_count": 40,
   "metadata": {},
   "outputs": [
    {
     "name": "stdout",
     "output_type": "stream",
     "text": [
      "各變項參數: [1650.33076263]\n",
      "MSE: 523285.82\n",
      "R Square: 0.8259017361099208\n"
     ]
    },
    {
     "data": {
      "image/png": "[encoded data removed]",
      "text/plain": [
       "<matplotlib.figure.Figure at 0x1a1af5bd30>"
      ]
     },
     "metadata": {},
     "output_type": "display_data"
    }
   ],
   "source": [
    "from sklearn import datasets, linear_model\n",
    "\n",
    "#SGDRegressor的input y需要一維矩陣type\n",
    "y_train_1d = y_train.values.ravel()\n",
    "y_test_1d = y_test.values.ravel()\n",
    "\n",
    "# linear regression 物件\n",
    "sgdr = linear_model.SGDRegressor(max_iter=10,learning_rate='constant',eta0=0.001)\n",
    "\n",
    "# 訓練模型\n",
    "sgdr.fit(X_train_normalized, y_train_1d)\n",
    "\n",
    "print('各變項參數:', sgdr.coef_)\n",
    "print(\"MSE: %.2f\" % np.mean((sgdr.predict(X_test_normalized) - y_test_1d) ** 2))\n",
    "print(\"R Square:\",sgdr.score(X_test_normalized,y_test))\n",
    "\n",
    "plt.scatter(X_train['建物移轉總面積平方公尺'], y_train_1d,  color='blue', marker = 'x')\n",
    "\n",
    "plt.plot(X_train, sgdr.predict(X_train_normalized), color='green', linewidth=1)\n",
    "\n",
    "plt.ylabel('總價元(10K)')\n",
    "plt.xlabel('建物移轉總面積平方公尺')\n",
    "\n",
    "plt.show()"
   ]
  },
  {
   "cell_type": "markdown",
   "metadata": {},
   "source": [
    "### ▲K折交叉驗證 (K-fold Cross-Validation) + 學習曲線 (Learning Curve)"
   ]
  },
  {
   "cell_type": "code",
   "execution_count": 41,
   "metadata": {},
   "outputs": [
    {
     "name": "stdout",
     "output_type": "stream",
     "text": [
      "Automatically created module for IPython interactive environment\n"
     ]
    }
   ],
   "source": [
    "# Scikit-Learn 官網作圖函式\n",
    "print(__doc__)\n",
    "\n",
    "import numpy as np\n",
    "import matplotlib.pyplot as plt\n",
    "from sklearn.naive_bayes import GaussianNB\n",
    "from sklearn.svm import SVC\n",
    "from sklearn.datasets import load_digits\n",
    "from sklearn.model_selection import learning_curve\n",
    "from sklearn.model_selection import ShuffleSplit\n",
    "\n",
    "\n",
    "def plot_learning_curve(estimator, title, X, y, ylim=None, cv=None,\n",
    "                        n_jobs=1, train_sizes=np.linspace(.1, 1.0, 5)):\n",
    "    \"\"\"\n",
    "    Generate a simple plot of the test and training learning curve.\n",
    "\n",
    "    Parameters\n",
    "    ----------\n",
    "    estimator : object type that implements the \"fit\" and \"predict\" methods\n",
    "        An object of that type which is cloned for each validation.\n",
    "\n",
    "    title : string\n",
    "        Title for the chart.\n",
    "\n",
    "    X : array-like, shape (n_samples, n_features)\n",
    "        Training vector, where n_samples is the number of samples and\n",
    "        n_features is the number of features.\n",
    "\n",
    "    y : array-like, shape (n_samples) or (n_samples, n_features), optional\n",
    "        Target relative to X for classification or regression;\n",
    "        None for unsupervised learning.\n",
    "\n",
    "    ylim : tuple, shape (ymin, ymax), optional\n",
    "        Defines minimum and maximum yvalues plotted.\n",
    "\n",
    "    cv : int, cross-validation generator or an iterable, optional\n",
    "        Determines the cross-validation splitting strategy.\n",
    "        Possible inputs for cv are:\n",
    "          - None, to use the default 3-fold cross-validation,\n",
    "          - integer, to specify the number of folds.\n",
    "          - An object to be used as a cross-validation generator.\n",
    "          - An iterable yielding train/test splits.\n",
    "\n",
    "        For integer/None inputs, if ``y`` is binary or multiclass,\n",
    "        :class:`StratifiedKFold` used. If the estimator is not a classifier\n",
    "        or if ``y`` is neither binary nor multiclass, :class:`KFold` is used.\n",
    "\n",
    "        Refer :ref:`User Guide <cross_validation>` for the various\n",
    "        cross-validators that can be used here.\n",
    "\n",
    "    n_jobs : integer, optional\n",
    "        Number of jobs to run in parallel (default 1).\n",
    "    \"\"\"\n",
    "    plt.figure(figsize=(10,6))  #調整作圖大小\n",
    "    plt.title(title)\n",
    "    if ylim is not None:\n",
    "        plt.ylim(*ylim)\n",
    "    plt.xlabel(\"Training examples\")\n",
    "    plt.ylabel(\"Score\")\n",
    "    train_sizes, train_scores, test_scores = learning_curve(\n",
    "        estimator, X, y, cv=cv, n_jobs=n_jobs, train_sizes=train_sizes)\n",
    "    train_scores_mean = np.mean(train_scores, axis=1)\n",
    "    train_scores_std = np.std(train_scores, axis=1)\n",
    "    test_scores_mean = np.mean(test_scores, axis=1)\n",
    "    test_scores_std = np.std(test_scores, axis=1)\n",
    "    plt.grid()\n",
    "\n",
    "    plt.fill_between(train_sizes, train_scores_mean - train_scores_std,\n",
    "                     train_scores_mean + train_scores_std, alpha=0.1,\n",
    "                     color=\"r\")\n",
    "    plt.fill_between(train_sizes, test_scores_mean - test_scores_std,\n",
    "                     test_scores_mean + test_scores_std, alpha=0.1, color=\"g\")\n",
    "    plt.plot(train_sizes, train_scores_mean, 'o-', color=\"r\",\n",
    "             label=\"Training score\")\n",
    "    plt.plot(train_sizes, test_scores_mean, 'o-', color=\"g\",\n",
    "             label=\"Cross-validation score\")\n",
    "\n",
    "    plt.legend(loc=\"best\")\n",
    "    return plt"
   ]
  },
  {
   "cell_type": "code",
   "execution_count": 42,
   "metadata": {},
   "outputs": [
    {
     "data": {
      "text/plain": [
       "<module 'matplotlib.pyplot' from '/Users/anna/anaconda3/lib/python3.6/site-packages/matplotlib/pyplot.py'>"
      ]
     },
     "execution_count": 42,
     "metadata": {},
     "output_type": "execute_result"
    },
    {
     "data": {
      "image/png": "[encoded data removed]",
      "text/plain": [
       "<matplotlib.figure.Figure at 0x1a1b498d68>"
      ]
     },
     "metadata": {},
     "output_type": "display_data"
    }
   ],
   "source": [
    "from sklearn.model_selection import KFold,StratifiedKFold\n",
    "\n",
    "cv = KFold(n_splits=10, random_state=None, shuffle=True)\n",
    "estimator = linear_model.SGDRegressor(max_iter=100,learning_rate='constant',eta0=0.01)\n",
    "\n",
    "sc.fit(X_train)\n",
    "plot_learning_curve(estimator, \"SGDRegressor\", \n",
    "                    sc.transform(X), y.values.ravel(), cv=cv, train_sizes=np.linspace(0.2, 1.0, 5))"
   ]
  },
  {
   "cell_type": "markdown",
   "metadata": {},
   "source": [
    "## 4-2.簡單線性迴歸-使用Scikit-Learn LinearRegression"
   ]
  },
  {
   "cell_type": "code",
   "execution_count": 43,
   "metadata": {},
   "outputs": [
    {
     "name": "stdout",
     "output_type": "stream",
     "text": [
      "各變項參數: [[1671.40496879]]\n",
      "MSE: 516669.73\n",
      "R Square: 0.8281029234924945\n"
     ]
    },
    {
     "data": {
      "image/png": "[encoded data removed]",
      "text/plain": [
       "<matplotlib.figure.Figure at 0x1a1b493588>"
      ]
     },
     "metadata": {},
     "output_type": "display_data"
    }
   ],
   "source": [
    "# linear regression\n",
    "regr = linear_model.LinearRegression()\n",
    "\n",
    "# 訓練模型\n",
    "regr.fit(X_train_normalized, y_train)\n",
    "\n",
    "print('各變項參數:', regr.coef_)\n",
    "print(\"MSE: %.2f\" % np.mean((regr.predict(X_test_normalized) - y_test) ** 2))\n",
    "print(\"R Square:\",regr.score(X_test_normalized,y_test))\n",
    "\n",
    "plt.figure(figsize=(10,6))  #調整作圖大小\n",
    "plt.scatter(X_train['建物移轉總面積平方公尺'], y_train['總價元'],  color='blue', marker = 'x')\n",
    "plt.plot(X_train['建物移轉總面積平方公尺'], regr.predict(X_train_normalized), color='green', linewidth=1)\n",
    "\n",
    "plt.ylabel('總價元(10K)')\n",
    "plt.xlabel('建物移轉總面積平方公尺')\n",
    "\n",
    "plt.show()"
   ]
  },
  {
   "cell_type": "code",
   "execution_count": 44,
   "metadata": {},
   "outputs": [
    {
     "data": {
      "text/plain": [
       "<module 'matplotlib.pyplot' from '/Users/anna/anaconda3/lib/python3.6/site-packages/matplotlib/pyplot.py'>"
      ]
     },
     "execution_count": 44,
     "metadata": {},
     "output_type": "execute_result"
    },
    {
     "data": {
      "image/png": "[encoded data removed]",
      "text/plain": [
       "<matplotlib.figure.Figure at 0x1a1b4f0e48>"
      ]
     },
     "metadata": {},
     "output_type": "display_data"
    }
   ],
   "source": [
    "cv = KFold(n_splits=4, random_state=None, shuffle=True)\n",
    "estimator = linear_model.LinearRegression()\n",
    "\n",
    "sc.fit(X_train)\n",
    "plot_learning_curve(estimator, \"LinearRegression\", sc.transform(X), \n",
    "                    y.values.ravel(), cv=cv , train_sizes=np.linspace(0.2, 1.0, 5))"
   ]
  },
  {
   "cell_type": "markdown",
   "metadata": {},
   "source": [
    "# 5.多變項線性迴歸"
   ]
  },
  {
   "cell_type": "markdown",
   "metadata": {},
   "source": [
    "### ▲切分訓練及測試資料 (2 features)"
   ]
  },
  {
   "cell_type": "code",
   "execution_count": 45,
   "metadata": {},
   "outputs": [],
   "source": [
    "X = df_ml[['建物移轉總面積平方公尺','土地移轉總面積平方公尺']]\n",
    "y = df_ml[['總價元']]"
   ]
  },
  {
   "cell_type": "code",
   "execution_count": 46,
   "metadata": {},
   "outputs": [
    {
     "data": {
      "text/html": [
       "<div>\n",
       "<style scoped>\n",
       "    .dataframe tbody tr th:only-of-type {\n",
       "        vertical-align: middle;\n",
       "    }\n",
       "\n",
       "    .dataframe tbody tr th {\n",
       "        vertical-align: top;\n",
       "    }\n",
       "\n",
       "    .dataframe thead th {\n",
       "        text-align: right;\n",
       "    }\n",
       "</style>\n",
       "<table border=\"1\" class=\"dataframe\">\n",
       "  <thead>\n",
       "    <tr style=\"text-align: right;\">\n",
       "      <th></th>\n",
       "      <th>建物移轉總面積平方公尺</th>\n",
       "      <th>土地移轉總面積平方公尺</th>\n",
       "    </tr>\n",
       "  </thead>\n",
       "  <tbody>\n",
       "    <tr>\n",
       "      <th>396</th>\n",
       "      <td>233.16</td>\n",
       "      <td>49.22</td>\n",
       "    </tr>\n",
       "    <tr>\n",
       "      <th>391</th>\n",
       "      <td>60.97</td>\n",
       "      <td>20.12</td>\n",
       "    </tr>\n",
       "    <tr>\n",
       "      <th>53</th>\n",
       "      <td>120.41</td>\n",
       "      <td>26.28</td>\n",
       "    </tr>\n",
       "    <tr>\n",
       "      <th>406</th>\n",
       "      <td>106.93</td>\n",
       "      <td>30.31</td>\n",
       "    </tr>\n",
       "    <tr>\n",
       "      <th>576</th>\n",
       "      <td>138.36</td>\n",
       "      <td>29.77</td>\n",
       "    </tr>\n",
       "  </tbody>\n",
       "</table>\n",
       "</div>"
      ],
      "text/plain": [
       "     建物移轉總面積平方公尺  土地移轉總面積平方公尺\n",
       "396       233.16        49.22\n",
       "391        60.97        20.12\n",
       "53        120.41        26.28\n",
       "406       106.93        30.31\n",
       "576       138.36        29.77"
      ]
     },
     "execution_count": 46,
     "metadata": {},
     "output_type": "execute_result"
    }
   ],
   "source": [
    "from sklearn.model_selection import train_test_split\n",
    "X_train, X_test, y_train, y_test = train_test_split(X,y, test_size = 0.3) # 30% for testing, 70% for training\n",
    "X_train.head()"
   ]
  },
  {
   "cell_type": "markdown",
   "metadata": {},
   "source": [
    "### ▲特徵標準化 (Standardization)"
   ]
  },
  {
   "cell_type": "code",
   "execution_count": 47,
   "metadata": {},
   "outputs": [],
   "source": [
    "from sklearn.preprocessing import StandardScaler\n",
    "sc = StandardScaler()\n",
    "sc.fit(X_train)\n",
    "X_train_normalized = sc.transform(X_train)\n",
    "X_test_normalized = sc.transform(X_test)"
   ]
  },
  {
   "cell_type": "markdown",
   "metadata": {},
   "source": [
    "### 5-1.多變項線性迴歸-使用Scikit-Learn LinearRegression"
   ]
  },
  {
   "cell_type": "code",
   "execution_count": 48,
   "metadata": {},
   "outputs": [
    {
     "name": "stdout",
     "output_type": "stream",
     "text": [
      "各變項參數: [[1686.93268654 -189.21626584]]\n",
      "MSE: 906398.51\n",
      "R Square: 0.7867928318105177\n"
     ]
    }
   ],
   "source": [
    "# linear regression 物件\n",
    "regr = linear_model.LinearRegression()\n",
    "\n",
    "# 訓練模型\n",
    "regr.fit(X_train_normalized, y_train)\n",
    "\n",
    "print('各變項參數:', regr.coef_)\n",
    "print(\"MSE: %.2f\" % np.mean((regr.predict(X_test_normalized) - y_test) ** 2))\n",
    "print(\"R Square:\",regr.score(X_test_normalized, y_test))"
   ]
  },
  {
   "cell_type": "code",
   "execution_count": 49,
   "metadata": {},
   "outputs": [
    {
     "data": {
      "text/plain": [
       "<module 'matplotlib.pyplot' from '/Users/anna/anaconda3/lib/python3.6/site-packages/matplotlib/pyplot.py'>"
      ]
     },
     "execution_count": 49,
     "metadata": {},
     "output_type": "execute_result"
    },
    {
     "data": {
      "image/png": "[encoded data removed]",
      "text/plain": [
       "<matplotlib.figure.Figure at 0x1a1b92c860>"
      ]
     },
     "metadata": {},
     "output_type": "display_data"
    }
   ],
   "source": [
    "#cv = ShuffleSplit(n_splits=3, random_state=None, test_size=0.3)\n",
    "cv = KFold(n_splits=4, random_state=None, shuffle=True)\n",
    "estimator = linear_model.LinearRegression()\n",
    "\n",
    "sc.fit(X_train)\n",
    "plot_learning_curve(estimator, \"MultipleLinearRegression\", \n",
    "                    sc.transform(X), y.values.ravel(), cv=cv , train_sizes=np.linspace(0.1, 1.0, 5))"
   ]
  },
  {
   "cell_type": "markdown",
   "metadata": {},
   "source": [
    "### 5-2.多變項線性迴歸-使用Scikit-Learn SGDRegressor"
   ]
  },
  {
   "cell_type": "code",
   "execution_count": 50,
   "metadata": {},
   "outputs": [
    {
     "name": "stdout",
     "output_type": "stream",
     "text": [
      "各變項參數: [1757.75633428  -92.01658721]\n",
      "MSE: 895260.61\n",
      "R Square: 0.7894127388302461\n"
     ]
    }
   ],
   "source": [
    "y_train_1d = y_train.values.ravel()\n",
    "y_test_1d = y_test.values.ravel()\n",
    "\n",
    "# SGD Regressor \n",
    "sgdr = linear_model.SGDRegressor(max_iter=100,learning_rate='constant',eta0=0.01)\n",
    "\n",
    "# 訓練模型\n",
    "sgdr.fit(X_train_normalized, y_train_1d)\n",
    "\n",
    "print('各變項參數:', sgdr.coef_)\n",
    "print(\"MSE: %.2f\" % np.mean((sgdr.predict(X_test_normalized) - y_test_1d) ** 2))\n",
    "print(\"R Square:\",sgdr.score(X_test_normalized,y_test_1d))"
   ]
  },
  {
   "cell_type": "code",
   "execution_count": 51,
   "metadata": {},
   "outputs": [
    {
     "data": {
      "text/plain": [
       "<module 'matplotlib.pyplot' from '/Users/anna/anaconda3/lib/python3.6/site-packages/matplotlib/pyplot.py'>"
      ]
     },
     "execution_count": 51,
     "metadata": {},
     "output_type": "execute_result"
    },
    {
     "data": {
      "image/png": "[encoded data removed]",
      "text/plain": [
       "<matplotlib.figure.Figure at 0x1a1b94bbe0>"
      ]
     },
     "metadata": {},
     "output_type": "display_data"
    }
   ],
   "source": [
    "from sklearn.model_selection import ShuffleSplit\n",
    "cv = KFold(n_splits=4, random_state=None, shuffle=True)\n",
    "#cv = ShuffleSplit(n_splits=3, random_state=None, test_size=0.3)\n",
    "estimator = linear_model.SGDRegressor(max_iter=1000,learning_rate='constant',eta0=0.01)\n",
    "\n",
    "plot_learning_curve(estimator, \"MultipleLinearRegression with SGD\", \n",
    "                    sc.transform(X), y.values.ravel(), cv=cv , train_sizes=np.linspace(0.2, 1.0, 5))"
   ]
  },
  {
   "cell_type": "markdown",
   "metadata": {},
   "source": [
    "# 6.多項式(Polynomial) 非線性迴歸"
   ]
  },
  {
   "cell_type": "markdown",
   "metadata": {},
   "source": [
    "### ▲切分訓練及測試資料 (1 feature)"
   ]
  },
  {
   "cell_type": "code",
   "execution_count": 52,
   "metadata": {},
   "outputs": [
    {
     "data": {
      "text/html": [
       "<div>\n",
       "<style scoped>\n",
       "    .dataframe tbody tr th:only-of-type {\n",
       "        vertical-align: middle;\n",
       "    }\n",
       "\n",
       "    .dataframe tbody tr th {\n",
       "        vertical-align: top;\n",
       "    }\n",
       "\n",
       "    .dataframe thead th {\n",
       "        text-align: right;\n",
       "    }\n",
       "</style>\n",
       "<table border=\"1\" class=\"dataframe\">\n",
       "  <thead>\n",
       "    <tr style=\"text-align: right;\">\n",
       "      <th></th>\n",
       "      <th>建物移轉總面積平方公尺</th>\n",
       "    </tr>\n",
       "  </thead>\n",
       "  <tbody>\n",
       "    <tr>\n",
       "      <th>157</th>\n",
       "      <td>119.08</td>\n",
       "    </tr>\n",
       "    <tr>\n",
       "      <th>337</th>\n",
       "      <td>192.24</td>\n",
       "    </tr>\n",
       "    <tr>\n",
       "      <th>534</th>\n",
       "      <td>121.62</td>\n",
       "    </tr>\n",
       "    <tr>\n",
       "      <th>317</th>\n",
       "      <td>102.63</td>\n",
       "    </tr>\n",
       "    <tr>\n",
       "      <th>35</th>\n",
       "      <td>242.97</td>\n",
       "    </tr>\n",
       "  </tbody>\n",
       "</table>\n",
       "</div>"
      ],
      "text/plain": [
       "     建物移轉總面積平方公尺\n",
       "157       119.08\n",
       "337       192.24\n",
       "534       121.62\n",
       "317       102.63\n",
       "35        242.97"
      ]
     },
     "execution_count": 52,
     "metadata": {},
     "output_type": "execute_result"
    }
   ],
   "source": [
    "from sklearn.model_selection import train_test_split\n",
    "X = df_ml[['建物移轉總面積平方公尺']]\n",
    "y = df_ml[['總價元']]\n",
    "X_train, X_test, y_train, y_test = train_test_split(X,y, test_size = 0.3) # 30% for testing, 70% for training\n",
    "X_train.head()"
   ]
  },
  {
   "cell_type": "markdown",
   "metadata": {},
   "source": [
    "### ▲創造高次方變項"
   ]
  },
  {
   "cell_type": "code",
   "execution_count": 53,
   "metadata": {},
   "outputs": [
    {
     "name": "stdout",
     "output_type": "stream",
     "text": [
      "各變項參數: \n",
      " [[0.00000000e+00 1.71465333e+01 8.54422109e-03]]\n",
      "MSE: 560926.49\n",
      "R Square: 0.7657171773215016\n"
     ]
    },
    {
     "data": {
      "image/png": "[encoded data removed]",
      "text/plain": [
       "<matplotlib.figure.Figure at 0x1a1b9442e8>"
      ]
     },
     "metadata": {},
     "output_type": "display_data"
    }
   ],
   "source": [
    "from sklearn.preprocessing import PolynomialFeatures\n",
    "\n",
    "quadratic = PolynomialFeatures(degree=2)\n",
    "X_train_raw = X_train.copy() #原始X_train\n",
    "X_test_raw = X_test.copy() #原始X_test\n",
    "X_train_poly = quadratic.fit_transform(X_train_raw) #產生x^0, x^1, x^2\n",
    "X_test_poly = quadratic.fit_transform(X_test_raw) #產生x^0, x^1, x^2\n",
    "\n",
    "# linear regression 物件\n",
    "regr = linear_model.LinearRegression()\n",
    "\n",
    "# 訓練模型\n",
    "regr.fit(X_train_poly, y_train)\n",
    "\n",
    "print('各變項參數: \\n', regr.coef_)\n",
    "print(\"MSE: %.2f\" % np.mean((regr.predict(X_test_poly) - y_test) ** 2))\n",
    "print(\"R Square:\",regr.score(X_test_poly, y_test))\n",
    "\n",
    "# Plot outputs\n",
    "plt.figure(figsize=(10,6))\n",
    "plt.scatter(X_test_raw['建物移轉總面積平方公尺'], y_test['總價元'],  color='blue', marker = 'x')\n",
    "\n",
    "X_fit = pd.DataFrame(np.arange(0,700,1)) #作圖用\n",
    "plt.plot(X_fit, regr.predict(quadratic.fit_transform(X_fit)), color='green', linewidth=1)\n",
    "\n",
    "\n",
    "plt.show()\n",
    "\n"
   ]
  },
  {
   "cell_type": "code",
   "execution_count": 54,
   "metadata": {},
   "outputs": [],
   "source": [
    "quadratic = PolynomialFeatures(degree=2)\n",
    "X_raw = X.copy() #原始X_train\n",
    "X_poly = quadratic.fit_transform(X_raw) #產生x^0, x^1, x^2"
   ]
  },
  {
   "cell_type": "code",
   "execution_count": 55,
   "metadata": {},
   "outputs": [
    {
     "data": {
      "text/plain": [
       "<module 'matplotlib.pyplot' from '/Users/anna/anaconda3/lib/python3.6/site-packages/matplotlib/pyplot.py'>"
      ]
     },
     "execution_count": 55,
     "metadata": {},
     "output_type": "execute_result"
    },
    {
     "data": {
      "image/png": "[encoded data removed]",
      "text/plain": [
       "<matplotlib.figure.Figure at 0x1a1b4612e8>"
      ]
     },
     "metadata": {},
     "output_type": "display_data"
    }
   ],
   "source": [
    "cv = KFold(n_splits=4, random_state=None, shuffle=True)\n",
    "estimator = linear_model.LinearRegression()\n",
    "plot_learning_curve(estimator, \"Nonlinear Regression\", X_poly, y, cv=cv,train_sizes=np.linspace(0.2, 1.0, 5))"
   ]
  },
  {
   "cell_type": "markdown",
   "metadata": {},
   "source": [
    "# 7.自造簡單線性迴歸 Gradient Descent"
   ]
  },
  {
   "cell_type": "code",
   "execution_count": 56,
   "metadata": {},
   "outputs": [],
   "source": [
    "def computeCost(X, y, weight=np.array([[0,0]])):\n",
    "    m = y.size\n",
    "    J = 0\n",
    "    h = X.dot(weight)\n",
    "    J = 1/(2*m)*np.sum(np.square(h-y))\n",
    "    return(J)\n",
    "\n",
    "def gradientDescent(X, y, weight=np.array([[0,0]]), alpha=0.01, num_iters=1500):\n",
    "    m = y.size\n",
    "    J_history = np.zeros(num_iters)\n",
    "    \n",
    "    for iters in np.arange(num_iters):\n",
    "        h = X.dot(weight)\n",
    "        weight = weight - alpha*(1/m)*(X.T.dot(h-y))\n",
    "        J_history[iters] = computeCost(X, y, weight)\n",
    "    return(weight, J_history)"
   ]
  },
  {
   "cell_type": "code",
   "execution_count": 57,
   "metadata": {},
   "outputs": [
    {
     "data": {
      "text/html": [
       "<div>\n",
       "<style scoped>\n",
       "    .dataframe tbody tr th:only-of-type {\n",
       "        vertical-align: middle;\n",
       "    }\n",
       "\n",
       "    .dataframe tbody tr th {\n",
       "        vertical-align: top;\n",
       "    }\n",
       "\n",
       "    .dataframe thead th {\n",
       "        text-align: right;\n",
       "    }\n",
       "</style>\n",
       "<table border=\"1\" class=\"dataframe\">\n",
       "  <thead>\n",
       "    <tr style=\"text-align: right;\">\n",
       "      <th></th>\n",
       "      <th>建物移轉總面積平方公尺</th>\n",
       "    </tr>\n",
       "  </thead>\n",
       "  <tbody>\n",
       "    <tr>\n",
       "      <th>589</th>\n",
       "      <td>168.96</td>\n",
       "    </tr>\n",
       "    <tr>\n",
       "      <th>220</th>\n",
       "      <td>118.94</td>\n",
       "    </tr>\n",
       "    <tr>\n",
       "      <th>146</th>\n",
       "      <td>95.25</td>\n",
       "    </tr>\n",
       "    <tr>\n",
       "      <th>402</th>\n",
       "      <td>122.75</td>\n",
       "    </tr>\n",
       "    <tr>\n",
       "      <th>509</th>\n",
       "      <td>36.12</td>\n",
       "    </tr>\n",
       "  </tbody>\n",
       "</table>\n",
       "</div>"
      ],
      "text/plain": [
       "     建物移轉總面積平方公尺\n",
       "589       168.96\n",
       "220       118.94\n",
       "146        95.25\n",
       "402       122.75\n",
       "509        36.12"
      ]
     },
     "execution_count": 57,
     "metadata": {},
     "output_type": "execute_result"
    }
   ],
   "source": [
    "X = df_ml[['建物移轉總面積平方公尺']]\n",
    "y = df_ml[['總價元']]\n",
    "\n",
    "X_train, X_test, y_train, y_test = train_test_split(X, y, test_size = 0.3) # 30% for testing, 70% for training\n",
    "X_train.head()"
   ]
  },
  {
   "cell_type": "code",
   "execution_count": 58,
   "metadata": {},
   "outputs": [],
   "source": [
    "sc.fit(X_train)\n",
    "X_train_normalized = sc.transform(X_train)"
   ]
  },
  {
   "cell_type": "code",
   "execution_count": 59,
   "metadata": {},
   "outputs": [
    {
     "name": "stdout",
     "output_type": "stream",
     "text": [
      "weight:  [1619.77415238 1619.77415238]\n"
     ]
    },
    {
     "data": {
      "image/png": "[encoded data removed]",
      "text/plain": [
       "<matplotlib.figure.Figure at 0x1a1b514c18>"
      ]
     },
     "metadata": {},
     "output_type": "display_data"
    }
   ],
   "source": [
    "# theta for minimized cost J\n",
    "weight , Cost_J = gradientDescent(X_train_normalized, y_train.values)\n",
    "\n",
    "print('weight: ',weight.ravel())\n",
    "plt.figure(figsize=(10,6))\n",
    "plt.plot(Cost_J)\n",
    "plt.ylabel('Cost J')\n",
    "plt.xlabel('Number of Iterations/Steps');"
   ]
  },
  {
   "cell_type": "markdown",
   "metadata": {},
   "source": [
    "## 結論"
   ]
  },
  {
   "cell_type": "markdown",
   "metadata": {},
   "source": [
    "1.資料預處理的方式越適當,regressor出來的r square的結果越接近理想值"
   ]
  },
  {
   "cell_type": "markdown",
   "metadata": {},
   "source": [
    "2.使用單一feature進行演算得出的結果與多feature相比是比較接近理想值"
   ]
  },
  {
   "cell_type": "markdown",
   "metadata": {},
   "source": [
    "3.建物移轉面積影響是影響總價元最大的特徵因素"
   ]
  },
  {
   "cell_type": "markdown",
   "metadata": {},
   "source": [
    "4.其他要在更精確的預估,須在使用其他演算法在進行比較方能得出更精確的數據統計"
   ]
  }
 ],
 "metadata": {
  "kernelspec": {
   "display_name": "Python 3",
   "language": "python",
   "name": "python3"
  },
  "language_info": {
   "codemirror_mode": {
    "name": "ipython",
    "version": 3
   },
   "file_extension": ".py",
   "mimetype": "text/x-python",
   "name": "python",
   "nbconvert_exporter": "python",
   "pygments_lexer": "ipython3",
   "version": "3.6.4"
  }
 },
 "nbformat": 4,
 "nbformat_minor": 2
}
