{
 "cells": [
  {
   "cell_type": "markdown",
   "metadata": {},
   "source": [
    "# 專題分析 - MNIST"
   ]
  },
  {
   "cell_type": "markdown",
   "metadata": {},
   "source": [
    "# 資料匯入與預處理"
   ]
  },
  {
   "cell_type": "code",
   "execution_count": 1,
   "metadata": {},
   "outputs": [
    {
     "name": "stderr",
     "output_type": "stream",
     "text": [
      "Using TensorFlow backend.\n"
     ]
    }
   ],
   "source": [
    "import numpy as np\n",
    "from keras.datasets import mnist\n",
    "\n",
    "from keras.utils import np_utils\n",
    "from keras.models import Sequential\n",
    "from keras.layers import Dense, Activation"
   ]
  },
  {
   "cell_type": "code",
   "execution_count": 2,
   "metadata": {},
   "outputs": [],
   "source": [
    "# 第一次執行會下載到 '~/.keras/datasets/'\n",
    "(X_train, y_train), (X_test, y_test) = mnist.load_data()"
   ]
  },
  {
   "cell_type": "code",
   "execution_count": 3,
   "metadata": {},
   "outputs": [
    {
     "data": {
      "text/plain": [
       "array([[[  0,   0,   0,   0,   0,   0,   0,   0,   0,   0,   0,   0,   0,\n",
       "           0,   0,   0,   0,   0,   0,   0,   0,   0,   0,   0,   0,   0,\n",
       "           0,   0],\n",
       "        [  0,   0,   0,   0,   0,   0,   0,   0,   0,   0,   0,   0,   0,\n",
       "           0,   0,   0,   0,   0,   0,   0,   0,   0,   0,   0,   0,   0,\n",
       "           0,   0],\n",
       "        [  0,   0,   0,   0,   0,   0,   0,   0,   0,   0,   0,   0,   0,\n",
       "           0,   0,   0,   0,   0,   0,   0,   0,   0,   0,   0,   0,   0,\n",
       "           0,   0],\n",
       "        [  0,   0,   0,   0,   0,   0,   0,   0,   0,   0,   0,   0,   0,\n",
       "           0,   0,   0,   0,   0,   0,   0,   0,   0,   0,   0,   0,   0,\n",
       "           0,   0],\n",
       "        [  0,   0,   0,   0,   0,   0,   0,   0,   0,   0,   0,   0,   0,\n",
       "           0,   0,   0,   0,   0,   0,   0,   0,   0,   0,   0,   0,   0,\n",
       "           0,   0],\n",
       "        [  0,   0,   0,   0,   0,   0,   0,   0,   0,   0,   0,   0,   3,\n",
       "          18,  18,  18, 126, 136, 175,  26, 166, 255, 247, 127,   0,   0,\n",
       "           0,   0],\n",
       "        [  0,   0,   0,   0,   0,   0,   0,   0,  30,  36,  94, 154, 170,\n",
       "         253, 253, 253, 253, 253, 225, 172, 253, 242, 195,  64,   0,   0,\n",
       "           0,   0],\n",
       "        [  0,   0,   0,   0,   0,   0,   0,  49, 238, 253, 253, 253, 253,\n",
       "         253, 253, 253, 253, 251,  93,  82,  82,  56,  39,   0,   0,   0,\n",
       "           0,   0],\n",
       "        [  0,   0,   0,   0,   0,   0,   0,  18, 219, 253, 253, 253, 253,\n",
       "         253, 198, 182, 247, 241,   0,   0,   0,   0,   0,   0,   0,   0,\n",
       "           0,   0],\n",
       "        [  0,   0,   0,   0,   0,   0,   0,   0,  80, 156, 107, 253, 253,\n",
       "         205,  11,   0,  43, 154,   0,   0,   0,   0,   0,   0,   0,   0,\n",
       "           0,   0],\n",
       "        [  0,   0,   0,   0,   0,   0,   0,   0,   0,  14,   1, 154, 253,\n",
       "          90,   0,   0,   0,   0,   0,   0,   0,   0,   0,   0,   0,   0,\n",
       "           0,   0],\n",
       "        [  0,   0,   0,   0,   0,   0,   0,   0,   0,   0,   0, 139, 253,\n",
       "         190,   2,   0,   0,   0,   0,   0,   0,   0,   0,   0,   0,   0,\n",
       "           0,   0],\n",
       "        [  0,   0,   0,   0,   0,   0,   0,   0,   0,   0,   0,  11, 190,\n",
       "         253,  70,   0,   0,   0,   0,   0,   0,   0,   0,   0,   0,   0,\n",
       "           0,   0],\n",
       "        [  0,   0,   0,   0,   0,   0,   0,   0,   0,   0,   0,   0,  35,\n",
       "         241, 225, 160, 108,   1,   0,   0,   0,   0,   0,   0,   0,   0,\n",
       "           0,   0],\n",
       "        [  0,   0,   0,   0,   0,   0,   0,   0,   0,   0,   0,   0,   0,\n",
       "          81, 240, 253, 253, 119,  25,   0,   0,   0,   0,   0,   0,   0,\n",
       "           0,   0],\n",
       "        [  0,   0,   0,   0,   0,   0,   0,   0,   0,   0,   0,   0,   0,\n",
       "           0,  45, 186, 253, 253, 150,  27,   0,   0,   0,   0,   0,   0,\n",
       "           0,   0],\n",
       "        [  0,   0,   0,   0,   0,   0,   0,   0,   0,   0,   0,   0,   0,\n",
       "           0,   0,  16,  93, 252, 253, 187,   0,   0,   0,   0,   0,   0,\n",
       "           0,   0],\n",
       "        [  0,   0,   0,   0,   0,   0,   0,   0,   0,   0,   0,   0,   0,\n",
       "           0,   0,   0,   0, 249, 253, 249,  64,   0,   0,   0,   0,   0,\n",
       "           0,   0],\n",
       "        [  0,   0,   0,   0,   0,   0,   0,   0,   0,   0,   0,   0,   0,\n",
       "           0,  46, 130, 183, 253, 253, 207,   2,   0,   0,   0,   0,   0,\n",
       "           0,   0],\n",
       "        [  0,   0,   0,   0,   0,   0,   0,   0,   0,   0,   0,   0,  39,\n",
       "         148, 229, 253, 253, 253, 250, 182,   0,   0,   0,   0,   0,   0,\n",
       "           0,   0],\n",
       "        [  0,   0,   0,   0,   0,   0,   0,   0,   0,   0,  24, 114, 221,\n",
       "         253, 253, 253, 253, 201,  78,   0,   0,   0,   0,   0,   0,   0,\n",
       "           0,   0],\n",
       "        [  0,   0,   0,   0,   0,   0,   0,   0,  23,  66, 213, 253, 253,\n",
       "         253, 253, 198,  81,   2,   0,   0,   0,   0,   0,   0,   0,   0,\n",
       "           0,   0],\n",
       "        [  0,   0,   0,   0,   0,   0,  18, 171, 219, 253, 253, 253, 253,\n",
       "         195,  80,   9,   0,   0,   0,   0,   0,   0,   0,   0,   0,   0,\n",
       "           0,   0],\n",
       "        [  0,   0,   0,   0,  55, 172, 226, 253, 253, 253, 253, 244, 133,\n",
       "          11,   0,   0,   0,   0,   0,   0,   0,   0,   0,   0,   0,   0,\n",
       "           0,   0],\n",
       "        [  0,   0,   0,   0, 136, 253, 253, 253, 212, 135, 132,  16,   0,\n",
       "           0,   0,   0,   0,   0,   0,   0,   0,   0,   0,   0,   0,   0,\n",
       "           0,   0],\n",
       "        [  0,   0,   0,   0,   0,   0,   0,   0,   0,   0,   0,   0,   0,\n",
       "           0,   0,   0,   0,   0,   0,   0,   0,   0,   0,   0,   0,   0,\n",
       "           0,   0],\n",
       "        [  0,   0,   0,   0,   0,   0,   0,   0,   0,   0,   0,   0,   0,\n",
       "           0,   0,   0,   0,   0,   0,   0,   0,   0,   0,   0,   0,   0,\n",
       "           0,   0],\n",
       "        [  0,   0,   0,   0,   0,   0,   0,   0,   0,   0,   0,   0,   0,\n",
       "           0,   0,   0,   0,   0,   0,   0,   0,   0,   0,   0,   0,   0,\n",
       "           0,   0]]], dtype=uint8)"
      ]
     },
     "execution_count": 3,
     "metadata": {},
     "output_type": "execute_result"
    }
   ],
   "source": [
    "# 灰階的數值是0~255\n",
    "X_train[:1]"
   ]
  },
  {
   "cell_type": "code",
   "execution_count": 4,
   "metadata": {},
   "outputs": [
    {
     "data": {
      "text/plain": [
       "array([5], dtype=uint8)"
      ]
     },
     "execution_count": 4,
     "metadata": {},
     "output_type": "execute_result"
    }
   ],
   "source": [
    "y_train[:1]"
   ]
  },
  {
   "cell_type": "code",
   "execution_count": 5,
   "metadata": {},
   "outputs": [
    {
     "data": {
      "text/plain": [
       "(1, 28, 28)"
      ]
     },
     "execution_count": 5,
     "metadata": {},
     "output_type": "execute_result"
    }
   ],
   "source": [
    "X_train[:1,:].shape"
   ]
  },
  {
   "cell_type": "code",
   "execution_count": 18,
   "metadata": {},
   "outputs": [
    {
     "data": {
      "image/png": "[encoded data removed]",
      "text/plain": [
       "<Figure size 288x288 with 1 Axes>"
      ]
     },
     "metadata": {},
     "output_type": "display_data"
    }
   ],
   "source": [
    "import matplotlib.pyplot as plt\n",
    "train_img = np.reshape(X_train[:1, :], (28, 28))\n",
    "plt.matshow(train_img, cmap = plt.get_cmap('binary'))\n",
    "plt.show()"
   ]
  },
  {
   "cell_type": "code",
   "execution_count": 17,
   "metadata": {},
   "outputs": [
    {
     "data": {
      "text/plain": [
       "(60000, 784)"
      ]
     },
     "execution_count": 17,
     "metadata": {},
     "output_type": "execute_result"
    }
   ],
   "source": [
    "X_train.shape"
   ]
  },
  {
   "cell_type": "code",
   "execution_count": 8,
   "metadata": {},
   "outputs": [],
   "source": [
    "# 預處理\n",
    "# reshape from (60000, 28, 28) to (60000, 784)\n",
    "X_train = X_train.reshape(X_train.shape[0], -1) / 255 \n",
    "X_test = X_test.reshape(X_test.shape[0], -1) / 255 \n",
    "# one-hot encoding\n",
    "y_train = np_utils.to_categorical(y_train, num_classes=10)\n",
    "y_test = np_utils.to_categorical(y_test, num_classes=10)"
   ]
  },
  {
   "cell_type": "code",
   "execution_count": 9,
   "metadata": {},
   "outputs": [
    {
     "data": {
      "text/plain": [
       "(60000, 784)"
      ]
     },
     "execution_count": 9,
     "metadata": {},
     "output_type": "execute_result"
    }
   ],
   "source": [
    "X_train.shape"
   ]
  },
  {
   "cell_type": "code",
   "execution_count": 10,
   "metadata": {},
   "outputs": [
    {
     "data": {
      "text/plain": [
       "array([[ 0.        ,  0.        ,  0.        ,  0.        ,  0.        ,\n",
       "         0.        ,  0.        ,  0.        ,  0.        ,  0.        ,\n",
       "         0.        ,  0.        ,  0.        ,  0.        ,  0.        ,\n",
       "         0.        ,  0.        ,  0.        ,  0.        ,  0.        ,\n",
       "         0.        ,  0.        ,  0.        ,  0.        ,  0.        ,\n",
       "         0.        ,  0.        ,  0.        ,  0.        ,  0.        ,\n",
       "         0.        ,  0.        ,  0.        ,  0.        ,  0.        ,\n",
       "         0.        ,  0.        ,  0.        ,  0.        ,  0.        ,\n",
       "         0.        ,  0.        ,  0.        ,  0.        ,  0.        ,\n",
       "         0.        ,  0.        ,  0.        ,  0.        ,  0.        ,\n",
       "         0.        ,  0.        ,  0.        ,  0.        ,  0.        ,\n",
       "         0.        ,  0.        ,  0.        ,  0.        ,  0.        ,\n",
       "         0.        ,  0.        ,  0.        ,  0.        ,  0.        ,\n",
       "         0.        ,  0.        ,  0.        ,  0.        ,  0.        ,\n",
       "         0.        ,  0.        ,  0.        ,  0.        ,  0.        ,\n",
       "         0.        ,  0.        ,  0.        ,  0.        ,  0.        ,\n",
       "         0.        ,  0.        ,  0.        ,  0.        ,  0.        ,\n",
       "         0.        ,  0.        ,  0.        ,  0.        ,  0.        ,\n",
       "         0.        ,  0.        ,  0.        ,  0.        ,  0.        ,\n",
       "         0.        ,  0.        ,  0.        ,  0.        ,  0.        ,\n",
       "         0.        ,  0.        ,  0.        ,  0.        ,  0.        ,\n",
       "         0.        ,  0.        ,  0.        ,  0.        ,  0.        ,\n",
       "         0.        ,  0.        ,  0.        ,  0.        ,  0.        ,\n",
       "         0.        ,  0.        ,  0.        ,  0.        ,  0.        ,\n",
       "         0.        ,  0.        ,  0.        ,  0.        ,  0.        ,\n",
       "         0.        ,  0.        ,  0.        ,  0.        ,  0.        ,\n",
       "         0.        ,  0.        ,  0.        ,  0.        ,  0.        ,\n",
       "         0.        ,  0.        ,  0.        ,  0.        ,  0.        ,\n",
       "         0.        ,  0.        ,  0.        ,  0.        ,  0.        ,\n",
       "         0.        ,  0.        ,  0.        ,  0.        ,  0.        ,\n",
       "         0.        ,  0.        ,  0.01176471,  0.07058824,  0.07058824,\n",
       "         0.07058824,  0.49411765,  0.53333333,  0.68627451,  0.10196078,\n",
       "         0.65098039,  1.        ,  0.96862745,  0.49803922,  0.        ,\n",
       "         0.        ,  0.        ,  0.        ,  0.        ,  0.        ,\n",
       "         0.        ,  0.        ,  0.        ,  0.        ,  0.        ,\n",
       "         0.        ,  0.11764706,  0.14117647,  0.36862745,  0.60392157,\n",
       "         0.66666667,  0.99215686,  0.99215686,  0.99215686,  0.99215686,\n",
       "         0.99215686,  0.88235294,  0.6745098 ,  0.99215686,  0.94901961,\n",
       "         0.76470588,  0.25098039,  0.        ,  0.        ,  0.        ,\n",
       "         0.        ,  0.        ,  0.        ,  0.        ,  0.        ,\n",
       "         0.        ,  0.        ,  0.        ,  0.19215686,  0.93333333,\n",
       "         0.99215686,  0.99215686,  0.99215686,  0.99215686,  0.99215686,\n",
       "         0.99215686,  0.99215686,  0.99215686,  0.98431373,  0.36470588,\n",
       "         0.32156863,  0.32156863,  0.21960784,  0.15294118,  0.        ,\n",
       "         0.        ,  0.        ,  0.        ,  0.        ,  0.        ,\n",
       "         0.        ,  0.        ,  0.        ,  0.        ,  0.        ,\n",
       "         0.        ,  0.07058824,  0.85882353,  0.99215686,  0.99215686,\n",
       "         0.99215686,  0.99215686,  0.99215686,  0.77647059,  0.71372549,\n",
       "         0.96862745,  0.94509804,  0.        ,  0.        ,  0.        ,\n",
       "         0.        ,  0.        ,  0.        ,  0.        ,  0.        ,\n",
       "         0.        ,  0.        ,  0.        ,  0.        ,  0.        ,\n",
       "         0.        ,  0.        ,  0.        ,  0.        ,  0.        ,\n",
       "         0.31372549,  0.61176471,  0.41960784,  0.99215686,  0.99215686,\n",
       "         0.80392157,  0.04313725,  0.        ,  0.16862745,  0.60392157,\n",
       "         0.        ,  0.        ,  0.        ,  0.        ,  0.        ,\n",
       "         0.        ,  0.        ,  0.        ,  0.        ,  0.        ,\n",
       "         0.        ,  0.        ,  0.        ,  0.        ,  0.        ,\n",
       "         0.        ,  0.        ,  0.        ,  0.        ,  0.05490196,\n",
       "         0.00392157,  0.60392157,  0.99215686,  0.35294118,  0.        ,\n",
       "         0.        ,  0.        ,  0.        ,  0.        ,  0.        ,\n",
       "         0.        ,  0.        ,  0.        ,  0.        ,  0.        ,\n",
       "         0.        ,  0.        ,  0.        ,  0.        ,  0.        ,\n",
       "         0.        ,  0.        ,  0.        ,  0.        ,  0.        ,\n",
       "         0.        ,  0.        ,  0.        ,  0.        ,  0.54509804,\n",
       "         0.99215686,  0.74509804,  0.00784314,  0.        ,  0.        ,\n",
       "         0.        ,  0.        ,  0.        ,  0.        ,  0.        ,\n",
       "         0.        ,  0.        ,  0.        ,  0.        ,  0.        ,\n",
       "         0.        ,  0.        ,  0.        ,  0.        ,  0.        ,\n",
       "         0.        ,  0.        ,  0.        ,  0.        ,  0.        ,\n",
       "         0.        ,  0.        ,  0.04313725,  0.74509804,  0.99215686,\n",
       "         0.2745098 ,  0.        ,  0.        ,  0.        ,  0.        ,\n",
       "         0.        ,  0.        ,  0.        ,  0.        ,  0.        ,\n",
       "         0.        ,  0.        ,  0.        ,  0.        ,  0.        ,\n",
       "         0.        ,  0.        ,  0.        ,  0.        ,  0.        ,\n",
       "         0.        ,  0.        ,  0.        ,  0.        ,  0.        ,\n",
       "         0.        ,  0.1372549 ,  0.94509804,  0.88235294,  0.62745098,\n",
       "         0.42352941,  0.00392157,  0.        ,  0.        ,  0.        ,\n",
       "         0.        ,  0.        ,  0.        ,  0.        ,  0.        ,\n",
       "         0.        ,  0.        ,  0.        ,  0.        ,  0.        ,\n",
       "         0.        ,  0.        ,  0.        ,  0.        ,  0.        ,\n",
       "         0.        ,  0.        ,  0.        ,  0.        ,  0.        ,\n",
       "         0.31764706,  0.94117647,  0.99215686,  0.99215686,  0.46666667,\n",
       "         0.09803922,  0.        ,  0.        ,  0.        ,  0.        ,\n",
       "         0.        ,  0.        ,  0.        ,  0.        ,  0.        ,\n",
       "         0.        ,  0.        ,  0.        ,  0.        ,  0.        ,\n",
       "         0.        ,  0.        ,  0.        ,  0.        ,  0.        ,\n",
       "         0.        ,  0.        ,  0.        ,  0.        ,  0.17647059,\n",
       "         0.72941176,  0.99215686,  0.99215686,  0.58823529,  0.10588235,\n",
       "         0.        ,  0.        ,  0.        ,  0.        ,  0.        ,\n",
       "         0.        ,  0.        ,  0.        ,  0.        ,  0.        ,\n",
       "         0.        ,  0.        ,  0.        ,  0.        ,  0.        ,\n",
       "         0.        ,  0.        ,  0.        ,  0.        ,  0.        ,\n",
       "         0.        ,  0.        ,  0.        ,  0.0627451 ,  0.36470588,\n",
       "         0.98823529,  0.99215686,  0.73333333,  0.        ,  0.        ,\n",
       "         0.        ,  0.        ,  0.        ,  0.        ,  0.        ,\n",
       "         0.        ,  0.        ,  0.        ,  0.        ,  0.        ,\n",
       "         0.        ,  0.        ,  0.        ,  0.        ,  0.        ,\n",
       "         0.        ,  0.        ,  0.        ,  0.        ,  0.        ,\n",
       "         0.        ,  0.        ,  0.        ,  0.97647059,  0.99215686,\n",
       "         0.97647059,  0.25098039,  0.        ,  0.        ,  0.        ,\n",
       "         0.        ,  0.        ,  0.        ,  0.        ,  0.        ,\n",
       "         0.        ,  0.        ,  0.        ,  0.        ,  0.        ,\n",
       "         0.        ,  0.        ,  0.        ,  0.        ,  0.        ,\n",
       "         0.        ,  0.        ,  0.        ,  0.18039216,  0.50980392,\n",
       "         0.71764706,  0.99215686,  0.99215686,  0.81176471,  0.00784314,\n",
       "         0.        ,  0.        ,  0.        ,  0.        ,  0.        ,\n",
       "         0.        ,  0.        ,  0.        ,  0.        ,  0.        ,\n",
       "         0.        ,  0.        ,  0.        ,  0.        ,  0.        ,\n",
       "         0.        ,  0.        ,  0.        ,  0.        ,  0.15294118,\n",
       "         0.58039216,  0.89803922,  0.99215686,  0.99215686,  0.99215686,\n",
       "         0.98039216,  0.71372549,  0.        ,  0.        ,  0.        ,\n",
       "         0.        ,  0.        ,  0.        ,  0.        ,  0.        ,\n",
       "         0.        ,  0.        ,  0.        ,  0.        ,  0.        ,\n",
       "         0.        ,  0.        ,  0.        ,  0.        ,  0.        ,\n",
       "         0.09411765,  0.44705882,  0.86666667,  0.99215686,  0.99215686,\n",
       "         0.99215686,  0.99215686,  0.78823529,  0.30588235,  0.        ,\n",
       "         0.        ,  0.        ,  0.        ,  0.        ,  0.        ,\n",
       "         0.        ,  0.        ,  0.        ,  0.        ,  0.        ,\n",
       "         0.        ,  0.        ,  0.        ,  0.        ,  0.        ,\n",
       "         0.        ,  0.09019608,  0.25882353,  0.83529412,  0.99215686,\n",
       "         0.99215686,  0.99215686,  0.99215686,  0.77647059,  0.31764706,\n",
       "         0.00784314,  0.        ,  0.        ,  0.        ,  0.        ,\n",
       "         0.        ,  0.        ,  0.        ,  0.        ,  0.        ,\n",
       "         0.        ,  0.        ,  0.        ,  0.        ,  0.        ,\n",
       "         0.        ,  0.        ,  0.07058824,  0.67058824,  0.85882353,\n",
       "         0.99215686,  0.99215686,  0.99215686,  0.99215686,  0.76470588,\n",
       "         0.31372549,  0.03529412,  0.        ,  0.        ,  0.        ,\n",
       "         0.        ,  0.        ,  0.        ,  0.        ,  0.        ,\n",
       "         0.        ,  0.        ,  0.        ,  0.        ,  0.        ,\n",
       "         0.        ,  0.        ,  0.        ,  0.21568627,  0.6745098 ,\n",
       "         0.88627451,  0.99215686,  0.99215686,  0.99215686,  0.99215686,\n",
       "         0.95686275,  0.52156863,  0.04313725,  0.        ,  0.        ,\n",
       "         0.        ,  0.        ,  0.        ,  0.        ,  0.        ,\n",
       "         0.        ,  0.        ,  0.        ,  0.        ,  0.        ,\n",
       "         0.        ,  0.        ,  0.        ,  0.        ,  0.        ,\n",
       "         0.        ,  0.53333333,  0.99215686,  0.99215686,  0.99215686,\n",
       "         0.83137255,  0.52941176,  0.51764706,  0.0627451 ,  0.        ,\n",
       "         0.        ,  0.        ,  0.        ,  0.        ,  0.        ,\n",
       "         0.        ,  0.        ,  0.        ,  0.        ,  0.        ,\n",
       "         0.        ,  0.        ,  0.        ,  0.        ,  0.        ,\n",
       "         0.        ,  0.        ,  0.        ,  0.        ,  0.        ,\n",
       "         0.        ,  0.        ,  0.        ,  0.        ,  0.        ,\n",
       "         0.        ,  0.        ,  0.        ,  0.        ,  0.        ,\n",
       "         0.        ,  0.        ,  0.        ,  0.        ,  0.        ,\n",
       "         0.        ,  0.        ,  0.        ,  0.        ,  0.        ,\n",
       "         0.        ,  0.        ,  0.        ,  0.        ,  0.        ,\n",
       "         0.        ,  0.        ,  0.        ,  0.        ,  0.        ,\n",
       "         0.        ,  0.        ,  0.        ,  0.        ,  0.        ,\n",
       "         0.        ,  0.        ,  0.        ,  0.        ,  0.        ,\n",
       "         0.        ,  0.        ,  0.        ,  0.        ,  0.        ,\n",
       "         0.        ,  0.        ,  0.        ,  0.        ,  0.        ,\n",
       "         0.        ,  0.        ,  0.        ,  0.        ,  0.        ,\n",
       "         0.        ,  0.        ,  0.        ,  0.        ,  0.        ,\n",
       "         0.        ,  0.        ,  0.        ,  0.        ,  0.        ,\n",
       "         0.        ,  0.        ,  0.        ,  0.        ,  0.        ,\n",
       "         0.        ,  0.        ,  0.        ,  0.        ,  0.        ,\n",
       "         0.        ,  0.        ,  0.        ,  0.        ]])"
      ]
     },
     "execution_count": 10,
     "metadata": {},
     "output_type": "execute_result"
    }
   ],
   "source": [
    "X_train[:1]"
   ]
  },
  {
   "cell_type": "code",
   "execution_count": 11,
   "metadata": {},
   "outputs": [
    {
     "data": {
      "text/plain": [
       "array([[ 0.,  0.,  0.,  0.,  0.,  1.,  0.,  0.,  0.,  0.]])"
      ]
     },
     "execution_count": 11,
     "metadata": {},
     "output_type": "execute_result"
    }
   ],
   "source": [
    "y_train[:1]"
   ]
  },
  {
   "cell_type": "code",
   "execution_count": 12,
   "metadata": {},
   "outputs": [
    {
     "name": "stdout",
     "output_type": "stream",
     "text": [
      "(60000, 784)\n",
      "(60000, 10)\n"
     ]
    }
   ],
   "source": [
    "print(X_train.shape)\n",
    "print(y_train.shape)"
   ]
  },
  {
   "cell_type": "markdown",
   "metadata": {},
   "source": [
    "# Classifier & Tuning hyperparameters"
   ]
  },
  {
   "cell_type": "code",
   "execution_count": 13,
   "metadata": {},
   "outputs": [],
   "source": [
    "import matplotlib.pyplot as plt\n",
    "\n",
    "def train(batch_size):\n",
    "    model = Sequential()\n",
    "    model.add(Dense(256, input_dim=784, activation='relu', kernel_initializer='normal'))\n",
    "    model.add(Dense(10, activation='softmax', kernel_initializer='normal'))\n",
    "    model.compile(optimizer='adam', loss='categorical_crossentropy', metrics=['accuracy'])\n",
    "    history = model.fit(X_train, y_train, epochs=5, batch_size=batch_size, validation_split=0.2, verbose=0)\n",
    "    return history\n",
    "\n",
    "def plot_train_history(history, train_metrics, val_metrics, batch_size):\n",
    "    plt.plot(history.history.get(train_metrics),'-o')\n",
    "    plt.plot(history.history.get(val_metrics),'-o')\n",
    "    plt.ylabel(train_metrics)\n",
    "    plt.xlabel('Epochs')\n",
    "    plt.legend(['train', 'validation'])\n",
    "    plt.title('batch_size=' + str(batch_size))"
   ]
  },
  {
   "cell_type": "code",
   "execution_count": 14,
   "metadata": {},
   "outputs": [
    {
     "data": {
      "image/png": "[encoded data removed]",
      "text/plain": [
       "<Figure size 864x288 with 2 Axes>"
      ]
     },
     "metadata": {},
     "output_type": "display_data"
    },
    {
     "data": {
      "image/png": "[encoded data removed]",
      "text/plain": [
       "<Figure size 864x288 with 2 Axes>"
      ]
     },
     "metadata": {},
     "output_type": "display_data"
    },
    {
     "data": {
      "image/png": "[encoded data removed]",
      "text/plain": [
       "<Figure size 864x288 with 2 Axes>"
      ]
     },
     "metadata": {},
     "output_type": "display_data"
    }
   ],
   "source": [
    "%matplotlib inline\n",
    "#batch_size_list = np.arange(100,3000,1000)\n",
    "batch_size_list = [10,100,1000]\n",
    "#batch_size_list = [1000]\n",
    "for batch_size in batch_size_list:\n",
    "    history = train(batch_size)\n",
    "    \n",
    "    plt.figure(figsize=(12,4))\n",
    "    plt.subplot(1,2,1)\n",
    "    plot_train_history(history, 'loss','val_loss', batch_size)\n",
    "    plt.subplot(1,2,2)\n",
    "    plot_train_history(history, 'acc','val_acc', batch_size)"
   ]
  },
  {
   "cell_type": "markdown",
   "metadata": {},
   "source": [
    "# Keras + sklearn Kfold"
   ]
  },
  {
   "cell_type": "code",
   "execution_count": 19,
   "metadata": {},
   "outputs": [
    {
     "name": "stdout",
     "output_type": "stream",
     "text": [
      "Automatically created module for IPython interactive environment\n"
     ]
    }
   ],
   "source": [
    "# Scikit-Learn 官網作圖函式\n",
    "print(__doc__)\n",
    "\n",
    "import numpy as np\n",
    "import matplotlib.pyplot as plt\n",
    "from sklearn.naive_bayes import GaussianNB\n",
    "from sklearn.svm import SVC\n",
    "from sklearn.datasets import load_digits\n",
    "from sklearn.model_selection import learning_curve\n",
    "from sklearn.model_selection import ShuffleSplit\n",
    "\n",
    "\n",
    "def plot_learning_curve(estimator, title, X, y, ylim=None, cv=None,\n",
    "                        n_jobs=1, train_sizes=np.linspace(.1, 1.0, 5)):\n",
    "    plt.figure(figsize=(10,6))  #調整作圖大小\n",
    "    plt.title(title)\n",
    "    if ylim is not None:\n",
    "        plt.ylim(*ylim)\n",
    "    plt.xlabel(\"Training examples\")\n",
    "    plt.ylabel(\"acc\")\n",
    "    train_sizes, train_scores, test_scores = learning_curve(\n",
    "        estimator, X, y, cv=cv, n_jobs=n_jobs, train_sizes=train_sizes)\n",
    "    train_scores_mean = np.mean(train_scores, axis=1)\n",
    "    train_scores_std = np.std(train_scores, axis=1)\n",
    "    test_scores_mean = np.mean(test_scores, axis=1)\n",
    "    test_scores_std = np.std(test_scores, axis=1)\n",
    "    plt.grid()\n",
    "\n",
    "    plt.fill_between(train_sizes, train_scores_mean - train_scores_std,\n",
    "                     train_scores_mean + train_scores_std, alpha=0.1,\n",
    "                     color=\"r\")\n",
    "    plt.fill_between(train_sizes, test_scores_mean - test_scores_std,\n",
    "                     test_scores_mean + test_scores_std, alpha=0.1, color=\"g\")\n",
    "    plt.plot(train_sizes, train_scores_mean, 'o-', color=\"r\",\n",
    "             label=\"Training score\")\n",
    "    plt.plot(train_sizes, test_scores_mean, 'o-', color=\"g\",\n",
    "             label=\"Cross-validation score\")\n",
    "\n",
    "    plt.legend(loc=\"best\")\n",
    "    return plt"
   ]
  },
  {
   "cell_type": "code",
   "execution_count": 20,
   "metadata": {},
   "outputs": [],
   "source": [
    "def MLP_model():\n",
    "    model = Sequential()\n",
    "    model.add(Dense(256, input_dim=784, activation='relu', kernel_initializer='normal'))\n",
    "    model.add(Dense(10, activation='softmax', kernel_initializer='normal'))\n",
    "    model.compile(optimizer='adam', loss='categorical_crossentropy', metrics=['accuracy'])\n",
    "    return model"
   ]
  },
  {
   "cell_type": "code",
   "execution_count": null,
   "metadata": {},
   "outputs": [
    {
     "name": "stdout",
     "output_type": "stream",
     "text": [
      "Epoch 1/1\n",
      "10800/10800 [==============================] - 2s 207us/step - loss: 0.9063 - acc: 0.7702\n",
      "6000/6000 [==============================] - 1s 111us/step\n",
      "10800/10800 [==============================] - 1s 63us/step\n",
      "Epoch 1/1\n",
      "21600/21600 [==============================] - 4s 181us/step - loss: 0.6333 - acc: 0.8378\n",
      "6000/6000 [==============================] - 0s 80us/step\n",
      "21600/21600 [==============================] - 1s 56us/step\n",
      "Epoch 1/1\n",
      "32400/32400 [==============================] - 6s 177us/step - loss: 0.5197 - acc: 0.8628\n",
      "6000/6000 [==============================] - 1s 106us/step\n",
      "32400/32400 [==============================] - 2s 69us/step\n",
      "Epoch 1/1\n",
      "43200/43200 [==============================] - 7s 171us/step - loss: 0.4634 - acc: 0.8768\n",
      "6000/6000 [==============================] - 1s 109us/step\n",
      "43200/43200 [==============================] - 3s 65us/step\n",
      "Epoch 1/1\n",
      "54000/54000 [==============================] - 9s 162us/step - loss: 0.4167 - acc: 0.8895\n",
      "6000/6000 [==============================] - 1s 145us/step\n",
      "54000/54000 [==============================] - 3s 57us/step\n",
      "Epoch 1/1\n",
      "10800/10800 [==============================] - 2s 183us/step - loss: 0.8667 - acc: 0.7919\n",
      "6000/6000 [==============================] - 1s 114us/step\n",
      "10800/10800 [==============================] - 1s 52us/step\n",
      "Epoch 1/1\n",
      "21600/21600 [==============================] - 4s 169us/step - loss: 0.6306 - acc: 0.8356\n",
      "6000/6000 [==============================] - 1s 131us/step\n",
      "21600/21600 [==============================] - 1s 61us/step\n",
      "Epoch 1/1\n",
      "32400/32400 [==============================] - 7s 202us/step - loss: 0.5177 - acc: 0.8665\n",
      "6000/6000 [==============================] - 1s 178us/step\n",
      "32400/32400 [==============================] - 3s 86us/step\n",
      "Epoch 1/1\n",
      "43200/43200 [==============================] - 8s 177us/step - loss: 0.4611 - acc: 0.8762\n",
      "6000/6000 [==============================] - 1s 149us/step\n",
      "43200/43200 [==============================] - 2s 58us/step\n",
      "Epoch 1/1\n",
      "54000/54000 [==============================] - 10s 193us/step - loss: 0.4136 - acc: 0.8882\n",
      "6000/6000 [==============================] - 1s 159us/step\n",
      "54000/54000 [==============================] - 3s 61us/step\n",
      "Epoch 1/1\n",
      "10800/10800 [==============================] - 3s 268us/step - loss: 0.8821 - acc: 0.7829\n",
      "6000/6000 [==============================] - 1s 138us/step\n",
      "10800/10800 [==============================] - 1s 52us/step\n",
      "Epoch 1/1\n",
      "21600/21600 [==============================] - 5s 226us/step - loss: 0.6342 - acc: 0.8371\n",
      "6000/6000 [==============================] - 1s 207us/step\n",
      "21600/21600 [==============================] - 2s 76us/step\n",
      "Epoch 1/1\n",
      "32400/32400 [==============================] - 7s 212us/step - loss: 0.5149 - acc: 0.8652\n",
      "6000/6000 [==============================] - 1s 186us/step\n",
      "32400/32400 [==============================] - 2s 51us/step\n",
      "Epoch 1/1\n",
      "43200/43200 [==============================] - 7s 168us/step - loss: 0.4600 - acc: 0.8780\n",
      "6000/6000 [==============================] - 1s 138us/step\n",
      "43200/43200 [==============================] - 3s 68us/step\n",
      "Epoch 1/1\n",
      "54000/54000 [==============================] - 10s 182us/step - loss: 0.4118 - acc: 0.8899\n",
      "6000/6000 [==============================] - 1s 187us/step\n",
      "54000/54000 [==============================] - 3s 55us/step\n",
      "Epoch 1/1\n",
      "10800/10800 [==============================] - 3s 299us/step - loss: 0.8950 - acc: 0.7768\n",
      "6000/6000 [==============================] - 1s 175us/step\n",
      "10800/10800 [==============================] - 1s 51us/step\n",
      "Epoch 1/1\n",
      "21600/21600 [==============================] - 5s 243us/step - loss: 0.6354 - acc: 0.8426\n",
      "6000/6000 [==============================] - 1s 172us/step\n",
      "21600/21600 [==============================] - 1s 62us/step\n",
      "Epoch 1/1\n",
      "32400/32400 [==============================] - 6s 194us/step - loss: 0.5203 - acc: 0.8655\n",
      "6000/6000 [==============================] - 1s 184us/step\n",
      "32400/32400 [==============================] - 2s 61us/step\n",
      "Epoch 1/1\n",
      "43200/43200 [==============================] - 9s 199us/step - loss: 0.4542 - acc: 0.8811\n",
      "6000/6000 [==============================] - 1s 237us/step\n",
      "43200/43200 [==============================] - 3s 65us/step\n",
      "Epoch 1/1\n",
      "54000/54000 [==============================] - 10s 189us/step - loss: 0.4132 - acc: 0.8904\n",
      "6000/6000 [==============================] - 2s 262us/step\n",
      "54000/54000 [==============================] - 3s 55us/step\n",
      "Epoch 1/1\n",
      "10800/10800 [==============================] - 4s 399us/step - loss: 0.8623 - acc: 0.7904\n",
      "6000/6000 [==============================] - 1s 220us/step\n",
      "10800/10800 [==============================] - 1s 61us/step\n",
      "Epoch 1/1\n",
      "21600/21600 [==============================] - 6s 265us/step - loss: 0.6278 - acc: 0.8381\n",
      "6000/6000 [==============================] - 2s 305us/step\n",
      "21600/21600 [==============================] - 1s 58us/step\n",
      "Epoch 1/1\n",
      "32400/32400 [==============================] - 8s 239us/step - loss: 0.5249 - acc: 0.8633\n",
      "6000/6000 [==============================] - 1s 220us/step\n",
      "32400/32400 [==============================] - 3s 81us/step\n",
      "Epoch 1/1\n",
      "43200/43200 [==============================] - 9s 204us/step - loss: 0.4574 - acc: 0.8780\n",
      "6000/6000 [==============================] - 1s 211us/step\n",
      "43200/43200 [==============================] - 3s 58us/step\n",
      "Epoch 1/1\n",
      "54000/54000 [==============================] - 11s 204us/step - loss: 0.4107 - acc: 0.8929\n",
      "6000/6000 [==============================] - 1s 192us/step\n",
      "54000/54000 [==============================] - 3s 56us/step\n",
      "Epoch 1/1\n",
      "10800/10800 [==============================] - 4s 403us/step - loss: 0.8944 - acc: 0.7800\n",
      "6000/6000 [==============================] - 2s 278us/step\n",
      "10800/10800 [==============================] - 1s 56us/step\n",
      "Epoch 1/1\n",
      "21600/21600 [==============================] - 6s 260us/step - loss: 0.6279 - acc: 0.8388\n",
      "6000/6000 [==============================] - 2s 285us/step\n",
      "21600/21600 [==============================] - 1s 53us/step\n",
      "Epoch 1/1\n",
      "32400/32400 [==============================] - 9s 266us/step - loss: 0.5158 - acc: 0.8658\n",
      "6000/6000 [==============================] - 1s 244us/step\n",
      "32400/32400 [==============================] - 2s 48us/step\n",
      "Epoch 1/1\n",
      "43200/43200 [==============================] - 9s 216us/step - loss: 0.4596 - acc: 0.8770\n",
      "6000/6000 [==============================] - 1s 216us/step\n",
      "43200/43200 [==============================] - 3s 59us/step\n",
      "Epoch 1/1\n",
      "54000/54000 [==============================] - 12s 221us/step - loss: 0.4065 - acc: 0.8914\n",
      "6000/6000 [==============================] - 2s 275us/step\n",
      "54000/54000 [==============================] - 3s 56us/step\n",
      "Epoch 1/1\n",
      "10800/10800 [==============================] - 4s 406us/step - loss: 0.8884 - acc: 0.7827\n",
      "6000/6000 [==============================] - 2s 317us/step\n",
      "10800/10800 [==============================] - 1s 61us/step\n",
      "Epoch 1/1\n",
      "21600/21600 [==============================] - 5s 246us/step - loss: 0.6277 - acc: 0.8414\n",
      "6000/6000 [==============================] - 2s 319us/step\n",
      "21600/21600 [==============================] - 1s 58us/step\n",
      "Epoch 1/1\n",
      "32400/32400 [==============================] - 8s 261us/step - loss: 0.5183 - acc: 0.8629\n",
      "6000/6000 [==============================] - 3s 428us/step\n",
      "32400/32400 [==============================] - 2s 61us/step\n",
      "Epoch 1/1\n",
      "43200/43200 [==============================] - 11s 256us/step - loss: 0.4625 - acc: 0.8764\n",
      "6000/6000 [==============================] - 3s 515us/step\n",
      "43200/43200 [==============================] - 3s 63us/step\n",
      "Epoch 1/1\n",
      "54000/54000 [==============================] - 13s 243us/step - loss: 0.4013 - acc: 0.8935\n",
      "6000/6000 [==============================] - 3s 431us/step\n",
      "54000/54000 [==============================] - 3s 61us/step\n",
      "Epoch 1/1\n",
      "10800/10800 [==============================] - 4s 397us/step - loss: 0.8858 - acc: 0.7890\n",
      "6000/6000 [==============================] - 2s 268us/step\n",
      "10800/10800 [==============================] - 1s 52us/step\n",
      "Epoch 1/1\n",
      "21600/21600 [==============================] - 6s 267us/step - loss: 0.6400 - acc: 0.8393\n",
      "6000/6000 [==============================] - 2s 267us/step\n",
      "21600/21600 [==============================] - 1s 57us/step\n",
      "Epoch 1/1\n"
     ]
    },
    {
     "name": "stdout",
     "output_type": "stream",
     "text": [
      "32400/32400 [==============================] - 7s 217us/step - loss: 0.5241 - acc: 0.8623\n",
      "6000/6000 [==============================] - 1s 246us/step\n",
      "32400/32400 [==============================] - 2s 57us/step\n",
      "Epoch 1/1\n",
      "43200/43200 [==============================] - 9s 215us/step - loss: 0.4640 - acc: 0.8762\n",
      "6000/6000 [==============================] - 2s 305us/step\n",
      "43200/43200 [==============================] - 2s 57us/step\n",
      "Epoch 1/1\n",
      "54000/54000 [==============================] - 11s 205us/step - loss: 0.4171 - acc: 0.8882\n",
      "6000/6000 [==============================] - 2s 291us/step\n",
      "54000/54000 [==============================] - 3s 54us/step\n",
      "Epoch 1/1\n",
      "10800/10800 [==============================] - 4s 358us/step - loss: 0.8777 - acc: 0.7880\n",
      "6000/6000 [==============================] - 1s 249us/step\n",
      "10800/10800 [==============================] - 1s 62us/step\n",
      "Epoch 1/1\n",
      "21600/21600 [==============================] - 6s 280us/step - loss: 0.6422 - acc: 0.8354\n",
      "6000/6000 [==============================] - 2s 300us/step\n",
      "21600/21600 [==============================] - 1s 54us/step\n",
      "Epoch 1/1\n",
      "32400/32400 [==============================] - 8s 235us/step - loss: 0.5189 - acc: 0.8646\n",
      "6000/6000 [==============================] - 2s 287us/step\n",
      "32400/32400 [==============================] - 2s 52us/step\n",
      "Epoch 1/1\n",
      "31600/43200 [====================>.........] - ETA: 2s - loss: 0.5356 - acc: 0.8593"
     ]
    }
   ],
   "source": [
    "from keras.wrappers.scikit_learn import KerasClassifier\n",
    "from sklearn.model_selection import KFold\n",
    "\n",
    "cv = KFold(n_splits=10, random_state=None, shuffle=True)\n",
    "estimator = KerasClassifier(build_fn=MLP_model, nb_epoch=3, batch_size=200)\n",
    "\n",
    "plot_learning_curve(estimator, \"MLP with Keras\", X_train, y_train, cv=cv, train_sizes=np.linspace(0.2, 1.0, 5),)"
   ]
  },
  {
   "cell_type": "code",
   "execution_count": null,
   "metadata": {},
   "outputs": [],
   "source": []
  }
 ],
 "metadata": {
  "kernelspec": {
   "display_name": "Python 3",
   "language": "python",
   "name": "python3"
  },
  "language_info": {
   "codemirror_mode": {
    "name": "ipython",
    "version": 3
   },
   "file_extension": ".py",
   "mimetype": "text/x-python",
   "name": "python",
   "nbconvert_exporter": "python",
   "pygments_lexer": "ipython3",
   "version": "3.5.5"
  }
 },
 "nbformat": 4,
 "nbformat_minor": 2
}
